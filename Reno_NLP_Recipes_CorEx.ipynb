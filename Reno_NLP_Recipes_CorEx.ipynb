{
 "cells": [
  {
   "cell_type": "markdown",
   "id": "37ceb30a",
   "metadata": {},
   "source": [
    "## Exploring CorEx on Recipe Topic Generation\n",
    "\n",
    "Guide [here](https://github.com/gregversteeg/corex_topic/blob/master/corextopic/example/corex_topic_example.ipynb)\n",
    "\n"
   ]
  },
  {
   "cell_type": "code",
   "execution_count": 6,
   "id": "d43fb349",
   "metadata": {},
   "outputs": [],
   "source": [
    "import numpy as np\n",
    "import scipy.sparse as ss\n",
    "import matplotlib.pyplot as plt\n",
    "\n",
    "import corextopic.corextopic as ct\n",
    "import corextopic.vis_topic as vt # jupyter notebooks will complain matplotlib is being loaded twice\n",
    "\n",
    "from sklearn.feature_extraction.text import CountVectorizer\n",
    "\n",
    "%matplotlib inline"
   ]
  },
  {
   "cell_type": "code",
   "execution_count": 7,
   "id": "674fd643",
   "metadata": {},
   "outputs": [],
   "source": [
    "df = pd.read_csv('Recipe_Recommendation/dataset/Recipe_sample_dataset_small.csv')"
   ]
  },
  {
   "cell_type": "code",
   "execution_count": 9,
   "id": "482b1fce",
   "metadata": {},
   "outputs": [],
   "source": [
    "df.drop(columns=['Unnamed: 0','Unnamed: 0.1'],inplace=True)"
   ]
  },
  {
   "cell_type": "code",
   "execution_count": 10,
   "id": "6a7e54c0",
   "metadata": {},
   "outputs": [
    {
     "data": {
      "text/html": [
       "<div>\n",
       "<style scoped>\n",
       "    .dataframe tbody tr th:only-of-type {\n",
       "        vertical-align: middle;\n",
       "    }\n",
       "\n",
       "    .dataframe tbody tr th {\n",
       "        vertical-align: top;\n",
       "    }\n",
       "\n",
       "    .dataframe thead th {\n",
       "        text-align: right;\n",
       "    }\n",
       "</style>\n",
       "<table border=\"1\" class=\"dataframe\">\n",
       "  <thead>\n",
       "    <tr style=\"text-align: right;\">\n",
       "      <th></th>\n",
       "      <th>title</th>\n",
       "      <th>ingredients</th>\n",
       "      <th>directions</th>\n",
       "      <th>link</th>\n",
       "      <th>source</th>\n",
       "      <th>NER</th>\n",
       "    </tr>\n",
       "  </thead>\n",
       "  <tbody>\n",
       "    <tr>\n",
       "      <th>0</th>\n",
       "      <td>Apple Dip</td>\n",
       "      <td>[\"1 (7 oz.) jar Marshmallow Creme\", \"1 (8 oz.)...</td>\n",
       "      <td>[\"Bring cream cheese to room temperature. Mix ...</td>\n",
       "      <td>www.cookbooks.com/Recipe-Details.aspx?id=980881</td>\n",
       "      <td>Gathered</td>\n",
       "      <td>[\"Marshmallow Creme\", \"cream cheese\"]</td>\n",
       "    </tr>\n",
       "    <tr>\n",
       "      <th>1</th>\n",
       "      <td>Wasabi Whipped Potatoes</td>\n",
       "      <td>[\"1 1/2 lb. russet or Yukon gold potatoes, pee...</td>\n",
       "      <td>[\"Place potatoes in large saucepan, cover with...</td>\n",
       "      <td>www.vegetariantimes.com/recipe/wasabi-whipped-...</td>\n",
       "      <td>Recipes1M</td>\n",
       "      <td>[\"russet\", \"low-fat milk\", \"butter\", \"wasabi p...</td>\n",
       "    </tr>\n",
       "    <tr>\n",
       "      <th>2</th>\n",
       "      <td>Caramel Breakfast Rolls</td>\n",
       "      <td>[\"2 (1 lb.) loaves frozen bread dough, thawed\"...</td>\n",
       "      <td>[\"Cut 1 loaf of bread into small pieces; place...</td>\n",
       "      <td>www.cookbooks.com/Recipe-Details.aspx?id=537560</td>\n",
       "      <td>Gathered</td>\n",
       "      <td>[\"bread\", \"brown sugar\", \"regular vanilla pudd...</td>\n",
       "    </tr>\n",
       "    <tr>\n",
       "      <th>3</th>\n",
       "      <td>Egg And Sausage Muffins</td>\n",
       "      <td>[\"1/4 cup cream (half &amp; half)\", \"12 large eggs...</td>\n",
       "      <td>[\"Preheat oven to 350 \\u00b0F (175 \\u00b0C). S...</td>\n",
       "      <td>www.epicurious.com/recipes/member/views/egg-an...</td>\n",
       "      <td>Gathered</td>\n",
       "      <td>[\"cream\", \"eggs\", \"pepper\", \"salt\", \"pork saus...</td>\n",
       "    </tr>\n",
       "    <tr>\n",
       "      <th>4</th>\n",
       "      <td>Taco Soup</td>\n",
       "      <td>[\"2 lb. lean ground beef\", \"1 small onion, cho...</td>\n",
       "      <td>[\"Brown ground beef and onions; drain fat.\", \"...</td>\n",
       "      <td>www.cookbooks.com/Recipe-Details.aspx?id=288957</td>\n",
       "      <td>Gathered</td>\n",
       "      <td>[\"lean ground beef\", \"onion\", \"pintos\", \"kidne...</td>\n",
       "    </tr>\n",
       "  </tbody>\n",
       "</table>\n",
       "</div>"
      ],
      "text/plain": [
       "                      title  \\\n",
       "0                 Apple Dip   \n",
       "1   Wasabi Whipped Potatoes   \n",
       "2   Caramel Breakfast Rolls   \n",
       "3  Egg And Sausage Muffins    \n",
       "4                 Taco Soup   \n",
       "\n",
       "                                         ingredients  \\\n",
       "0  [\"1 (7 oz.) jar Marshmallow Creme\", \"1 (8 oz.)...   \n",
       "1  [\"1 1/2 lb. russet or Yukon gold potatoes, pee...   \n",
       "2  [\"2 (1 lb.) loaves frozen bread dough, thawed\"...   \n",
       "3  [\"1/4 cup cream (half & half)\", \"12 large eggs...   \n",
       "4  [\"2 lb. lean ground beef\", \"1 small onion, cho...   \n",
       "\n",
       "                                          directions  \\\n",
       "0  [\"Bring cream cheese to room temperature. Mix ...   \n",
       "1  [\"Place potatoes in large saucepan, cover with...   \n",
       "2  [\"Cut 1 loaf of bread into small pieces; place...   \n",
       "3  [\"Preheat oven to 350 \\u00b0F (175 \\u00b0C). S...   \n",
       "4  [\"Brown ground beef and onions; drain fat.\", \"...   \n",
       "\n",
       "                                                link     source  \\\n",
       "0    www.cookbooks.com/Recipe-Details.aspx?id=980881   Gathered   \n",
       "1  www.vegetariantimes.com/recipe/wasabi-whipped-...  Recipes1M   \n",
       "2    www.cookbooks.com/Recipe-Details.aspx?id=537560   Gathered   \n",
       "3  www.epicurious.com/recipes/member/views/egg-an...   Gathered   \n",
       "4    www.cookbooks.com/Recipe-Details.aspx?id=288957   Gathered   \n",
       "\n",
       "                                                 NER  \n",
       "0              [\"Marshmallow Creme\", \"cream cheese\"]  \n",
       "1  [\"russet\", \"low-fat milk\", \"butter\", \"wasabi p...  \n",
       "2  [\"bread\", \"brown sugar\", \"regular vanilla pudd...  \n",
       "3  [\"cream\", \"eggs\", \"pepper\", \"salt\", \"pork saus...  \n",
       "4  [\"lean ground beef\", \"onion\", \"pintos\", \"kidne...  "
      ]
     },
     "execution_count": 10,
     "metadata": {},
     "output_type": "execute_result"
    }
   ],
   "source": [
    "df.head()"
   ]
  },
  {
   "cell_type": "code",
   "execution_count": null,
   "id": "a3ae6ecf",
   "metadata": {},
   "outputs": [],
   "source": []
  },
  {
   "cell_type": "code",
   "execution_count": 11,
   "id": "95945198",
   "metadata": {},
   "outputs": [
    {
     "data": {
      "text/plain": [
       "(22311, 8005)"
      ]
     },
     "execution_count": 11,
     "metadata": {},
     "output_type": "execute_result"
    }
   ],
   "source": [
    "# Transform data into a sparse matrix\n",
    "vectorizer = CountVectorizer(stop_words='english', max_features=20000, binary=True)\n",
    "doc_word = vectorizer.fit_transform(df['ingredients'])\n",
    "doc_word = ss.csr_matrix(doc_word)\n",
    "\n",
    "doc_word.shape # n_docs x m_words"
   ]
  },
  {
   "cell_type": "code",
   "execution_count": 12,
   "id": "1d0eaf20",
   "metadata": {},
   "outputs": [],
   "source": [
    "# Get words that label the columns (needed to extract readable topics and make anchoring easier)\n",
    "words = list(np.asarray(vectorizer.get_feature_names()))"
   ]
  },
  {
   "cell_type": "code",
   "execution_count": 13,
   "id": "ceb48631",
   "metadata": {},
   "outputs": [
    {
     "data": {
      "text/plain": [
       "(22311, 7747)"
      ]
     },
     "execution_count": 13,
     "metadata": {},
     "output_type": "execute_result"
    }
   ],
   "source": [
    "not_digit_inds = [ind for ind,word in enumerate(words) if not word.isdigit()]\n",
    "doc_word = doc_word[:,not_digit_inds]\n",
    "words    = [word for ind,word in enumerate(words) if not word.isdigit()]\n",
    "\n",
    "doc_word.shape # n_docs x m_words"
   ]
  },
  {
   "cell_type": "code",
   "execution_count": 15,
   "id": "eccb2725",
   "metadata": {},
   "outputs": [],
   "source": [
    "topic_model = ct.Corex(n_hidden=50, words=words, max_iter=200, verbose=False, seed=1)\n",
    "topic_model.fit(doc_word, words=words);"
   ]
  },
  {
   "cell_type": "code",
   "execution_count": 23,
   "id": "40e5345f",
   "metadata": {},
   "outputs": [
    {
     "data": {
      "text/plain": [
       "[('margarine', 0.16599752441704502, 1.0),\n",
       " ('stick', 0.09580870238632345, 1.0),\n",
       " ('evaporated', 0.003300541261940378, 1.0),\n",
       " ('parkay', 0.0006665423563643539, 1.0),\n",
       " ('person', 0.0002737100692068668, -1.0),\n",
       " ('separate', 0.00018106581395635916, 1.0),\n",
       " ('kroger', 0.00014977991252745361, 1.0),\n",
       " ('times', 0.0001284640558004576, 1.0),\n",
       " ('chewier', 6.368068290979395e-05, 1.0),\n",
       " ('goetze', 6.368068290979395e-05, 1.0)]"
      ]
     },
     "execution_count": 23,
     "metadata": {},
     "output_type": "execute_result"
    }
   ],
   "source": [
    "# Print a single topic from CorEx topic model\n",
    "topic_model.get_topics(topic=45)"
   ]
  },
  {
   "cell_type": "code",
   "execution_count": 17,
   "id": "9469dddd",
   "metadata": {},
   "outputs": [
    {
     "name": "stdout",
     "output_type": "stream",
     "text": [
      "0: cup, teaspoon, tsp, cups, tbsp, teaspoons, ounces, oz, pkg, pound\n",
      "1: flour, baking, purpose, soda, eggs, powder, butter, shortening, egg, yeast\n",
      "2: vanilla, sugar, chocolate, extract, cinnamon, cocoa, powdered, chips, granulated, confectioners\n",
      "3: olive, oil, virgin, fresh, extra, cloves, leaves, finely, balsamic, rosemary\n",
      "4: cheese, cheddar, parmesan, shredded, grated, mozzarella, sharp, cottage, swiss, ricotta\n",
      "5: juice, lemon, orange, lime, zest, oranges, rind, peel, juiced, mandarin\n",
      "6: whip, cool, graham, pineapple, cracker, whipped, gelatin, marshmallows, jello, topping\n",
      "7: cut, inch, pieces, peeled, strips, lengthwise, cubes, halved, bite, removed\n",
      "8: sauce, soy, worcestershire, boneless, skinless, tomato, pork, tabasco, steak, hot\n",
      "9: green, chopped, onions, tomatoes, diced, bell, medium, peppers, drained, carrots\n",
      "10: cream, sour, heavy, soup, mushroom, whipping, softened, tartar, undiluted, dairy\n",
      "11: chicken, broth, cooked, breasts, celery, dressing, rice, salad, stalks, boiled\n",
      "12: seeds, sesame, tofu, parmigiano, reggiano, fennel, mirin, asian, piece, firm\n",
      "13: fat, low, free, sodium, reduced, yogurt, plain, kraft, artichoke, greek\n",
      "14: use, like, add, used, just, depending, want, don, make, good\n",
      "15: beans, kidney, corn, chili, jalapeno, tortillas, lettuce, seeded, chile, pinto\n",
      "16: pepper, garlic, taste, cayenne, paprika, flakes, paste, smoked, ribs, dash\n",
      "17: room, temperature, packed, unsalted, food, firmly, coloring, light, creme, pure\n",
      "18: beef, seasoning, jack, sausage, lean, taco, monterey, noodles, salsa, lasagna\n",
      "19: red, black, cumin, cilantro, leaf, bay, rinsed, coriander, peppercorns, roasted\n",
      "20: store, puff, pastry, sheets, bought, sheet, phyllo, land, lakes, homemade\n",
      "21: wine, white, fillets, fish, stock, salmon, fillet, skin, lamb, anchovy\n",
      "22: plus, kosher, large, sea, recipe, follows, preferably, serving, coarse, coarsely\n",
      "23: pie, filling, crust, shell, unbaked, cherry, baked, spice, crusts, blueberry\n",
      "24: mustard, dijon, vinegar, seed, prepared, dry, poppy, cucumbers, pickle, pickling\n",
      "25: bread, slices, crumbs, bacon, loaf, french, slice, deli, pita, sourdough\n",
      "26: tablespoons, tablespoon, pounds, spray, vegetable, cooking, canola, nonstick, greasing, _____\n",
      "27: sliced, thinly, scallions, dill, weed, spring, cucumber, radishes, torn, greens\n",
      "28: pasta, italian, basil, penne, hair, pesto, bow, spiral, rotini, tie\n",
      "29: mix, cake, box, crackers, ritz, envelope, hines, duncan, jiffy, biscuit\n",
      "30: oats, raisins, rolled, quick, brown, nutmeg, golden, wheat, fashioned, molasses\n",
      "31: syrup, maple, ice, liqueur, fruit, rum, vodka, raspberries, cocktail, popped\n",
      "32: shrimp, flat, parsley, deveined, crabmeat, crab, cleaned, shelled, lump, scallops\n",
      "33: thawed, frozen, possibly, granny, smith, grnd, lowfat, pwdr, sm, frzn\n",
      "34: dried, oregano, thyme, sage, sun, marjoram, cranberries, apricots, romano, tarragon\n",
      "35: ounce, package, packages, refrigerated, packet, triple, sec, fluid, grand, marnier\n",
      "36: apple, cider, ginger, cored, ml, allspice, grams, honey, ale, pears\n",
      "37: onion, lb, small, hamburger, cans, ketchup, catsup, rings, fried, shakes\n",
      "38: halves, breast, peas, pecan, boned, snow, skinned, snap, eyed, chick\n",
      "39: ground, freshly, stone, generous, tomatoe, emmentaler, piquillo, avail, sr, thins\n",
      "40: deep, frying, chipotle, panko, adobo, wrappers, dish, breadcrumbs, fry, wonton\n",
      "41: squash, butternut, zucchini, summer, eggplant, acorn, winter, kabocha, crookneck, pattypan\n",
      "42: minced, clove, clams, med, bottled, florets, littleneck, crimini, lots, sauteing\n",
      "43: crumbled, english, blue, muffins, gorgonzola, crisply, roquefort, kettle, maytag, headnote\n",
      "44: salt, pinch, biscuits, lawry, pouch, deluxe, tbsps, sides, carob, croissant\n",
      "45: margarine, stick, evaporated, parkay, person, separate, kroger, times, chewier, goetze\n",
      "46: asparagus, wide, spears, defrosted, juices, reserved, london, cornish, spear, hens\n",
      "47: ripe, pitted, feta, pressed, roma, steaks, strip, plantains, hass, elk\n",
      "48: split, new, optional, tip, canadian, breakstone, knudsen, yes, desire, york\n",
      "49: raw, bits, beer, real, pillsbury, pack, flake, barley, diet, cola\n"
     ]
    }
   ],
   "source": [
    "# Print all topics from the CorEx topic model\n",
    "topics = topic_model.get_topics()\n",
    "for n,topic in enumerate(topics):\n",
    "    topic_words,_,_ = zip(*topic)\n",
    "    print('{}: '.format(n) + ', '.join(topic_words))"
   ]
  },
  {
   "cell_type": "code",
   "execution_count": 18,
   "id": "f6af514e",
   "metadata": {},
   "outputs": [
    {
     "data": {
      "text/plain": [
       "8.875456925857591"
      ]
     },
     "execution_count": 18,
     "metadata": {},
     "output_type": "execute_result"
    }
   ],
   "source": [
    "topic_model.tc"
   ]
  },
  {
   "cell_type": "code",
   "execution_count": 51,
   "id": "dbd6d43f",
   "metadata": {},
   "outputs": [
    {
     "data": {
      "image/png": "[encoded data removed]",
      "text/plain": [
       "<Figure size 720x360 with 1 Axes>"
      ]
     },
     "metadata": {
      "needs_background": "light"
     },
     "output_type": "display_data"
    }
   ],
   "source": [
    "plt.figure(figsize=(10,5))\n",
    "plt.bar(range(topic_model.tcs.shape[0]), topic_model.tcs, color='#4e79a7', width=0.5)\n",
    "plt.xlabel('Topic', fontsize=16)\n",
    "plt.ylabel('Total Correlation (nats)', fontsize=16);"
   ]
  },
  {
   "cell_type": "code",
   "execution_count": 24,
   "id": "b7b6e348",
   "metadata": {},
   "outputs": [],
   "source": [
    "topic_model10 = ct.Corex(n_hidden=10, words=words, max_iter=200, verbose=False, seed=1)\n",
    "topic_model10.fit(doc_word, words=words);"
   ]
  },
  {
   "cell_type": "code",
   "execution_count": 25,
   "id": "12fa20e3",
   "metadata": {},
   "outputs": [
    {
     "name": "stdout",
     "output_type": "stream",
     "text": [
      "0: sugar, onion, vanilla, chicken, baking, flour, soda, green, chocolate, cheese\n",
      "1: cup, tablespoons, teaspoon, tsp, cups, tbsp, tablespoon, teaspoons, ounces, oz\n",
      "2: pepper, garlic, minced, black, ground, cloves, salt, tomatoes, sauce, chopped\n",
      "3: olive, oil, fresh, virgin, freshly, extra, kosher, dried, cilantro, thyme\n",
      "4: cut, leaves, bay, wine, leaf, inch, soy, pieces, sesame, stock\n",
      "5: red, vinegar, butter, milk, beans, eggs, chili, mustard, peppers, melted\n",
      "6: whip, pie, cool, pudding, graham, mix, whipped, cream, crust, cracker\n",
      "7: purpose, room, temperature, packed, unsalted, brown, oats, granulated, firmly, yeast\n",
      "8: juice, lemon, orange, lime, fat, low, zest, sodium, yogurt, reduced\n",
      "9: thinly, sliced, peeled, large, spray, quartered, squash, vegetable, yellow, cored\n"
     ]
    }
   ],
   "source": [
    "# Print all topics from the CorEx topic model\n",
    "topics10 = topic_model10.get_topics()\n",
    "for n,topic in enumerate(topics10):\n",
    "    topic_words,_,_ = zip(*topic)\n",
    "    print('{}: '.format(n) + ', '.join(topic_words))"
   ]
  },
  {
   "cell_type": "code",
   "execution_count": 26,
   "id": "d9ce5eac",
   "metadata": {},
   "outputs": [
    {
     "data": {
      "text/plain": [
       "7.993253174446666"
      ]
     },
     "execution_count": 26,
     "metadata": {},
     "output_type": "execute_result"
    }
   ],
   "source": [
    "topic_model10.tc"
   ]
  },
  {
   "cell_type": "markdown",
   "id": "10343fcd",
   "metadata": {},
   "source": [
    "#### Notes:\n",
    "\n",
    "Trying hierarchical"
   ]
  },
  {
   "cell_type": "code",
   "execution_count": 52,
   "id": "15de7363",
   "metadata": {},
   "outputs": [],
   "source": [
    "topic_model3 = ct.Corex(n_hidden=10, words=words)\n",
    "topic_model3.fit(doc_word, words=words, anchors=[['sugar','sugar','soda','flour','powder','vanilla','purpose',\\\n",
    "                                                  'chocolate'],'tofu',\\\n",
    "                                                 ['chicken','beef','pork'],['seafood','shrimp','crab','cod',\\\n",
    "                                                                            'salmon','fillet','tuna']],\\\n",
    "                 anchor_strength=4);"
   ]
  },
  {
   "cell_type": "code",
   "execution_count": 53,
   "id": "bd082288",
   "metadata": {},
   "outputs": [
    {
     "data": {
      "text/plain": [
       "12.158880086743178"
      ]
     },
     "execution_count": 53,
     "metadata": {},
     "output_type": "execute_result"
    }
   ],
   "source": [
    "topic_model3.tc"
   ]
  },
  {
   "cell_type": "code",
   "execution_count": 54,
   "id": "667f06e1",
   "metadata": {},
   "outputs": [
    {
     "name": "stdout",
     "output_type": "stream",
     "text": [
      "0: vanilla, flour, sugar, purpose, soda, chocolate, baking, powder, extract, eggs\n",
      "1: olive, oil, fresh, red, cloves, virgin, freshly, leaves, extra, wine\n",
      "2: chicken, beef, pork, broth, boneless, breasts, skinless, breast, stock, bouillon\n",
      "3: shrimp, salmon, tuna, crab, fillet, cod, deveined, seafood, fillets, fish\n",
      "4: juice, lemon, orange, lime, zest, room, temperature, oranges, rind, peel\n",
      "5: pepper, garlic, black, minced, salt, ground, parsley, taste, clove, sliced\n",
      "6: pkg, oz, cream, soup, mix, whip, mushroom, cool, pudding, graham\n",
      "7: onion, cheese, green, tomatoes, chopped, sauce, cheddar, lb, tomato, shredded\n",
      "8: cup, tablespoons, teaspoon, tsp, cups, tablespoon, tbsp, teaspoons, ounces, ounce\n",
      "9: mustard, vinegar, cider, dijon, spray, cooking, seed, dry, apple, ketchup\n"
     ]
    }
   ],
   "source": [
    "# Print all topics from the CorEx topic model\n",
    "topics3 = topic_model3.get_topics()\n",
    "for n,topic in enumerate(topics3):\n",
    "    topic_words,_,_ = zip(*topic)\n",
    "    print('{}: '.format(n) + ', '.join(topic_words))"
   ]
  },
  {
   "cell_type": "code",
   "execution_count": null,
   "id": "f4a7443a",
   "metadata": {},
   "outputs": [],
   "source": []
  },
  {
   "cell_type": "code",
   "execution_count": null,
   "id": "dbbc10ec",
   "metadata": {},
   "outputs": [],
   "source": []
  },
  {
   "cell_type": "code",
   "execution_count": null,
   "id": "0b845e1d",
   "metadata": {},
   "outputs": [],
   "source": []
  },
  {
   "cell_type": "code",
   "execution_count": null,
   "id": "5946e43e",
   "metadata": {},
   "outputs": [],
   "source": []
  }
 ],
 "metadata": {
  "kernelspec": {
   "display_name": "Python 3 (ipykernel)",
   "language": "python",
   "name": "python3"
  },
  "language_info": {
   "codemirror_mode": {
    "name": "ipython",
    "version": 3
   },
   "file_extension": ".py",
   "mimetype": "text/x-python",
   "name": "python",
   "nbconvert_exporter": "python",
   "pygments_lexer": "ipython3",
   "version": "3.9.7"
  }
 },
 "nbformat": 4,
 "nbformat_minor": 5
}
