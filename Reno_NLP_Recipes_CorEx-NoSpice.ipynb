{
 "cells": [
  {
   "cell_type": "markdown",
   "id": "37ceb30a",
   "metadata": {},
   "source": [
    "## Exploring CorEx on Recipe Topic Generation\n",
    "\n",
    "Guide [here](https://github.com/gregversteeg/corex_topic/blob/master/corextopic/example/corex_topic_example.ipynb)\n",
    "\n"
   ]
  },
  {
   "cell_type": "code",
   "execution_count": 3,
   "id": "d43fb349",
   "metadata": {},
   "outputs": [],
   "source": [
    "import numpy as np\n",
    "import pandas as pd\n",
    "import scipy.sparse as ss\n",
    "import matplotlib.pyplot as plt\n",
    "\n",
    "import corextopic.corextopic as ct\n",
    "import corextopic.vis_topic as vt # jupyter notebooks will complain matplotlib is being loaded twice\n",
    "\n",
    "from sklearn.feature_extraction.text import CountVectorizer\n",
    "\n",
    "%matplotlib inline"
   ]
  },
  {
   "cell_type": "code",
   "execution_count": 4,
   "id": "674fd643",
   "metadata": {},
   "outputs": [],
   "source": [
    "df = pd.read_csv('Recipe_Recommendation/dataset/Recipe_sample_dataset_small_heroclean.csv')"
   ]
  },
  {
   "cell_type": "code",
   "execution_count": 5,
   "id": "482b1fce",
   "metadata": {},
   "outputs": [],
   "source": [
    "df.drop(columns=['Unnamed: 0','Unnamed: 0.1'],inplace=True)"
   ]
  },
  {
   "cell_type": "code",
   "execution_count": 6,
   "id": "6a7e54c0",
   "metadata": {},
   "outputs": [
    {
     "data": {
      "text/html": [
       "<div>\n",
       "<style scoped>\n",
       "    .dataframe tbody tr th:only-of-type {\n",
       "        vertical-align: middle;\n",
       "    }\n",
       "\n",
       "    .dataframe tbody tr th {\n",
       "        vertical-align: top;\n",
       "    }\n",
       "\n",
       "    .dataframe thead th {\n",
       "        text-align: right;\n",
       "    }\n",
       "</style>\n",
       "<table border=\"1\" class=\"dataframe\">\n",
       "  <thead>\n",
       "    <tr style=\"text-align: right;\">\n",
       "      <th></th>\n",
       "      <th>title</th>\n",
       "      <th>ingredients</th>\n",
       "      <th>directions</th>\n",
       "      <th>link</th>\n",
       "      <th>source</th>\n",
       "      <th>NER</th>\n",
       "      <th>clean_ingredients</th>\n",
       "      <th>clean_directions</th>\n",
       "      <th>clean_ingredients_spice_r</th>\n",
       "      <th>clean_directions_spice_r</th>\n",
       "    </tr>\n",
       "  </thead>\n",
       "  <tbody>\n",
       "    <tr>\n",
       "      <th>0</th>\n",
       "      <td>Apple Dip</td>\n",
       "      <td>[\"1 (7 oz.) jar Marshmallow Creme\", \"1 (8 oz.)...</td>\n",
       "      <td>[\"Bring cream cheese to room temperature. Mix ...</td>\n",
       "      <td>www.cookbooks.com/Recipe-Details.aspx?id=980881</td>\n",
       "      <td>Gathered</td>\n",
       "      <td>[\"Marshmallow Creme\", \"cream cheese\"]</td>\n",
       "      <td>jar marshmallow creme pkg cream cheese philade...</td>\n",
       "      <td>bring cream cheese room temperature mix marshm...</td>\n",
       "      <td>jar marshmallow creme   cream cheese philadel...</td>\n",
       "      <td>bring cream cheese  temperature mix marshmallo...</td>\n",
       "    </tr>\n",
       "    <tr>\n",
       "      <th>1</th>\n",
       "      <td>Wasabi Whipped Potatoes</td>\n",
       "      <td>[\"1 1/2 lb. russet or Yukon gold potatoes, pee...</td>\n",
       "      <td>[\"Place potatoes in large saucepan, cover with...</td>\n",
       "      <td>www.vegetariantimes.com/recipe/wasabi-whipped-...</td>\n",
       "      <td>Recipes1M</td>\n",
       "      <td>[\"russet\", \"low-fat milk\", \"butter\", \"wasabi p...</td>\n",
       "      <td>russet yukon gold potato inch cube  low fat m...</td>\n",
       "      <td>place potato large saucepan cover cold water s...</td>\n",
       "      <td>russet yukon gold potato       fat milk rice ...</td>\n",
       "      <td>place potato  saucepan  cold   rinse away star...</td>\n",
       "    </tr>\n",
       "    <tr>\n",
       "      <th>2</th>\n",
       "      <td>Caramel Breakfast Rolls</td>\n",
       "      <td>[\"2 (1 lb.) loaves frozen bread dough, thawed\"...</td>\n",
       "      <td>[\"Cut 1 loaf of bread into small pieces; place...</td>\n",
       "      <td>www.cookbooks.com/Recipe-Details.aspx?id=537560</td>\n",
       "      <td>Gathered</td>\n",
       "      <td>[\"bread\", \"brown sugar\", \"regular vanilla pudd...</td>\n",
       "      <td>loaf bread dough  brown sugar pkg regular van...</td>\n",
       "      <td>loaf bread small piece place piece greased x x...</td>\n",
       "      <td>loaf frozen bread dough   firmly  brown sugar...</td>\n",
       "      <td>loaf bread   place  greased      combine brow...</td>\n",
       "    </tr>\n",
       "    <tr>\n",
       "      <th>3</th>\n",
       "      <td>Egg And Sausage Muffins</td>\n",
       "      <td>[\"1/4 cup cream (half &amp; half)\", \"12 large eggs...</td>\n",
       "      <td>[\"Preheat oven to 350 \\u00b0F (175 \\u00b0C). S...</td>\n",
       "      <td>www.epicurious.com/recipes/member/views/egg-an...</td>\n",
       "      <td>Gathered</td>\n",
       "      <td>[\"cream\", \"eggs\", \"pepper\", \"salt\", \"pork saus...</td>\n",
       "      <td>cream half half large egg  pepper  salt  pork...</td>\n",
       "      <td>preheat oven f  spray muffin tin spray like pa...</td>\n",
       "      <td>cream    egg      pork sausage</td>\n",
       "      <td>preheat oven f   muffin tin    pam    bundt mu...</td>\n",
       "    </tr>\n",
       "    <tr>\n",
       "      <th>4</th>\n",
       "      <td>Taco Soup</td>\n",
       "      <td>[\"2 lb. lean ground beef\", \"1 small onion, cho...</td>\n",
       "      <td>[\"Brown ground beef and onions; drain fat.\", \"...</td>\n",
       "      <td>www.cookbooks.com/Recipe-Details.aspx?id=288957</td>\n",
       "      <td>Gathered</td>\n",
       "      <td>[\"lean ground beef\", \"onion\", \"pintos\", \"kidne...</td>\n",
       "      <td>lean ground beef small onion bean l bean    t...</td>\n",
       "      <td>brown ground beef onion fat  boil heat simmer ...</td>\n",
       "      <td>beef  onion   pinto    kidney bean   l  lim...</td>\n",
       "      <td>brown  beef onion  fat  remaining  bring boil ...</td>\n",
       "    </tr>\n",
       "  </tbody>\n",
       "</table>\n",
       "</div>"
      ],
      "text/plain": [
       "                      title  \\\n",
       "0                 Apple Dip   \n",
       "1   Wasabi Whipped Potatoes   \n",
       "2   Caramel Breakfast Rolls   \n",
       "3  Egg And Sausage Muffins    \n",
       "4                 Taco Soup   \n",
       "\n",
       "                                         ingredients  \\\n",
       "0  [\"1 (7 oz.) jar Marshmallow Creme\", \"1 (8 oz.)...   \n",
       "1  [\"1 1/2 lb. russet or Yukon gold potatoes, pee...   \n",
       "2  [\"2 (1 lb.) loaves frozen bread dough, thawed\"...   \n",
       "3  [\"1/4 cup cream (half & half)\", \"12 large eggs...   \n",
       "4  [\"2 lb. lean ground beef\", \"1 small onion, cho...   \n",
       "\n",
       "                                          directions  \\\n",
       "0  [\"Bring cream cheese to room temperature. Mix ...   \n",
       "1  [\"Place potatoes in large saucepan, cover with...   \n",
       "2  [\"Cut 1 loaf of bread into small pieces; place...   \n",
       "3  [\"Preheat oven to 350 \\u00b0F (175 \\u00b0C). S...   \n",
       "4  [\"Brown ground beef and onions; drain fat.\", \"...   \n",
       "\n",
       "                                                link     source  \\\n",
       "0    www.cookbooks.com/Recipe-Details.aspx?id=980881   Gathered   \n",
       "1  www.vegetariantimes.com/recipe/wasabi-whipped-...  Recipes1M   \n",
       "2    www.cookbooks.com/Recipe-Details.aspx?id=537560   Gathered   \n",
       "3  www.epicurious.com/recipes/member/views/egg-an...   Gathered   \n",
       "4    www.cookbooks.com/Recipe-Details.aspx?id=288957   Gathered   \n",
       "\n",
       "                                                 NER  \\\n",
       "0              [\"Marshmallow Creme\", \"cream cheese\"]   \n",
       "1  [\"russet\", \"low-fat milk\", \"butter\", \"wasabi p...   \n",
       "2  [\"bread\", \"brown sugar\", \"regular vanilla pudd...   \n",
       "3  [\"cream\", \"eggs\", \"pepper\", \"salt\", \"pork saus...   \n",
       "4  [\"lean ground beef\", \"onion\", \"pintos\", \"kidne...   \n",
       "\n",
       "                                   clean_ingredients  \\\n",
       "0  jar marshmallow creme pkg cream cheese philade...   \n",
       "1   russet yukon gold potato inch cube  low fat m...   \n",
       "2   loaf bread dough  brown sugar pkg regular van...   \n",
       "3   cream half half large egg  pepper  salt  pork...   \n",
       "4   lean ground beef small onion bean l bean    t...   \n",
       "\n",
       "                                    clean_directions  \\\n",
       "0  bring cream cheese room temperature mix marshm...   \n",
       "1  place potato large saucepan cover cold water s...   \n",
       "2  loaf bread small piece place piece greased x x...   \n",
       "3  preheat oven f  spray muffin tin spray like pa...   \n",
       "4  brown ground beef onion fat  boil heat simmer ...   \n",
       "\n",
       "                           clean_ingredients_spice_r  \\\n",
       "0   jar marshmallow creme   cream cheese philadel...   \n",
       "1   russet yukon gold potato       fat milk rice ...   \n",
       "2   loaf frozen bread dough   firmly  brown sugar...   \n",
       "3                     cream    egg      pork sausage   \n",
       "4     beef  onion   pinto    kidney bean   l  lim...   \n",
       "\n",
       "                            clean_directions_spice_r  \n",
       "0  bring cream cheese  temperature mix marshmallo...  \n",
       "1  place potato  saucepan  cold   rinse away star...  \n",
       "2   loaf bread   place  greased      combine brow...  \n",
       "3  preheat oven f   muffin tin    pam    bundt mu...  \n",
       "4  brown  beef onion  fat  remaining  bring boil ...  "
      ]
     },
     "execution_count": 6,
     "metadata": {},
     "output_type": "execute_result"
    }
   ],
   "source": [
    "df.head()"
   ]
  },
  {
   "cell_type": "code",
   "execution_count": 10,
   "id": "a3ae6ecf",
   "metadata": {},
   "outputs": [],
   "source": [
    "df.drop(index=10538,inplace=True)"
   ]
  },
  {
   "cell_type": "code",
   "execution_count": 11,
   "id": "95945198",
   "metadata": {},
   "outputs": [
    {
     "data": {
      "text/plain": [
       "(22310, 6719)"
      ]
     },
     "execution_count": 11,
     "metadata": {},
     "output_type": "execute_result"
    }
   ],
   "source": [
    "# Transform data into a sparse matrix\n",
    "vectorizer = CountVectorizer(stop_words='english', max_features=20000, binary=True)\n",
    "doc_word = vectorizer.fit_transform(df['clean_ingredients_spice_r'])\n",
    "doc_word = ss.csr_matrix(doc_word)\n",
    "\n",
    "doc_word.shape # n_docs x m_words"
   ]
  },
  {
   "cell_type": "code",
   "execution_count": 12,
   "id": "1d0eaf20",
   "metadata": {},
   "outputs": [],
   "source": [
    "# Get words that label the columns (needed to extract readable topics and make anchoring easier)\n",
    "words = list(np.asarray(vectorizer.get_feature_names()))"
   ]
  },
  {
   "cell_type": "code",
   "execution_count": 13,
   "id": "ceb48631",
   "metadata": {},
   "outputs": [
    {
     "data": {
      "text/plain": [
       "(22310, 6719)"
      ]
     },
     "execution_count": 13,
     "metadata": {},
     "output_type": "execute_result"
    }
   ],
   "source": [
    "not_digit_inds = [ind for ind,word in enumerate(words) if not word.isdigit()]\n",
    "doc_word = doc_word[:,not_digit_inds]\n",
    "words    = [word for ind,word in enumerate(words) if not word.isdigit()]\n",
    "\n",
    "doc_word.shape # n_docs x m_words"
   ]
  },
  {
   "cell_type": "code",
   "execution_count": 24,
   "id": "eccb2725",
   "metadata": {},
   "outputs": [],
   "source": [
    "topic_model = ct.Corex(n_hidden=20, words=words, max_iter=200, verbose=False)\n",
    "topic_model.fit(doc_word, words=words);"
   ]
  },
  {
   "cell_type": "code",
   "execution_count": 25,
   "id": "9469dddd",
   "metadata": {},
   "outputs": [
    {
     "name": "stdout",
     "output_type": "stream",
     "text": [
      "0: onion, chicken, green, tomato, soup, celery, mushroom, beef, broth, breast\n",
      "1: flour, purpose, egg, soda, powder, butter, shortening, yeast, buttermilk, self\n",
      "2: vanilla, chocolate, extract, chip, cocoa, graham, semi, powdered, unsweetened, pudding\n",
      "3: oil, olive, vegetable, virgin, black, red, canola, wine, margarine, shallot\n",
      "4: cheese, cheddar, parmesan, cream, jack, cottage, monterey, swiss, velveeta, sour\n",
      "5: smith, granny, old, creme, liqueur, fraiche, fashioned, tequila, day, bitter\n",
      "6: whip, cool, pineapple, orange, strawberry, jello, gelatin, jell, cherry, mandarin\n",
      "7: cilantro, tortilla, jalapeno, salsa, chile, lettuce, taco, corn, fish, avocado\n",
      "8: juice, lemon, lime, zest, juiced, rind, squeezed, wedge, peel, zested\n",
      "9: freshly, artichoke, heart, stem, white, parmigiano, reggiano, sea, leek, pine\n",
      "10: sauce, mustard, dijon, pork, steak, ketchup, hot, chili, roast, tabasco\n",
      "11: shrimp, noodle, deveined, pasta, sesame, sprout, lasagna, scallion, penne, chinese\n",
      "12: sugar, brown, granulated, light, firmly, oat, dark, molasses, quick, oatmeal\n",
      "13: dressing, salad, mozzarella, italian, ranch, crumbled, pizza, feta, spinach, spaghetti\n",
      "14: boneless, skinless, rice, long, grain, stock, thigh, bone, squash, butternut\n",
      "15: fresh, parsley, sprig, flat, chive, snipped, breadcrumb, plum, canned, oscar\n",
      "16: yogurt, plain, raisin, almond, slivered, greek, apple, golden, splenda, walnut\n",
      "17: tofu, firm, cucumber, garam, silken, san, fry, stir, tamarind, marzano\n",
      "18: pie, cake, crust, milk, mix, evaporated, pastry, shell, pumpkin, puff\n",
      "19: vinegar, cider, balsamic, cabbage, head, pickling, distilled, beet, napa, savoy\n"
     ]
    }
   ],
   "source": [
    "# Print all topics from the CorEx topic model\n",
    "topics = topic_model.get_topics()\n",
    "for n,topic in enumerate(topics):\n",
    "    topic_words,_,_ = zip(*topic)\n",
    "    print('{}: '.format(n) + ', '.join(topic_words))"
   ]
  },
  {
   "cell_type": "code",
   "execution_count": 26,
   "id": "f6af514e",
   "metadata": {},
   "outputs": [
    {
     "data": {
      "text/plain": [
       "5.09000239940469"
      ]
     },
     "execution_count": 26,
     "metadata": {},
     "output_type": "execute_result"
    }
   ],
   "source": [
    "topic_model.tc"
   ]
  },
  {
   "cell_type": "code",
   "execution_count": 24,
   "id": "b7b6e348",
   "metadata": {},
   "outputs": [],
   "source": [
    "topic_model10 = ct.Corex(n_hidden=10, words=words, max_iter=200, verbose=False, seed=1)\n",
    "topic_model10.fit(doc_word, words=words);"
   ]
  },
  {
   "cell_type": "code",
   "execution_count": 25,
   "id": "12fa20e3",
   "metadata": {},
   "outputs": [
    {
     "name": "stdout",
     "output_type": "stream",
     "text": [
      "0: sugar, onion, vanilla, chicken, baking, flour, soda, green, chocolate, cheese\n",
      "1: cup, tablespoons, teaspoon, tsp, cups, tbsp, tablespoon, teaspoons, ounces, oz\n",
      "2: pepper, garlic, minced, black, ground, cloves, salt, tomatoes, sauce, chopped\n",
      "3: olive, oil, fresh, virgin, freshly, extra, kosher, dried, cilantro, thyme\n",
      "4: cut, leaves, bay, wine, leaf, inch, soy, pieces, sesame, stock\n",
      "5: red, vinegar, butter, milk, beans, eggs, chili, mustard, peppers, melted\n",
      "6: whip, pie, cool, pudding, graham, mix, whipped, cream, crust, cracker\n",
      "7: purpose, room, temperature, packed, unsalted, brown, oats, granulated, firmly, yeast\n",
      "8: juice, lemon, orange, lime, fat, low, zest, sodium, yogurt, reduced\n",
      "9: thinly, sliced, peeled, large, spray, quartered, squash, vegetable, yellow, cored\n"
     ]
    }
   ],
   "source": [
    "# Print all topics from the CorEx topic model\n",
    "topics10 = topic_model10.get_topics()\n",
    "for n,topic in enumerate(topics10):\n",
    "    topic_words,_,_ = zip(*topic)\n",
    "    print('{}: '.format(n) + ', '.join(topic_words))"
   ]
  },
  {
   "cell_type": "code",
   "execution_count": 26,
   "id": "d9ce5eac",
   "metadata": {},
   "outputs": [
    {
     "data": {
      "text/plain": [
       "7.993253174446666"
      ]
     },
     "execution_count": 26,
     "metadata": {},
     "output_type": "execute_result"
    }
   ],
   "source": [
    "topic_model10.tc"
   ]
  },
  {
   "cell_type": "markdown",
   "id": "655117bc",
   "metadata": {},
   "source": [
    "#### Notes:\n",
    "\n",
    "Trying hierarchical"
   ]
  },
  {
   "cell_type": "code",
   "execution_count": 47,
   "id": "15de7363",
   "metadata": {},
   "outputs": [],
   "source": [
    "topic_model3 = ct.Corex(n_hidden=10, words=words)\n",
    "topic_model3.fit(doc_word, words=words, anchors=[['sugar','soda','flour','powder','vanilla'],'tofu',\\\n",
    "                                                 ['chicken','beef','pork','seafood','shrimp','crab','fish']],\\\n",
    "                 anchor_strength=2);"
   ]
  },
  {
   "cell_type": "code",
   "execution_count": 48,
   "id": "07951c6d",
   "metadata": {},
   "outputs": [
    {
     "data": {
      "text/plain": [
       "9.457210363725316"
      ]
     },
     "execution_count": 48,
     "metadata": {},
     "output_type": "execute_result"
    }
   ],
   "source": [
    "topic_model3.tc"
   ]
  },
  {
   "cell_type": "code",
   "execution_count": 49,
   "id": "96c0281f",
   "metadata": {},
   "outputs": [
    {
     "name": "stdout",
     "output_type": "stream",
     "text": [
      "0: sugar, vanilla, flour, soda, baking, pepper, eggs, extract, powder, butter\n",
      "1: olive, oil, fresh, red, black, cloves, virgin, freshly, leaves, extra\n",
      "2: chicken, beef, garlic, sauce, pork, broth, minced, shrimp, ground, lb\n",
      "3: fat, low, free, sodium, spray, reduced, cooking, use, recipe, follows\n",
      "4: onion, green, chopped, tomatoes, sliced, onions, diced, celery, tomato, medium\n",
      "5: whip, salt, cool, pudding, graham, mix, cake, whipped, cream, pineapple\n",
      "6: juice, lemon, orange, lime, zest, rind, peel, juiced, mint, apple\n",
      "7: cheese, cheddar, parmesan, shredded, grated, mozzarella, sharp, dressing, italian, jack\n",
      "8: parsley, thyme, dried, leaf, bay, dijon, mustard, basil, flat, dill\n",
      "9: cup, tablespoons, teaspoon, tsp, cups, tablespoon, tbsp, teaspoons, ounces, oz\n"
     ]
    }
   ],
   "source": [
    "# Print all topics from the CorEx topic model\n",
    "topics3 = topic_model3.get_topics()\n",
    "for n,topic in enumerate(topics3):\n",
    "    topic_words,_,_ = zip(*topic)\n",
    "    print('{}: '.format(n) + ', '.join(topic_words))"
   ]
  },
  {
   "cell_type": "code",
   "execution_count": null,
   "id": "b96f350d",
   "metadata": {},
   "outputs": [],
   "source": []
  },
  {
   "cell_type": "code",
   "execution_count": null,
   "id": "de1cfd89",
   "metadata": {},
   "outputs": [],
   "source": []
  },
  {
   "cell_type": "code",
   "execution_count": null,
   "id": "d34f202a",
   "metadata": {},
   "outputs": [],
   "source": []
  },
  {
   "cell_type": "code",
   "execution_count": null,
   "id": "139fdead",
   "metadata": {},
   "outputs": [],
   "source": []
  }
 ],
 "metadata": {
  "kernelspec": {
   "display_name": "Python 3 (ipykernel)",
   "language": "python",
   "name": "python3"
  },
  "language_info": {
   "codemirror_mode": {
    "name": "ipython",
    "version": 3
   },
   "file_extension": ".py",
   "mimetype": "text/x-python",
   "name": "python",
   "nbconvert_exporter": "python",
   "pygments_lexer": "ipython3",
   "version": "3.9.7"
  }
 },
 "nbformat": 4,
 "nbformat_minor": 5
}
