{
 "cells": [
  {
   "cell_type": "code",
   "execution_count": 70,
   "id": "42e0b7bd",
   "metadata": {},
   "outputs": [],
   "source": [
    "import numpy as np\n",
    "import pandas as pd\n",
    "import matplotlib.pyplot as plt\n",
    "import plotly.express as px"
   ]
  },
  {
   "cell_type": "code",
   "execution_count": 16,
   "id": "0488938b",
   "metadata": {},
   "outputs": [],
   "source": [
    "full_dataset=pd.read_csv(\"Dataset\\\\full_dataset.csv\")"
   ]
  },
  {
   "cell_type": "code",
   "execution_count": 17,
   "id": "5e02e7e9",
   "metadata": {},
   "outputs": [
    {
     "data": {
      "text/plain": [
       "(2231142, 7)"
      ]
     },
     "execution_count": 17,
     "metadata": {},
     "output_type": "execute_result"
    }
   ],
   "source": [
    "full_dataset.shape\n"
   ]
  },
  {
   "cell_type": "code",
   "execution_count": 20,
   "id": "c861d379",
   "metadata": {},
   "outputs": [
    {
     "data": {
      "text/html": [
       "<div>\n",
       "<style scoped>\n",
       "    .dataframe tbody tr th:only-of-type {\n",
       "        vertical-align: middle;\n",
       "    }\n",
       "\n",
       "    .dataframe tbody tr th {\n",
       "        vertical-align: top;\n",
       "    }\n",
       "\n",
       "    .dataframe thead th {\n",
       "        text-align: right;\n",
       "    }\n",
       "</style>\n",
       "<table border=\"1\" class=\"dataframe\">\n",
       "  <thead>\n",
       "    <tr style=\"text-align: right;\">\n",
       "      <th></th>\n",
       "      <th>Unnamed: 0</th>\n",
       "      <th>title</th>\n",
       "      <th>ingredients</th>\n",
       "      <th>directions</th>\n",
       "      <th>link</th>\n",
       "      <th>source</th>\n",
       "      <th>NER</th>\n",
       "    </tr>\n",
       "  </thead>\n",
       "  <tbody>\n",
       "    <tr>\n",
       "      <th>7964</th>\n",
       "      <td>7964</td>\n",
       "      <td>Apple Dip</td>\n",
       "      <td>[\"1 (7 oz.) jar Marshmallow Creme\", \"1 (8 oz.)...</td>\n",
       "      <td>[\"Bring cream cheese to room temperature. Mix ...</td>\n",
       "      <td>www.cookbooks.com/Recipe-Details.aspx?id=980881</td>\n",
       "      <td>Gathered</td>\n",
       "      <td>[\"Marshmallow Creme\", \"cream cheese\"]</td>\n",
       "    </tr>\n",
       "    <tr>\n",
       "      <th>1765246</th>\n",
       "      <td>1765246</td>\n",
       "      <td>Wasabi Whipped Potatoes</td>\n",
       "      <td>[\"1 1/2 lb. russet or Yukon gold potatoes, pee...</td>\n",
       "      <td>[\"Place potatoes in large saucepan, cover with...</td>\n",
       "      <td>www.vegetariantimes.com/recipe/wasabi-whipped-...</td>\n",
       "      <td>Recipes1M</td>\n",
       "      <td>[\"russet\", \"low-fat milk\", \"butter\", \"wasabi p...</td>\n",
       "    </tr>\n",
       "    <tr>\n",
       "      <th>677031</th>\n",
       "      <td>677031</td>\n",
       "      <td>Caramel Breakfast Rolls</td>\n",
       "      <td>[\"2 (1 lb.) loaves frozen bread dough, thawed\"...</td>\n",
       "      <td>[\"Cut 1 loaf of bread into small pieces; place...</td>\n",
       "      <td>www.cookbooks.com/Recipe-Details.aspx?id=537560</td>\n",
       "      <td>Gathered</td>\n",
       "      <td>[\"bread\", \"brown sugar\", \"regular vanilla pudd...</td>\n",
       "    </tr>\n",
       "    <tr>\n",
       "      <th>1325712</th>\n",
       "      <td>1325712</td>\n",
       "      <td>Egg And Sausage Muffins</td>\n",
       "      <td>[\"1/4 cup cream (half &amp; half)\", \"12 large eggs...</td>\n",
       "      <td>[\"Preheat oven to 350 \\u00b0F (175 \\u00b0C). S...</td>\n",
       "      <td>www.epicurious.com/recipes/member/views/egg-an...</td>\n",
       "      <td>Gathered</td>\n",
       "      <td>[\"cream\", \"eggs\", \"pepper\", \"salt\", \"pork saus...</td>\n",
       "    </tr>\n",
       "    <tr>\n",
       "      <th>294137</th>\n",
       "      <td>294137</td>\n",
       "      <td>Taco Soup</td>\n",
       "      <td>[\"2 lb. lean ground beef\", \"1 small onion, cho...</td>\n",
       "      <td>[\"Brown ground beef and onions; drain fat.\", \"...</td>\n",
       "      <td>www.cookbooks.com/Recipe-Details.aspx?id=288957</td>\n",
       "      <td>Gathered</td>\n",
       "      <td>[\"lean ground beef\", \"onion\", \"pintos\", \"kidne...</td>\n",
       "    </tr>\n",
       "  </tbody>\n",
       "</table>\n",
       "</div>"
      ],
      "text/plain": [
       "         Unnamed: 0                     title  \\\n",
       "7964           7964                 Apple Dip   \n",
       "1765246     1765246   Wasabi Whipped Potatoes   \n",
       "677031       677031   Caramel Breakfast Rolls   \n",
       "1325712     1325712  Egg And Sausage Muffins    \n",
       "294137       294137                 Taco Soup   \n",
       "\n",
       "                                               ingredients  \\\n",
       "7964     [\"1 (7 oz.) jar Marshmallow Creme\", \"1 (8 oz.)...   \n",
       "1765246  [\"1 1/2 lb. russet or Yukon gold potatoes, pee...   \n",
       "677031   [\"2 (1 lb.) loaves frozen bread dough, thawed\"...   \n",
       "1325712  [\"1/4 cup cream (half & half)\", \"12 large eggs...   \n",
       "294137   [\"2 lb. lean ground beef\", \"1 small onion, cho...   \n",
       "\n",
       "                                                directions  \\\n",
       "7964     [\"Bring cream cheese to room temperature. Mix ...   \n",
       "1765246  [\"Place potatoes in large saucepan, cover with...   \n",
       "677031   [\"Cut 1 loaf of bread into small pieces; place...   \n",
       "1325712  [\"Preheat oven to 350 \\u00b0F (175 \\u00b0C). S...   \n",
       "294137   [\"Brown ground beef and onions; drain fat.\", \"...   \n",
       "\n",
       "                                                      link     source  \\\n",
       "7964       www.cookbooks.com/Recipe-Details.aspx?id=980881   Gathered   \n",
       "1765246  www.vegetariantimes.com/recipe/wasabi-whipped-...  Recipes1M   \n",
       "677031     www.cookbooks.com/Recipe-Details.aspx?id=537560   Gathered   \n",
       "1325712  www.epicurious.com/recipes/member/views/egg-an...   Gathered   \n",
       "294137     www.cookbooks.com/Recipe-Details.aspx?id=288957   Gathered   \n",
       "\n",
       "                                                       NER  \n",
       "7964                 [\"Marshmallow Creme\", \"cream cheese\"]  \n",
       "1765246  [\"russet\", \"low-fat milk\", \"butter\", \"wasabi p...  \n",
       "677031   [\"bread\", \"brown sugar\", \"regular vanilla pudd...  \n",
       "1325712  [\"cream\", \"eggs\", \"pepper\", \"salt\", \"pork saus...  \n",
       "294137   [\"lean ground beef\", \"onion\", \"pintos\", \"kidne...  "
      ]
     },
     "execution_count": 20,
     "metadata": {},
     "output_type": "execute_result"
    }
   ],
   "source": [
    "sample = full_dataset.sample(frac=0.01, random_state = 1)\n",
    "sample.head()"
   ]
  },
  {
   "cell_type": "code",
   "execution_count": 11,
   "id": "7621498f",
   "metadata": {},
   "outputs": [
    {
     "name": "stdout",
     "output_type": "stream",
     "text": [
      "Collecting bertopic\n",
      "  Downloading bertopic-0.10.0-py2.py3-none-any.whl (58 kB)\n",
      "Requirement already satisfied: numpy>=1.20.0 in c:\\users\\monika\\anaconda3\\lib\\site-packages (from bertopic) (1.20.3)\n",
      "Requirement already satisfied: plotly>=4.7.0 in c:\\users\\monika\\anaconda3\\lib\\site-packages (from bertopic) (5.7.0)\n",
      "Requirement already satisfied: scikit-learn>=0.22.2.post1 in c:\\users\\monika\\anaconda3\\lib\\site-packages (from bertopic) (1.0.2)\n",
      "Requirement already satisfied: tqdm>=4.41.1 in c:\\users\\monika\\anaconda3\\lib\\site-packages (from bertopic) (4.62.3)\n",
      "Collecting umap-learn>=0.5.0\n",
      "  Downloading umap-learn-0.5.3.tar.gz (88 kB)\n",
      "Requirement already satisfied: pandas>=1.1.5 in c:\\users\\monika\\anaconda3\\lib\\site-packages (from bertopic) (1.4.1)\n",
      "Collecting pyyaml<6.0\n",
      "  Downloading PyYAML-5.4.1-cp38-cp38-win_amd64.whl (213 kB)\n",
      "Collecting hdbscan>=0.8.28\n",
      "  Downloading hdbscan-0.8.28.tar.gz (5.2 MB)\n",
      "  Installing build dependencies: started\n",
      "  Installing build dependencies: finished with status 'done'\n",
      "  Getting requirements to build wheel: started\n",
      "  Getting requirements to build wheel: finished with status 'done'\n",
      "    Preparing wheel metadata: started\n",
      "    Preparing wheel metadata: finished with status 'done'\n",
      "Collecting sentence-transformers>=0.4.1\n",
      "  Downloading sentence-transformers-2.2.0.tar.gz (79 kB)\n",
      "Requirement already satisfied: joblib>=1.0 in c:\\users\\monika\\anaconda3\\lib\\site-packages (from hdbscan>=0.8.28->bertopic) (1.1.0)\n",
      "Requirement already satisfied: cython>=0.27 in c:\\users\\monika\\anaconda3\\lib\\site-packages (from hdbscan>=0.8.28->bertopic) (0.29.23)\n",
      "Requirement already satisfied: scipy>=1.0 in c:\\users\\monika\\anaconda3\\lib\\site-packages (from hdbscan>=0.8.28->bertopic) (1.7.3)\n",
      "Requirement already satisfied: python-dateutil>=2.8.1 in c:\\users\\monika\\anaconda3\\lib\\site-packages (from pandas>=1.1.5->bertopic) (2.8.2)\n",
      "Requirement already satisfied: pytz>=2020.1 in c:\\users\\monika\\anaconda3\\lib\\site-packages (from pandas>=1.1.5->bertopic) (2021.3)\n",
      "Requirement already satisfied: tenacity>=6.2.0 in c:\\users\\monika\\anaconda3\\lib\\site-packages (from plotly>=4.7.0->bertopic) (8.0.1)\n",
      "Requirement already satisfied: six in c:\\users\\monika\\anaconda3\\lib\\site-packages (from plotly>=4.7.0->bertopic) (1.16.0)\n",
      "Requirement already satisfied: threadpoolctl>=2.0.0 in c:\\users\\monika\\anaconda3\\lib\\site-packages (from scikit-learn>=0.22.2.post1->bertopic) (2.2.0)\n",
      "Collecting transformers<5.0.0,>=4.6.0\n",
      "  Downloading transformers-4.19.3-py3-none-any.whl (4.2 MB)\n",
      "Collecting torch>=1.6.0\n",
      "  Downloading torch-1.11.0-cp38-cp38-win_amd64.whl (158.0 MB)\n",
      "Collecting torchvision\n",
      "  Downloading torchvision-0.12.0-cp38-cp38-win_amd64.whl (1.0 MB)\n",
      "Requirement already satisfied: nltk in c:\\users\\monika\\anaconda3\\lib\\site-packages (from sentence-transformers>=0.4.1->bertopic) (3.6.5)\n",
      "Collecting sentencepiece\n",
      "  Downloading sentencepiece-0.1.96-cp38-cp38-win_amd64.whl (1.1 MB)\n",
      "Collecting huggingface-hub\n",
      "  Downloading huggingface_hub-0.7.0-py3-none-any.whl (86 kB)\n",
      "Requirement already satisfied: typing-extensions in c:\\users\\monika\\anaconda3\\lib\\site-packages (from torch>=1.6.0->sentence-transformers>=0.4.1->bertopic) (3.10.0.2)\n",
      "Requirement already satisfied: colorama in c:\\users\\monika\\anaconda3\\lib\\site-packages (from tqdm>=4.41.1->bertopic) (0.4.4)\n",
      "Requirement already satisfied: requests in c:\\users\\monika\\anaconda3\\lib\\site-packages (from transformers<5.0.0,>=4.6.0->sentence-transformers>=0.4.1->bertopic) (2.27.1)\n",
      "Collecting tokenizers!=0.11.3,<0.13,>=0.11.1\n",
      "  Downloading tokenizers-0.12.1-cp38-cp38-win_amd64.whl (3.3 MB)\n",
      "Requirement already satisfied: regex!=2019.12.17 in c:\\users\\monika\\anaconda3\\lib\\site-packages (from transformers<5.0.0,>=4.6.0->sentence-transformers>=0.4.1->bertopic) (2021.8.3)\n",
      "Requirement already satisfied: packaging>=20.0 in c:\\users\\monika\\anaconda3\\lib\\site-packages (from transformers<5.0.0,>=4.6.0->sentence-transformers>=0.4.1->bertopic) (21.3)\n",
      "Requirement already satisfied: filelock in c:\\users\\monika\\anaconda3\\lib\\site-packages (from transformers<5.0.0,>=4.6.0->sentence-transformers>=0.4.1->bertopic) (3.6.0)\n",
      "Requirement already satisfied: pyparsing!=3.0.5,>=2.0.2 in c:\\users\\monika\\anaconda3\\lib\\site-packages (from packaging>=20.0->transformers<5.0.0,>=4.6.0->sentence-transformers>=0.4.1->bertopic) (3.0.4)\n",
      "Requirement already satisfied: numba>=0.49 in c:\\users\\monika\\anaconda3\\lib\\site-packages (from umap-learn>=0.5.0->bertopic) (0.54.1)\n",
      "Collecting pynndescent>=0.5\n",
      "  Downloading pynndescent-0.5.7.tar.gz (1.1 MB)\n",
      "Requirement already satisfied: setuptools in c:\\users\\monika\\anaconda3\\lib\\site-packages (from numba>=0.49->umap-learn>=0.5.0->bertopic) (58.0.4)\n",
      "Requirement already satisfied: llvmlite<0.38,>=0.37.0rc1 in c:\\users\\monika\\anaconda3\\lib\\site-packages (from numba>=0.49->umap-learn>=0.5.0->bertopic) (0.37.0)\n",
      "Requirement already satisfied: click in c:\\users\\monika\\anaconda3\\lib\\site-packages (from nltk->sentence-transformers>=0.4.1->bertopic) (8.0.4)Note: you may need to restart the kernel to use updated packages.\n",
      "Requirement already satisfied: charset-normalizer~=2.0.0 in c:\\users\\monika\\anaconda3\\lib\\site-packages (from requests->transformers<5.0.0,>=4.6.0->sentence-transformers>=0.4.1->bertopic) (2.0.4)\n",
      "Requirement already satisfied: urllib3<1.27,>=1.21.1 in c:\\users\\monika\\anaconda3\\lib\\site-packages (from requests->transformers<5.0.0,>=4.6.0->sentence-transformers>=0.4.1->bertopic) (1.26.8)\n",
      "Requirement already satisfied: idna<4,>=2.5 in c:\\users\\monika\\anaconda3\\lib\\site-packages (from requests->transformers<5.0.0,>=4.6.0->sentence-transformers>=0.4.1->bertopic) (3.3)\n",
      "Requirement already satisfied: certifi>=2017.4.17 in c:\\users\\monika\\anaconda3\\lib\\site-packages (from requests->transformers<5.0.0,>=4.6.0->sentence-transformers>=0.4.1->bertopic) (2021.10.8)\n",
      "Requirement already satisfied: pillow!=8.3.*,>=5.3.0 in c:\\users\\monika\\anaconda3\\lib\\site-packages (from torchvision->sentence-transformers>=0.4.1->bertopic) (9.0.1)\n",
      "Building wheels for collected packages: hdbscan, sentence-transformers, umap-learn, pynndescent\n",
      "  Building wheel for hdbscan (PEP 517): started\n",
      "  Building wheel for hdbscan (PEP 517): still running...\n",
      "  Building wheel for hdbscan (PEP 517): finished with status 'done'\n",
      "\n"
     ]
    },
    {
     "name": "stderr",
     "output_type": "stream",
     "text": [
      "ERROR: Could not install packages due to an OSError: [WinError 5] Access is denied: 'C:\\\\Users\\\\Monika\\\\anaconda3\\\\Lib\\\\site-packages\\\\~aml\\\\_yaml.cp38-win_amd64.pyd'\n",
      "Consider using the `--user` option or check the permissions.\n",
      "\n"
     ]
    },
    {
     "name": "stdout",
     "output_type": "stream",
     "text": [
      "  Created wheel for hdbscan: filename=hdbscan-0.8.28-cp38-cp38-win_amd64.whl size=571545 sha256=4919a6d8bb5aa7d4aa4357b072836030cebef2c8f0e27e91de931ffb50aba309\n",
      "  Stored in directory: c:\\users\\monika\\appdata\\local\\pip\\cache\\wheels\\dc\\71\\35\\27e492e5848c7d1b38a6ea86e10261fd7ebaabf7e72c0b47c4\n",
      "  Building wheel for sentence-transformers (setup.py): started\n",
      "  Building wheel for sentence-transformers (setup.py): finished with status 'done'\n",
      "  Created wheel for sentence-transformers: filename=sentence_transformers-2.2.0-py3-none-any.whl size=120747 sha256=f5e80e6e15e0435fb4785dec3cf8878c53ef18e9a0393e473d892f91e2631c4e\n",
      "  Stored in directory: c:\\users\\monika\\appdata\\local\\pip\\cache\\wheels\\0c\\b6\\fb\\2289a932c365293ad865fc1fe9d2db694d5584241c6d670874\n",
      "  Building wheel for umap-learn (setup.py): started\n",
      "  Building wheel for umap-learn (setup.py): finished with status 'done'\n",
      "  Created wheel for umap-learn: filename=umap_learn-0.5.3-py3-none-any.whl size=82829 sha256=e60862794dc0e308bce7881335988f32af9e123d15d6d89bb760f79e42d67954\n",
      "  Stored in directory: c:\\users\\monika\\appdata\\local\\pip\\cache\\wheels\\a9\\3a\\67\\06a8950e053725912e6a8c42c4a3a241410f6487b8402542ea\n",
      "  Building wheel for pynndescent (setup.py): started\n",
      "  Building wheel for pynndescent (setup.py): finished with status 'done'\n",
      "  Created wheel for pynndescent: filename=pynndescent-0.5.7-py3-none-any.whl size=54286 sha256=02a400623001ea833b0d175d068ae4cc70a9ab5fae5858384c21d449e0e54d48\n",
      "  Stored in directory: c:\\users\\monika\\appdata\\local\\pip\\cache\\wheels\\1b\\38\\fe\\99e22fbae88abd1c5e8d99253cba6d1c590cc7a94408bff3bf\n",
      "Successfully built hdbscan sentence-transformers umap-learn pynndescent\n",
      "Installing collected packages: pyyaml, torch, tokenizers, huggingface-hub, transformers, torchvision, sentencepiece, pynndescent, umap-learn, sentence-transformers, hdbscan, bertopic\n",
      "  Attempting uninstall: pyyaml\n",
      "    Found existing installation: PyYAML 6.0\n",
      "    Uninstalling PyYAML-6.0:\n",
      "      Successfully uninstalled PyYAML-6.0\n"
     ]
    }
   ],
   "source": [
    "# pip install bertopic"
   ]
  },
  {
   "cell_type": "code",
   "execution_count": 14,
   "id": "7981c081",
   "metadata": {},
   "outputs": [],
   "source": [
    "# sample.to_csv(\"Dataset\\\\Recipe_sample_dataset.csv\")"
   ]
  },
  {
   "cell_type": "code",
   "execution_count": 21,
   "id": "0b6fbd79",
   "metadata": {},
   "outputs": [
    {
     "data": {
      "text/html": [
       "<div>\n",
       "<style scoped>\n",
       "    .dataframe tbody tr th:only-of-type {\n",
       "        vertical-align: middle;\n",
       "    }\n",
       "\n",
       "    .dataframe tbody tr th {\n",
       "        vertical-align: top;\n",
       "    }\n",
       "\n",
       "    .dataframe thead th {\n",
       "        text-align: right;\n",
       "    }\n",
       "</style>\n",
       "<table border=\"1\" class=\"dataframe\">\n",
       "  <thead>\n",
       "    <tr style=\"text-align: right;\">\n",
       "      <th></th>\n",
       "      <th>Unnamed: 0</th>\n",
       "      <th>title</th>\n",
       "      <th>ingredients</th>\n",
       "      <th>directions</th>\n",
       "      <th>link</th>\n",
       "      <th>source</th>\n",
       "      <th>NER</th>\n",
       "    </tr>\n",
       "  </thead>\n",
       "  <tbody>\n",
       "    <tr>\n",
       "      <th>7964</th>\n",
       "      <td>7964</td>\n",
       "      <td>Apple Dip</td>\n",
       "      <td>[\"1 (7 oz.) jar Marshmallow Creme\", \"1 (8 oz.)...</td>\n",
       "      <td>[\"Bring cream cheese to room temperature. Mix ...</td>\n",
       "      <td>www.cookbooks.com/Recipe-Details.aspx?id=980881</td>\n",
       "      <td>Gathered</td>\n",
       "      <td>[\"Marshmallow Creme\", \"cream cheese\"]</td>\n",
       "    </tr>\n",
       "    <tr>\n",
       "      <th>1765246</th>\n",
       "      <td>1765246</td>\n",
       "      <td>Wasabi Whipped Potatoes</td>\n",
       "      <td>[\"1 1/2 lb. russet or Yukon gold potatoes, pee...</td>\n",
       "      <td>[\"Place potatoes in large saucepan, cover with...</td>\n",
       "      <td>www.vegetariantimes.com/recipe/wasabi-whipped-...</td>\n",
       "      <td>Recipes1M</td>\n",
       "      <td>[\"russet\", \"low-fat milk\", \"butter\", \"wasabi p...</td>\n",
       "    </tr>\n",
       "    <tr>\n",
       "      <th>677031</th>\n",
       "      <td>677031</td>\n",
       "      <td>Caramel Breakfast Rolls</td>\n",
       "      <td>[\"2 (1 lb.) loaves frozen bread dough, thawed\"...</td>\n",
       "      <td>[\"Cut 1 loaf of bread into small pieces; place...</td>\n",
       "      <td>www.cookbooks.com/Recipe-Details.aspx?id=537560</td>\n",
       "      <td>Gathered</td>\n",
       "      <td>[\"bread\", \"brown sugar\", \"regular vanilla pudd...</td>\n",
       "    </tr>\n",
       "    <tr>\n",
       "      <th>1325712</th>\n",
       "      <td>1325712</td>\n",
       "      <td>Egg And Sausage Muffins</td>\n",
       "      <td>[\"1/4 cup cream (half &amp; half)\", \"12 large eggs...</td>\n",
       "      <td>[\"Preheat oven to 350 \\u00b0F (175 \\u00b0C). S...</td>\n",
       "      <td>www.epicurious.com/recipes/member/views/egg-an...</td>\n",
       "      <td>Gathered</td>\n",
       "      <td>[\"cream\", \"eggs\", \"pepper\", \"salt\", \"pork saus...</td>\n",
       "    </tr>\n",
       "    <tr>\n",
       "      <th>294137</th>\n",
       "      <td>294137</td>\n",
       "      <td>Taco Soup</td>\n",
       "      <td>[\"2 lb. lean ground beef\", \"1 small onion, cho...</td>\n",
       "      <td>[\"Brown ground beef and onions; drain fat.\", \"...</td>\n",
       "      <td>www.cookbooks.com/Recipe-Details.aspx?id=288957</td>\n",
       "      <td>Gathered</td>\n",
       "      <td>[\"lean ground beef\", \"onion\", \"pintos\", \"kidne...</td>\n",
       "    </tr>\n",
       "  </tbody>\n",
       "</table>\n",
       "</div>"
      ],
      "text/plain": [
       "         Unnamed: 0                     title  \\\n",
       "7964           7964                 Apple Dip   \n",
       "1765246     1765246   Wasabi Whipped Potatoes   \n",
       "677031       677031   Caramel Breakfast Rolls   \n",
       "1325712     1325712  Egg And Sausage Muffins    \n",
       "294137       294137                 Taco Soup   \n",
       "\n",
       "                                               ingredients  \\\n",
       "7964     [\"1 (7 oz.) jar Marshmallow Creme\", \"1 (8 oz.)...   \n",
       "1765246  [\"1 1/2 lb. russet or Yukon gold potatoes, pee...   \n",
       "677031   [\"2 (1 lb.) loaves frozen bread dough, thawed\"...   \n",
       "1325712  [\"1/4 cup cream (half & half)\", \"12 large eggs...   \n",
       "294137   [\"2 lb. lean ground beef\", \"1 small onion, cho...   \n",
       "\n",
       "                                                directions  \\\n",
       "7964     [\"Bring cream cheese to room temperature. Mix ...   \n",
       "1765246  [\"Place potatoes in large saucepan, cover with...   \n",
       "677031   [\"Cut 1 loaf of bread into small pieces; place...   \n",
       "1325712  [\"Preheat oven to 350 \\u00b0F (175 \\u00b0C). S...   \n",
       "294137   [\"Brown ground beef and onions; drain fat.\", \"...   \n",
       "\n",
       "                                                      link     source  \\\n",
       "7964       www.cookbooks.com/Recipe-Details.aspx?id=980881   Gathered   \n",
       "1765246  www.vegetariantimes.com/recipe/wasabi-whipped-...  Recipes1M   \n",
       "677031     www.cookbooks.com/Recipe-Details.aspx?id=537560   Gathered   \n",
       "1325712  www.epicurious.com/recipes/member/views/egg-an...   Gathered   \n",
       "294137     www.cookbooks.com/Recipe-Details.aspx?id=288957   Gathered   \n",
       "\n",
       "                                                       NER  \n",
       "7964                 [\"Marshmallow Creme\", \"cream cheese\"]  \n",
       "1765246  [\"russet\", \"low-fat milk\", \"butter\", \"wasabi p...  \n",
       "677031   [\"bread\", \"brown sugar\", \"regular vanilla pudd...  \n",
       "1325712  [\"cream\", \"eggs\", \"pepper\", \"salt\", \"pork saus...  \n",
       "294137   [\"lean ground beef\", \"onion\", \"pintos\", \"kidne...  "
      ]
     },
     "execution_count": 21,
     "metadata": {},
     "output_type": "execute_result"
    }
   ],
   "source": [
    "sample.head()"
   ]
  },
  {
   "cell_type": "code",
   "execution_count": 61,
   "id": "599fa423",
   "metadata": {},
   "outputs": [
    {
     "name": "stdout",
     "output_type": "stream",
     "text": [
      "<class 'list'>\n"
     ]
    }
   ],
   "source": [
    "full_dataset['NER'] = full_dataset['NER'].str.lower()\n",
    "ln=full_dataset['NER'].size\n",
    "ner_all=full_dataset['NER'].tolist()\n",
    "\n",
    "#print(ner_all)\n",
    "print(type(ner_all))\n",
    "ner_all[0]\n",
    "\n",
    "ingredient_freq = {}\n",
    "\n",
    "for i in range(ln):\n",
    "    tmp_ner=ner_all[i].replace(\"\\\"\", \"\")\n",
    "    tmp_ner=tmp_ner.replace(\"[\", \"\")\n",
    "    tmp_ner=tmp_ner.replace(\"]\", \"\")\n",
    "    ner_lst=tmp_ner.split(\", \")\n",
    "    #print(type(ner_lst))\n",
    "    \n",
    "    for item in ner_lst:\n",
    "        if item in ingredient_freq:\n",
    "            ingredient_freq[item] += 1\n",
    "        else:\n",
    "            ingredient_freq[item] = 1\n",
    "    \n",
    "    \n",
    "    \n",
    "    \n",
    "  \n",
    "    \n",
    "\n",
    "\n"
   ]
  },
  {
   "cell_type": "code",
   "execution_count": 67,
   "id": "5f0a8f59",
   "metadata": {},
   "outputs": [
    {
     "name": "stderr",
     "output_type": "stream",
     "text": [
      "IOPub data rate exceeded.\n",
      "The notebook server will temporarily stop sending output\n",
      "to the client in order to avoid crashing it.\n",
      "To change this limit, set the config variable\n",
      "`--NotebookApp.iopub_data_rate_limit`.\n",
      "\n",
      "Current values:\n",
      "NotebookApp.iopub_data_rate_limit=1000000.0 (bytes/sec)\n",
      "NotebookApp.rate_limit_window=3.0 (secs)\n",
      "\n"
     ]
    }
   ],
   "source": [
    "print(type(ner_lst))\n",
    "print(len(ner_lst))\n",
    "\n"
   ]
  },
  {
   "cell_type": "code",
   "execution_count": 68,
   "id": "f65370cb",
   "metadata": {},
   "outputs": [
    {
     "name": "stdout",
     "output_type": "stream",
     "text": [
      "('salt', 1013709)\n",
      "('sugar', 662838)\n",
      "('butter', 539978)\n",
      "('flour', 488086)\n",
      "('eggs', 422212)\n",
      "('onion', 391270)\n",
      "('garlic', 388187)\n",
      "('milk', 370285)\n",
      "('water', 351248)\n",
      "('vanilla', 293879)\n",
      "('olive oil', 227383)\n",
      "('pepper', 193384)\n",
      "('brown sugar', 187092)\n",
      "('egg', 176197)\n",
      "('tomatoes', 174311)\n",
      "('baking powder', 161100)\n",
      "('lemon juice', 155454)\n",
      "('cinnamon', 128619)\n",
      "('sour cream', 122731)\n",
      "('cream cheese', 121520)\n",
      "('baking soda', 120743)\n",
      "('celery', 116653)\n",
      "('margarine', 114909)\n",
      "('chicken', 114504)\n",
      "('cheddar cheese', 111260)\n",
      "('parsley', 107769)\n",
      "('vegetable oil', 103011)\n",
      "('onions', 102596)\n",
      "('mayonnaise', 93146)\n",
      "('parmesan cheese', 92833)\n",
      "('oil', 89946)\n",
      "('pecans', 83320)\n",
      "('potatoes', 81824)\n",
      "('kosher salt', 81509)\n",
      "('carrots', 80450)\n",
      "('nuts', 79693)\n",
      "('soy sauce', 79678)\n",
      "('black pepper', 77694)\n",
      "('pineapple', 76432)\n",
      "('honey', 73864)\n",
      "('bacon', 72351)\n",
      "('thyme', 72215)\n",
      "('chicken broth', 68993)\n",
      "('oregano', 68514)\n",
      "('ground beef', 67258)\n",
      "('mustard', 66948)\n",
      "('unsalted butter', 66539)\n",
      "('worcestershire sauce', 65377)\n",
      "('mushrooms', 64500)\n",
      "('cornstarch', 62163)\n",
      "198729\n"
     ]
    }
   ],
   "source": [
    "#ingredient_freq\n",
    "\n",
    "ingredient_freq_sorted = sorted(ingredient_freq.items(), key=lambda x: x[1], reverse=True)  \n",
    "\n",
    "\n",
    "ingredient_freq_sorted[0]\n",
    "\n",
    "for j in range(50):\n",
    "    print(ingredient_freq_sorted[j])\n",
    "\n",
    "    \n",
    "    \n",
    "    \n",
    "print(len(ingredient_freq_sorted))    "
   ]
  },
  {
   "cell_type": "code",
   "execution_count": 122,
   "id": "2c93e69f",
   "metadata": {},
   "outputs": [
    {
     "data": {
      "text/plain": [
       "array([[<AxesSubplot:title={'center':'Frequency'}>]], dtype=object)"
      ]
     },
     "execution_count": 122,
     "metadata": {},
     "output_type": "execute_result"
    },
    {
     "data": {
      "image/png": "[encoded data removed]",
      "text/plain": [
       "<Figure size 432x288 with 1 Axes>"
      ]
     },
     "metadata": {},
     "output_type": "display_data"
    }
   ],
   "source": [
    "ingredient_freq_df=pd.DataFrame.from_dict(ingredient_freq, orient='index', columns=['Frequency'])\n",
    "\n",
    "ingredient_freq_df=ingredient_freq_df.reset_index()\n",
    "\n",
    "ingredient_freq_df\n",
    "\n",
    "ingredient_freq_df.columns = ingredient_freq_df.columns.str.replace('index', 'Ingredient')\n",
    "\n",
    "ingredient_freq_df\n",
    "\n",
    "# # fig = px.bar(ingredient_freq_df, x=\"Ingredient\", y=\"Frequency\")\n",
    "# # fig.show()\n",
    "\n",
    "# ingredient_freq_df_tmp= ingredient_freq_df.loc[ingredient_freq_df['Frequency']>1]\n",
    "\n",
    "# ingredient_freq_df_tmp\n",
    "ingredient_freq_df_tmp.hist(x='Frequency', y='')"
   ]
  },
  {
   "cell_type": "code",
   "execution_count": 114,
   "id": "3a042636",
   "metadata": {},
   "outputs": [],
   "source": [
    "import seaborn as sns\n"
   ]
  },
  {
   "cell_type": "code",
   "execution_count": 118,
   "id": "3d5efcc7",
   "metadata": {},
   "outputs": [],
   "source": [
    "sns.set(style=\"darkgrid\")"
   ]
  },
  {
   "cell_type": "code",
   "execution_count": 119,
   "id": "09e5a3b5",
   "metadata": {},
   "outputs": [
    {
     "ename": "KeyboardInterrupt",
     "evalue": "",
     "output_type": "error",
     "traceback": [
      "\u001b[1;31m---------------------------------------------------------------------------\u001b[0m",
      "\u001b[1;31mKeyboardInterrupt\u001b[0m                         Traceback (most recent call last)",
      "Input \u001b[1;32mIn [119]\u001b[0m, in \u001b[0;36m<cell line: 1>\u001b[1;34m()\u001b[0m\n\u001b[1;32m----> 1\u001b[0m \u001b[43msns\u001b[49m\u001b[38;5;241;43m.\u001b[39;49m\u001b[43mhistplot\u001b[49m\u001b[43m(\u001b[49m\u001b[43mdata\u001b[49m\u001b[38;5;241;43m=\u001b[39;49m\u001b[43mingredient_freq_df\u001b[49m\u001b[43m,\u001b[49m\u001b[43m \u001b[49m\u001b[43mx\u001b[49m\u001b[38;5;241;43m=\u001b[39;49m\u001b[38;5;124;43m\"\u001b[39;49m\u001b[38;5;124;43mFrequency\u001b[39;49m\u001b[38;5;124;43m\"\u001b[39;49m\u001b[43m)\u001b[49m\n\u001b[0;32m      2\u001b[0m plt\u001b[38;5;241m.\u001b[39mshow()\n",
      "File \u001b[1;32m~\\anaconda3\\lib\\site-packages\\seaborn\\distributions.py:1462\u001b[0m, in \u001b[0;36mhistplot\u001b[1;34m(data, x, y, hue, weights, stat, bins, binwidth, binrange, discrete, cumulative, common_bins, common_norm, multiple, element, fill, shrink, kde, kde_kws, line_kws, thresh, pthresh, pmax, cbar, cbar_ax, cbar_kws, palette, hue_order, hue_norm, color, log_scale, legend, ax, **kwargs)\u001b[0m\n\u001b[0;32m   1451\u001b[0m estimate_kws \u001b[38;5;241m=\u001b[39m \u001b[38;5;28mdict\u001b[39m(\n\u001b[0;32m   1452\u001b[0m     stat\u001b[38;5;241m=\u001b[39mstat,\n\u001b[0;32m   1453\u001b[0m     bins\u001b[38;5;241m=\u001b[39mbins,\n\u001b[1;32m   (...)\u001b[0m\n\u001b[0;32m   1457\u001b[0m     cumulative\u001b[38;5;241m=\u001b[39mcumulative,\n\u001b[0;32m   1458\u001b[0m )\n\u001b[0;32m   1460\u001b[0m \u001b[38;5;28;01mif\u001b[39;00m p\u001b[38;5;241m.\u001b[39munivariate:\n\u001b[1;32m-> 1462\u001b[0m     \u001b[43mp\u001b[49m\u001b[38;5;241;43m.\u001b[39;49m\u001b[43mplot_univariate_histogram\u001b[49m\u001b[43m(\u001b[49m\n\u001b[0;32m   1463\u001b[0m \u001b[43m        \u001b[49m\u001b[43mmultiple\u001b[49m\u001b[38;5;241;43m=\u001b[39;49m\u001b[43mmultiple\u001b[49m\u001b[43m,\u001b[49m\n\u001b[0;32m   1464\u001b[0m \u001b[43m        \u001b[49m\u001b[43melement\u001b[49m\u001b[38;5;241;43m=\u001b[39;49m\u001b[43melement\u001b[49m\u001b[43m,\u001b[49m\n\u001b[0;32m   1465\u001b[0m \u001b[43m        \u001b[49m\u001b[43mfill\u001b[49m\u001b[38;5;241;43m=\u001b[39;49m\u001b[43mfill\u001b[49m\u001b[43m,\u001b[49m\n\u001b[0;32m   1466\u001b[0m \u001b[43m        \u001b[49m\u001b[43mshrink\u001b[49m\u001b[38;5;241;43m=\u001b[39;49m\u001b[43mshrink\u001b[49m\u001b[43m,\u001b[49m\n\u001b[0;32m   1467\u001b[0m \u001b[43m        \u001b[49m\u001b[43mcommon_norm\u001b[49m\u001b[38;5;241;43m=\u001b[39;49m\u001b[43mcommon_norm\u001b[49m\u001b[43m,\u001b[49m\n\u001b[0;32m   1468\u001b[0m \u001b[43m        \u001b[49m\u001b[43mcommon_bins\u001b[49m\u001b[38;5;241;43m=\u001b[39;49m\u001b[43mcommon_bins\u001b[49m\u001b[43m,\u001b[49m\n\u001b[0;32m   1469\u001b[0m \u001b[43m        \u001b[49m\u001b[43mkde\u001b[49m\u001b[38;5;241;43m=\u001b[39;49m\u001b[43mkde\u001b[49m\u001b[43m,\u001b[49m\n\u001b[0;32m   1470\u001b[0m \u001b[43m        \u001b[49m\u001b[43mkde_kws\u001b[49m\u001b[38;5;241;43m=\u001b[39;49m\u001b[43mkde_kws\u001b[49m\u001b[43m,\u001b[49m\n\u001b[0;32m   1471\u001b[0m \u001b[43m        \u001b[49m\u001b[43mcolor\u001b[49m\u001b[38;5;241;43m=\u001b[39;49m\u001b[43mcolor\u001b[49m\u001b[43m,\u001b[49m\n\u001b[0;32m   1472\u001b[0m \u001b[43m        \u001b[49m\u001b[43mlegend\u001b[49m\u001b[38;5;241;43m=\u001b[39;49m\u001b[43mlegend\u001b[49m\u001b[43m,\u001b[49m\n\u001b[0;32m   1473\u001b[0m \u001b[43m        \u001b[49m\u001b[43mestimate_kws\u001b[49m\u001b[38;5;241;43m=\u001b[39;49m\u001b[43mestimate_kws\u001b[49m\u001b[43m,\u001b[49m\n\u001b[0;32m   1474\u001b[0m \u001b[43m        \u001b[49m\u001b[43mline_kws\u001b[49m\u001b[38;5;241;43m=\u001b[39;49m\u001b[43mline_kws\u001b[49m\u001b[43m,\u001b[49m\n\u001b[0;32m   1475\u001b[0m \u001b[43m        \u001b[49m\u001b[38;5;241;43m*\u001b[39;49m\u001b[38;5;241;43m*\u001b[39;49m\u001b[43mkwargs\u001b[49m\u001b[43m,\u001b[49m\n\u001b[0;32m   1476\u001b[0m \u001b[43m    \u001b[49m\u001b[43m)\u001b[49m\n\u001b[0;32m   1478\u001b[0m \u001b[38;5;28;01melse\u001b[39;00m:\n\u001b[0;32m   1480\u001b[0m     p\u001b[38;5;241m.\u001b[39mplot_bivariate_histogram(\n\u001b[0;32m   1481\u001b[0m         common_bins\u001b[38;5;241m=\u001b[39mcommon_bins,\n\u001b[0;32m   1482\u001b[0m         common_norm\u001b[38;5;241m=\u001b[39mcommon_norm,\n\u001b[1;32m   (...)\u001b[0m\n\u001b[0;32m   1492\u001b[0m         \u001b[38;5;241m*\u001b[39m\u001b[38;5;241m*\u001b[39mkwargs,\n\u001b[0;32m   1493\u001b[0m     )\n",
      "File \u001b[1;32m~\\anaconda3\\lib\\site-packages\\seaborn\\distributions.py:565\u001b[0m, in \u001b[0;36m_DistributionPlotter.plot_univariate_histogram\u001b[1;34m(self, multiple, element, fill, common_norm, common_bins, shrink, kde, kde_kws, color, legend, line_kws, estimate_kws, **plot_kws)\u001b[0m\n\u001b[0;32m    560\u001b[0m \u001b[38;5;28;01mif\u001b[39;00m element \u001b[38;5;241m==\u001b[39m \u001b[38;5;124m\"\u001b[39m\u001b[38;5;124mbars\u001b[39m\u001b[38;5;124m\"\u001b[39m:\n\u001b[0;32m    561\u001b[0m \n\u001b[0;32m    562\u001b[0m     \u001b[38;5;66;03m# Use matplotlib bar plotting\u001b[39;00m\n\u001b[0;32m    564\u001b[0m     plot_func \u001b[38;5;241m=\u001b[39m ax\u001b[38;5;241m.\u001b[39mbar \u001b[38;5;28;01mif\u001b[39;00m \u001b[38;5;28mself\u001b[39m\u001b[38;5;241m.\u001b[39mdata_variable \u001b[38;5;241m==\u001b[39m \u001b[38;5;124m\"\u001b[39m\u001b[38;5;124mx\u001b[39m\u001b[38;5;124m\"\u001b[39m \u001b[38;5;28;01melse\u001b[39;00m ax\u001b[38;5;241m.\u001b[39mbarh\n\u001b[1;32m--> 565\u001b[0m     artists \u001b[38;5;241m=\u001b[39m \u001b[43mplot_func\u001b[49m\u001b[43m(\u001b[49m\n\u001b[0;32m    566\u001b[0m \u001b[43m        \u001b[49m\u001b[43mhist\u001b[49m\u001b[43m[\u001b[49m\u001b[38;5;124;43m\"\u001b[39;49m\u001b[38;5;124;43medges\u001b[39;49m\u001b[38;5;124;43m\"\u001b[39;49m\u001b[43m]\u001b[49m\u001b[43m,\u001b[49m\n\u001b[0;32m    567\u001b[0m \u001b[43m        \u001b[49m\u001b[43mhist\u001b[49m\u001b[43m[\u001b[49m\u001b[38;5;124;43m\"\u001b[39;49m\u001b[38;5;124;43mheights\u001b[39;49m\u001b[38;5;124;43m\"\u001b[39;49m\u001b[43m]\u001b[49m\u001b[43m \u001b[49m\u001b[38;5;241;43m-\u001b[39;49m\u001b[43m \u001b[49m\u001b[43mbottom\u001b[49m\u001b[43m,\u001b[49m\n\u001b[0;32m    568\u001b[0m \u001b[43m        \u001b[49m\u001b[43mhist\u001b[49m\u001b[43m[\u001b[49m\u001b[38;5;124;43m\"\u001b[39;49m\u001b[38;5;124;43mwidths\u001b[39;49m\u001b[38;5;124;43m\"\u001b[39;49m\u001b[43m]\u001b[49m\u001b[43m,\u001b[49m\n\u001b[0;32m    569\u001b[0m \u001b[43m        \u001b[49m\u001b[43mbottom\u001b[49m\u001b[43m,\u001b[49m\n\u001b[0;32m    570\u001b[0m \u001b[43m        \u001b[49m\u001b[43malign\u001b[49m\u001b[38;5;241;43m=\u001b[39;49m\u001b[38;5;124;43m\"\u001b[39;49m\u001b[38;5;124;43medge\u001b[39;49m\u001b[38;5;124;43m\"\u001b[39;49m\u001b[43m,\u001b[49m\n\u001b[0;32m    571\u001b[0m \u001b[43m        \u001b[49m\u001b[38;5;241;43m*\u001b[39;49m\u001b[38;5;241;43m*\u001b[39;49m\u001b[43martist_kws\u001b[49m\u001b[43m,\u001b[49m\n\u001b[0;32m    572\u001b[0m \u001b[43m    \u001b[49m\u001b[43m)\u001b[49m\n\u001b[0;32m    573\u001b[0m     \u001b[38;5;28;01mfor\u001b[39;00m bar \u001b[38;5;129;01min\u001b[39;00m artists:\n\u001b[0;32m    574\u001b[0m         \u001b[38;5;28;01mif\u001b[39;00m \u001b[38;5;28mself\u001b[39m\u001b[38;5;241m.\u001b[39mdata_variable \u001b[38;5;241m==\u001b[39m \u001b[38;5;124m\"\u001b[39m\u001b[38;5;124mx\u001b[39m\u001b[38;5;124m\"\u001b[39m:\n",
      "File \u001b[1;32m~\\anaconda3\\lib\\site-packages\\matplotlib\\__init__.py:1412\u001b[0m, in \u001b[0;36m_preprocess_data.<locals>.inner\u001b[1;34m(ax, data, *args, **kwargs)\u001b[0m\n\u001b[0;32m   1409\u001b[0m \u001b[38;5;129m@functools\u001b[39m\u001b[38;5;241m.\u001b[39mwraps(func)\n\u001b[0;32m   1410\u001b[0m \u001b[38;5;28;01mdef\u001b[39;00m \u001b[38;5;21minner\u001b[39m(ax, \u001b[38;5;241m*\u001b[39margs, data\u001b[38;5;241m=\u001b[39m\u001b[38;5;28;01mNone\u001b[39;00m, \u001b[38;5;241m*\u001b[39m\u001b[38;5;241m*\u001b[39mkwargs):\n\u001b[0;32m   1411\u001b[0m     \u001b[38;5;28;01mif\u001b[39;00m data \u001b[38;5;129;01mis\u001b[39;00m \u001b[38;5;28;01mNone\u001b[39;00m:\n\u001b[1;32m-> 1412\u001b[0m         \u001b[38;5;28;01mreturn\u001b[39;00m \u001b[43mfunc\u001b[49m\u001b[43m(\u001b[49m\u001b[43max\u001b[49m\u001b[43m,\u001b[49m\u001b[43m \u001b[49m\u001b[38;5;241;43m*\u001b[39;49m\u001b[38;5;28;43mmap\u001b[39;49m\u001b[43m(\u001b[49m\u001b[43msanitize_sequence\u001b[49m\u001b[43m,\u001b[49m\u001b[43m \u001b[49m\u001b[43margs\u001b[49m\u001b[43m)\u001b[49m\u001b[43m,\u001b[49m\u001b[43m \u001b[49m\u001b[38;5;241;43m*\u001b[39;49m\u001b[38;5;241;43m*\u001b[39;49m\u001b[43mkwargs\u001b[49m\u001b[43m)\u001b[49m\n\u001b[0;32m   1414\u001b[0m     bound \u001b[38;5;241m=\u001b[39m new_sig\u001b[38;5;241m.\u001b[39mbind(ax, \u001b[38;5;241m*\u001b[39margs, \u001b[38;5;241m*\u001b[39m\u001b[38;5;241m*\u001b[39mkwargs)\n\u001b[0;32m   1415\u001b[0m     auto_label \u001b[38;5;241m=\u001b[39m (bound\u001b[38;5;241m.\u001b[39marguments\u001b[38;5;241m.\u001b[39mget(label_namer)\n\u001b[0;32m   1416\u001b[0m                   \u001b[38;5;129;01mor\u001b[39;00m bound\u001b[38;5;241m.\u001b[39mkwargs\u001b[38;5;241m.\u001b[39mget(label_namer))\n",
      "File \u001b[1;32m~\\anaconda3\\lib\\site-packages\\matplotlib\\axes\\_axes.py:2338\u001b[0m, in \u001b[0;36mAxes.bar\u001b[1;34m(self, x, height, width, bottom, align, **kwargs)\u001b[0m\n\u001b[0;32m   2336\u001b[0m y0 \u001b[38;5;241m=\u001b[39m y\n\u001b[0;32m   2337\u001b[0m y \u001b[38;5;241m=\u001b[39m np\u001b[38;5;241m.\u001b[39masarray(\u001b[38;5;28mself\u001b[39m\u001b[38;5;241m.\u001b[39mconvert_yunits(y))\n\u001b[1;32m-> 2338\u001b[0m height \u001b[38;5;241m=\u001b[39m \u001b[38;5;28;43mself\u001b[39;49m\u001b[38;5;241;43m.\u001b[39;49m\u001b[43m_convert_dx\u001b[49m\u001b[43m(\u001b[49m\u001b[43mheight\u001b[49m\u001b[43m,\u001b[49m\u001b[43m \u001b[49m\u001b[43my0\u001b[49m\u001b[43m,\u001b[49m\u001b[43m \u001b[49m\u001b[43my\u001b[49m\u001b[43m,\u001b[49m\u001b[43m \u001b[49m\u001b[38;5;28;43mself\u001b[39;49m\u001b[38;5;241;43m.\u001b[39;49m\u001b[43mconvert_yunits\u001b[49m\u001b[43m)\u001b[49m\n\u001b[0;32m   2339\u001b[0m \u001b[38;5;28;01mif\u001b[39;00m yerr \u001b[38;5;129;01mis\u001b[39;00m \u001b[38;5;129;01mnot\u001b[39;00m \u001b[38;5;28;01mNone\u001b[39;00m:\n\u001b[0;32m   2340\u001b[0m     yerr \u001b[38;5;241m=\u001b[39m \u001b[38;5;28mself\u001b[39m\u001b[38;5;241m.\u001b[39m_convert_dx(yerr, y0, y, \u001b[38;5;28mself\u001b[39m\u001b[38;5;241m.\u001b[39mconvert_yunits)\n",
      "File \u001b[1;32m~\\anaconda3\\lib\\site-packages\\matplotlib\\axes\\_axes.py:2162\u001b[0m, in \u001b[0;36mAxes._convert_dx\u001b[1;34m(dx, x0, xconv, convert)\u001b[0m\n\u001b[0;32m   2160\u001b[0m     dx \u001b[38;5;241m=\u001b[39m [dx]\n\u001b[0;32m   2161\u001b[0m     delist \u001b[38;5;241m=\u001b[39m \u001b[38;5;28;01mTrue\u001b[39;00m\n\u001b[1;32m-> 2162\u001b[0m dx \u001b[38;5;241m=\u001b[39m [convert(x0 \u001b[38;5;241m+\u001b[39m ddx) \u001b[38;5;241m-\u001b[39m x \u001b[38;5;28;01mfor\u001b[39;00m ddx \u001b[38;5;129;01min\u001b[39;00m dx]\n\u001b[0;32m   2163\u001b[0m \u001b[38;5;28;01mif\u001b[39;00m delist:\n\u001b[0;32m   2164\u001b[0m     dx \u001b[38;5;241m=\u001b[39m dx[\u001b[38;5;241m0\u001b[39m]\n",
      "File \u001b[1;32m~\\anaconda3\\lib\\site-packages\\matplotlib\\axes\\_axes.py:2162\u001b[0m, in \u001b[0;36m<listcomp>\u001b[1;34m(.0)\u001b[0m\n\u001b[0;32m   2160\u001b[0m     dx \u001b[38;5;241m=\u001b[39m [dx]\n\u001b[0;32m   2161\u001b[0m     delist \u001b[38;5;241m=\u001b[39m \u001b[38;5;28;01mTrue\u001b[39;00m\n\u001b[1;32m-> 2162\u001b[0m dx \u001b[38;5;241m=\u001b[39m [\u001b[43mconvert\u001b[49m\u001b[43m(\u001b[49m\u001b[43mx0\u001b[49m\u001b[43m \u001b[49m\u001b[38;5;241;43m+\u001b[39;49m\u001b[43m \u001b[49m\u001b[43mddx\u001b[49m\u001b[43m)\u001b[49m \u001b[38;5;241m-\u001b[39m x \u001b[38;5;28;01mfor\u001b[39;00m ddx \u001b[38;5;129;01min\u001b[39;00m dx]\n\u001b[0;32m   2163\u001b[0m \u001b[38;5;28;01mif\u001b[39;00m delist:\n\u001b[0;32m   2164\u001b[0m     dx \u001b[38;5;241m=\u001b[39m dx[\u001b[38;5;241m0\u001b[39m]\n",
      "File \u001b[1;32m~\\anaconda3\\lib\\site-packages\\matplotlib\\artist.py:264\u001b[0m, in \u001b[0;36mArtist.convert_yunits\u001b[1;34m(self, y)\u001b[0m\n\u001b[0;32m    262\u001b[0m \u001b[38;5;28;01mif\u001b[39;00m ax \u001b[38;5;129;01mis\u001b[39;00m \u001b[38;5;28;01mNone\u001b[39;00m \u001b[38;5;129;01mor\u001b[39;00m ax\u001b[38;5;241m.\u001b[39myaxis \u001b[38;5;129;01mis\u001b[39;00m \u001b[38;5;28;01mNone\u001b[39;00m:\n\u001b[0;32m    263\u001b[0m     \u001b[38;5;28;01mreturn\u001b[39;00m y\n\u001b[1;32m--> 264\u001b[0m \u001b[38;5;28;01mreturn\u001b[39;00m \u001b[43max\u001b[49m\u001b[38;5;241;43m.\u001b[39;49m\u001b[43myaxis\u001b[49m\u001b[38;5;241;43m.\u001b[39;49m\u001b[43mconvert_units\u001b[49m\u001b[43m(\u001b[49m\u001b[43my\u001b[49m\u001b[43m)\u001b[49m\n",
      "File \u001b[1;32m~\\anaconda3\\lib\\site-packages\\matplotlib\\axis.py:1497\u001b[0m, in \u001b[0;36mAxis.convert_units\u001b[1;34m(self, x)\u001b[0m\n\u001b[0;32m   1495\u001b[0m \u001b[38;5;28;01mdef\u001b[39;00m \u001b[38;5;21mconvert_units\u001b[39m(\u001b[38;5;28mself\u001b[39m, x):\n\u001b[0;32m   1496\u001b[0m     \u001b[38;5;66;03m# If x is natively supported by Matplotlib, doesn't need converting\u001b[39;00m\n\u001b[1;32m-> 1497\u001b[0m     \u001b[38;5;28;01mif\u001b[39;00m \u001b[43mmunits\u001b[49m\u001b[38;5;241;43m.\u001b[39;49m\u001b[43m_is_natively_supported\u001b[49m\u001b[43m(\u001b[49m\u001b[43mx\u001b[49m\u001b[43m)\u001b[49m:\n\u001b[0;32m   1498\u001b[0m         \u001b[38;5;28;01mreturn\u001b[39;00m x\n\u001b[0;32m   1500\u001b[0m     \u001b[38;5;28;01mif\u001b[39;00m \u001b[38;5;28mself\u001b[39m\u001b[38;5;241m.\u001b[39mconverter \u001b[38;5;129;01mis\u001b[39;00m \u001b[38;5;28;01mNone\u001b[39;00m:\n",
      "File \u001b[1;32m~\\anaconda3\\lib\\site-packages\\matplotlib\\units.py:69\u001b[0m, in \u001b[0;36m_is_natively_supported\u001b[1;34m(x)\u001b[0m\n\u001b[0;32m     67\u001b[0m         \u001b[38;5;28;01mreturn\u001b[39;00m \u001b[38;5;28misinstance\u001b[39m(thisx, Number) \u001b[38;5;129;01mand\u001b[39;00m \u001b[38;5;129;01mnot\u001b[39;00m \u001b[38;5;28misinstance\u001b[39m(thisx, Decimal)\n\u001b[0;32m     68\u001b[0m \u001b[38;5;28;01melse\u001b[39;00m:\n\u001b[1;32m---> 69\u001b[0m     \u001b[38;5;28;01mreturn\u001b[39;00m \u001b[38;5;28;43misinstance\u001b[39;49m(x, Number) \u001b[38;5;129;01mand\u001b[39;00m \u001b[38;5;129;01mnot\u001b[39;00m \u001b[38;5;28misinstance\u001b[39m(x, Decimal)\n",
      "\u001b[1;31mKeyboardInterrupt\u001b[0m: "
     ]
    },
    {
     "data": {
      "image/png": "[encoded data removed]",
      "text/plain": [
       "<Figure size 432x288 with 1 Axes>"
      ]
     },
     "metadata": {},
     "output_type": "display_data"
    }
   ],
   "source": [
    "sns.histplot(data=ingredient_freq_df, x=\"Frequency\")\n",
    "plt.show()"
   ]
  }
 ],
 "metadata": {
  "kernelspec": {
   "display_name": "Python 3 (ipykernel)",
   "language": "python",
   "name": "python3"
  },
  "language_info": {
   "codemirror_mode": {
    "name": "ipython",
    "version": 3
   },
   "file_extension": ".py",
   "mimetype": "text/x-python",
   "name": "python",
   "nbconvert_exporter": "python",
   "pygments_lexer": "ipython3",
   "version": "3.8.12"
  }
 },
 "nbformat": 4,
 "nbformat_minor": 5
}
