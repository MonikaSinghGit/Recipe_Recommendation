{
 "cells": [
  {
   "cell_type": "markdown",
   "id": "37ceb30a",
   "metadata": {},
   "source": [
    "## Exploring CorEx on Recipe Topic Generation\n",
    "\n",
    "Guide [here](https://github.com/gregversteeg/corex_topic/blob/master/corextopic/example/corex_topic_example.ipynb)\n",
    "\n"
   ]
  },
  {
   "cell_type": "code",
   "execution_count": 1,
   "id": "d43fb349",
   "metadata": {},
   "outputs": [],
   "source": [
    "import numpy as np\n",
    "import pandas as pd\n",
    "import scipy.sparse as ss\n",
    "import matplotlib.pyplot as plt\n",
    "\n",
    "import corextopic.corextopic as ct\n",
    "import corextopic.vis_topic as vt # jupyter notebooks will complain matplotlib is being loaded twice\n",
    "\n",
    "from sklearn.feature_extraction.text import CountVectorizer\n",
    "\n",
    "%matplotlib inline"
   ]
  },
  {
   "cell_type": "code",
   "execution_count": 28,
   "id": "674fd643",
   "metadata": {},
   "outputs": [],
   "source": [
    "df = pd.read_csv('Recipe_Recommendation/dataset/Recipe_sample_dataset_small.csv')"
   ]
  },
  {
   "cell_type": "code",
   "execution_count": 3,
   "id": "482b1fce",
   "metadata": {},
   "outputs": [],
   "source": [
    "df.drop(columns=['Unnamed: 0','Unnamed: 0.1'],inplace=True)"
   ]
  },
  {
   "cell_type": "code",
   "execution_count": 4,
   "id": "6a7e54c0",
   "metadata": {},
   "outputs": [
    {
     "data": {
      "text/html": [
       "<div>\n",
       "<style scoped>\n",
       "    .dataframe tbody tr th:only-of-type {\n",
       "        vertical-align: middle;\n",
       "    }\n",
       "\n",
       "    .dataframe tbody tr th {\n",
       "        vertical-align: top;\n",
       "    }\n",
       "\n",
       "    .dataframe thead th {\n",
       "        text-align: right;\n",
       "    }\n",
       "</style>\n",
       "<table border=\"1\" class=\"dataframe\">\n",
       "  <thead>\n",
       "    <tr style=\"text-align: right;\">\n",
       "      <th></th>\n",
       "      <th>title</th>\n",
       "      <th>ingredients</th>\n",
       "      <th>directions</th>\n",
       "      <th>link</th>\n",
       "      <th>source</th>\n",
       "      <th>NER</th>\n",
       "    </tr>\n",
       "  </thead>\n",
       "  <tbody>\n",
       "    <tr>\n",
       "      <th>0</th>\n",
       "      <td>Apple Dip</td>\n",
       "      <td>[\"1 (7 oz.) jar Marshmallow Creme\", \"1 (8 oz.)...</td>\n",
       "      <td>[\"Bring cream cheese to room temperature. Mix ...</td>\n",
       "      <td>www.cookbooks.com/Recipe-Details.aspx?id=980881</td>\n",
       "      <td>Gathered</td>\n",
       "      <td>[\"Marshmallow Creme\", \"cream cheese\"]</td>\n",
       "    </tr>\n",
       "    <tr>\n",
       "      <th>1</th>\n",
       "      <td>Wasabi Whipped Potatoes</td>\n",
       "      <td>[\"1 1/2 lb. russet or Yukon gold potatoes, pee...</td>\n",
       "      <td>[\"Place potatoes in large saucepan, cover with...</td>\n",
       "      <td>www.vegetariantimes.com/recipe/wasabi-whipped-...</td>\n",
       "      <td>Recipes1M</td>\n",
       "      <td>[\"russet\", \"low-fat milk\", \"butter\", \"wasabi p...</td>\n",
       "    </tr>\n",
       "    <tr>\n",
       "      <th>2</th>\n",
       "      <td>Caramel Breakfast Rolls</td>\n",
       "      <td>[\"2 (1 lb.) loaves frozen bread dough, thawed\"...</td>\n",
       "      <td>[\"Cut 1 loaf of bread into small pieces; place...</td>\n",
       "      <td>www.cookbooks.com/Recipe-Details.aspx?id=537560</td>\n",
       "      <td>Gathered</td>\n",
       "      <td>[\"bread\", \"brown sugar\", \"regular vanilla pudd...</td>\n",
       "    </tr>\n",
       "    <tr>\n",
       "      <th>3</th>\n",
       "      <td>Egg And Sausage Muffins</td>\n",
       "      <td>[\"1/4 cup cream (half &amp; half)\", \"12 large eggs...</td>\n",
       "      <td>[\"Preheat oven to 350 \\u00b0F (175 \\u00b0C). S...</td>\n",
       "      <td>www.epicurious.com/recipes/member/views/egg-an...</td>\n",
       "      <td>Gathered</td>\n",
       "      <td>[\"cream\", \"eggs\", \"pepper\", \"salt\", \"pork saus...</td>\n",
       "    </tr>\n",
       "    <tr>\n",
       "      <th>4</th>\n",
       "      <td>Taco Soup</td>\n",
       "      <td>[\"2 lb. lean ground beef\", \"1 small onion, cho...</td>\n",
       "      <td>[\"Brown ground beef and onions; drain fat.\", \"...</td>\n",
       "      <td>www.cookbooks.com/Recipe-Details.aspx?id=288957</td>\n",
       "      <td>Gathered</td>\n",
       "      <td>[\"lean ground beef\", \"onion\", \"pintos\", \"kidne...</td>\n",
       "    </tr>\n",
       "  </tbody>\n",
       "</table>\n",
       "</div>"
      ],
      "text/plain": [
       "                      title  \\\n",
       "0                 Apple Dip   \n",
       "1   Wasabi Whipped Potatoes   \n",
       "2   Caramel Breakfast Rolls   \n",
       "3  Egg And Sausage Muffins    \n",
       "4                 Taco Soup   \n",
       "\n",
       "                                         ingredients  \\\n",
       "0  [\"1 (7 oz.) jar Marshmallow Creme\", \"1 (8 oz.)...   \n",
       "1  [\"1 1/2 lb. russet or Yukon gold potatoes, pee...   \n",
       "2  [\"2 (1 lb.) loaves frozen bread dough, thawed\"...   \n",
       "3  [\"1/4 cup cream (half & half)\", \"12 large eggs...   \n",
       "4  [\"2 lb. lean ground beef\", \"1 small onion, cho...   \n",
       "\n",
       "                                          directions  \\\n",
       "0  [\"Bring cream cheese to room temperature. Mix ...   \n",
       "1  [\"Place potatoes in large saucepan, cover with...   \n",
       "2  [\"Cut 1 loaf of bread into small pieces; place...   \n",
       "3  [\"Preheat oven to 350 \\u00b0F (175 \\u00b0C). S...   \n",
       "4  [\"Brown ground beef and onions; drain fat.\", \"...   \n",
       "\n",
       "                                                link     source  \\\n",
       "0    www.cookbooks.com/Recipe-Details.aspx?id=980881   Gathered   \n",
       "1  www.vegetariantimes.com/recipe/wasabi-whipped-...  Recipes1M   \n",
       "2    www.cookbooks.com/Recipe-Details.aspx?id=537560   Gathered   \n",
       "3  www.epicurious.com/recipes/member/views/egg-an...   Gathered   \n",
       "4    www.cookbooks.com/Recipe-Details.aspx?id=288957   Gathered   \n",
       "\n",
       "                                                 NER  \n",
       "0              [\"Marshmallow Creme\", \"cream cheese\"]  \n",
       "1  [\"russet\", \"low-fat milk\", \"butter\", \"wasabi p...  \n",
       "2  [\"bread\", \"brown sugar\", \"regular vanilla pudd...  \n",
       "3  [\"cream\", \"eggs\", \"pepper\", \"salt\", \"pork saus...  \n",
       "4  [\"lean ground beef\", \"onion\", \"pintos\", \"kidne...  "
      ]
     },
     "execution_count": 4,
     "metadata": {},
     "output_type": "execute_result"
    }
   ],
   "source": [
    "df.head()"
   ]
  },
  {
   "cell_type": "code",
   "execution_count": 5,
   "id": "a3ae6ecf",
   "metadata": {},
   "outputs": [],
   "source": [
    "df['directions']=[x[2:-2] for x in df['directions']]"
   ]
  },
  {
   "cell_type": "code",
   "execution_count": 6,
   "id": "95945198",
   "metadata": {},
   "outputs": [
    {
     "data": {
      "text/plain": [
       "(22311, 14199)"
      ]
     },
     "execution_count": 6,
     "metadata": {},
     "output_type": "execute_result"
    }
   ],
   "source": [
    "# Transform data into a sparse matrix\n",
    "vectorizer = CountVectorizer(stop_words='english', max_features=20000, binary=True)\n",
    "doc_word = vectorizer.fit_transform(df['directions'])\n",
    "doc_word = ss.csr_matrix(doc_word)\n",
    "\n",
    "doc_word.shape # n_docs x m_words"
   ]
  },
  {
   "cell_type": "code",
   "execution_count": 7,
   "id": "1d0eaf20",
   "metadata": {},
   "outputs": [],
   "source": [
    "# Get words that label the columns (needed to extract readable topics and make anchoring easier)\n",
    "words = list(np.asarray(vectorizer.get_feature_names()))"
   ]
  },
  {
   "cell_type": "code",
   "execution_count": 8,
   "id": "ceb48631",
   "metadata": {},
   "outputs": [
    {
     "data": {
      "text/plain": [
       "(22311, 13830)"
      ]
     },
     "execution_count": 8,
     "metadata": {},
     "output_type": "execute_result"
    }
   ],
   "source": [
    "not_digit_inds = [ind for ind,word in enumerate(words) if not word.isdigit()]\n",
    "doc_word = doc_word[:,not_digit_inds]\n",
    "words    = [word for ind,word in enumerate(words) if not word.isdigit()]\n",
    "\n",
    "doc_word.shape # n_docs x m_words"
   ]
  },
  {
   "cell_type": "code",
   "execution_count": 14,
   "id": "eccb2725",
   "metadata": {},
   "outputs": [],
   "source": [
    "topic_model = ct.Corex(n_hidden=50, words=words, max_iter=200, verbose=False)\n",
    "topic_model.fit(doc_word, words=words);"
   ]
  },
  {
   "cell_type": "code",
   "execution_count": 15,
   "id": "9469dddd",
   "metadata": {},
   "outputs": [
    {
     "name": "stdout",
     "output_type": "stream",
     "text": [
      "0: pepper, garlic, onion, season, onions, tomatoes, parsley, green, tomato, celery\n",
      "1: use, like, little, sure, want, bit, turn, start, need, making\n",
      "2: sugar, vanilla, beat, egg, soda, cream, chocolate, sift, whites, yolks\n",
      "3: bake, u00b0, baking, minutes, greased, inch, dish, spread, pans, loaf\n",
      "4: bring, boil, simmer, water, saucepan, pot, boiling, thickened, dutch, cold\n",
      "5: oven, preheat, degrees, u00b0f, preheated, golden, prepared, grease, evenly, 350f\n",
      "6: mixer, dough, speed, electric, knead, floured, yeast, rise, form, fluffy\n",
      "7: cook, skillet, tender, drain, saute, sauce, broth, beef, brown, mushrooms\n",
      "8: oil, olive, cooked, fry, red, grill, fish, soy, frying, wine\n",
      "9: surface, edges, lightly, pastry, filling, press, work, line, cutter, edge\n",
      "10: sheet, cookie, roll, balls, shape, sheets, drop, ball, cookies, apart\n",
      "11: juice, lemon, processor, food, zest, lime, process, blender, orange, puree\n",
      "12: ice, glass, glasses, strain, freeze, pitcher, freezer, garnish, shaker, chilled\n",
      "13: cut, wrap, plastic, half, pieces, slice, lengthwise, piece, long, ends\n",
      "14: stirring, medium, remove, occasionally, low, constantly, minute, heavy, cover, return\n",
      "15: place, foil, brush, sides, slices, sprinkle, repeat, arrange, layer, turning\n",
      "16: possibly, till, min, lowfat, hrs, pcs, healthy, pwdr, proportionately, notes\n",
      "17: don, used, peel, good, best, check, wash, ll, possible, kitchen\n",
      "18: cool, rack, wire, comes, completely, clean, knife, racks, sharp, cooling\n",
      "19: store, refrigerator, container, overnight, hours, refrigerate, airtight, days, bag, marinade\n",
      "20: according, directions, package, pasta, parmesan, instructions, dente, al, prepare, directed\n",
      "21: jars, calories, protein, fiber, cholesterol, sodium, lids, sterilized, saturated, carbohydrate\n",
      "22: flour, butter, eggs, batter, milk, powder, gradually, dry, melt, buttermilk\n",
      "23: inserted, center, toothpick, pick, near, thumb, pretty, test, indentation, skewer\n",
      "24: transfer, whisk, using, small, just, tablespoons, gently, tablespoon, serving, reserved\n",
      "25: temperature, room, spatula, parchment, rubber, fitted, lined, carefully, internal, incorporated\n",
      "26: bowl, large, mixture, combine, mixing, smooth, combined, separate, cups, firm\n",
      "27: set, aside, frittata, knorr, combining, chip, tbls, begun, underdone, frittatas\n",
      "28: taste, bay, leaves, stock, leaf, adjust, rinse, paste, roast, steam\n",
      "29: heat, high, reduce, hot, continue, reduced, batches, lower, softened, moderately\n",
      "30: paper, towel, rolling, cast, pin, iron, flip, bubbles, air, equal\n",
      "31: cheese, soup, casserole, cheddar, sour, tortilla, tortillas, shredded, grated, salsa\n",
      "32: pie, crust, whipped, shell, pour, topping, gelatin, strawberries, jello, graham\n",
      "33: spray, cooking, non, stick, coated, nonstick, coat, sprayed, pam, reactive\n",
      "34: thermometer, registers, read, reads, instant, thickest, reaches, clear, flipping, register\n",
      "35: make, divide, leaving, size, ready, rest, portions, space, times, portion\n",
      "36: cinnamon, apples, apple, nutmeg, maple, raisins, syrup, oats, cloves, walnuts\n",
      "37: muffin, boiler, double, muffins, tins, frosting, liners, frost, tin, cupcake\n",
      "38: cilantro, cumin, chili, mash, avocado, jalapeno, masher, potato, chile, shrimp\n",
      "39: let, stand, sit, slicing, analysis, nutritional, location, rests, disappear, dishtowel\n",
      "40: microwave, safe, seconds, power, microwaveable, intervals, microwavable, increments, micro, mug\n",
      "41: liquid, excess, discard, towels, deep, slotted, absorbed, necessary, reserving, covered\n",
      "42: add, salt, stir, soft, warm, slowly, begin, crackers, corn, tsp\n",
      "43: serve, immediately, bowls, desired, individual, topped, sliced, skewers, thinly, thread\n",
      "44: remaining, cup, spoon, plate, slightly, working, creme, dollop, fraiche, soften\n",
      "45: longer, pink, remains, floury, crumbles, crispiness, slashed, guilt, noir, thr\n",
      "46: chicken, meat, cake, mix, whip, pudding, marshmallows, turkey, breasts, steak\n",
      "47: drizzle, plates, toast, platter, fragrant, toasted, fennel, capers, juices, tbsp\n",
      "48: pan, time, loosen, wooden, white, firmly, spring, remainder, finally, moving\n",
      "49: foam, rises, subsides, thirty, containing, chervil, immerse, swordfish, stirfry, oscar\n"
     ]
    }
   ],
   "source": [
    "# Print all topics from the CorEx topic model\n",
    "topics = topic_model.get_topics()\n",
    "for n,topic in enumerate(topics):\n",
    "    topic_words,_,_ = zip(*topic)\n",
    "    print('{}: '.format(n) + ', '.join(topic_words))"
   ]
  },
  {
   "cell_type": "code",
   "execution_count": 11,
   "id": "f6af514e",
   "metadata": {},
   "outputs": [
    {
     "data": {
      "text/plain": [
       "13.915259073731116"
      ]
     },
     "execution_count": 11,
     "metadata": {},
     "output_type": "execute_result"
    }
   ],
   "source": [
    "topic_model.tc"
   ]
  },
  {
   "cell_type": "code",
   "execution_count": 12,
   "id": "5978ee22",
   "metadata": {},
   "outputs": [
    {
     "data": {
      "text/plain": [
       "array([1.62839616, 1.27621604, 1.21558295, 1.18628812, 0.95716013,\n",
       "       0.82787045, 0.80587158, 0.69666544, 0.56629242, 0.54968984,\n",
       "       0.53344036, 0.51981236, 0.51771778, 0.50175677, 0.42184744,\n",
       "       0.41633109, 0.35711867, 0.34798408, 0.30307219, 0.28614519])"
      ]
     },
     "execution_count": 12,
     "metadata": {},
     "output_type": "execute_result"
    }
   ],
   "source": [
    "topic_model.tcs"
   ]
  },
  {
   "cell_type": "code",
   "execution_count": 17,
   "id": "9b033b76",
   "metadata": {},
   "outputs": [
    {
     "data": {
      "image/png": "[encoded data removed]",
      "text/plain": [
       "<Figure size 720x360 with 1 Axes>"
      ]
     },
     "metadata": {
      "needs_background": "light"
     },
     "output_type": "display_data"
    }
   ],
   "source": [
    "plt.figure(figsize=(10,5))\n",
    "plt.bar(range(topic_model.tcs.shape[0]), topic_model.tcs, color='#4e79a7', width=0.5)\n",
    "plt.xlabel('Topic', fontsize=16)\n",
    "plt.ylabel('Total Correlation', fontsize=16);\n",
    "plt.savefig('corex_topic_v_tcs.png')"
   ]
  },
  {
   "cell_type": "markdown",
   "id": "6129320f",
   "metadata": {},
   "source": [
    "#### Notes:\n",
    "\n",
    "Below we create the mapping to identify which topics are mapped to which topics. It should be noted CorEx does not require singular assignment, meaning a single document can be assigned to no topics or to many/all."
   ]
  },
  {
   "cell_type": "code",
   "execution_count": 41,
   "id": "b1e5b1a7",
   "metadata": {},
   "outputs": [
    {
     "data": {
      "text/plain": [
       "array([4.68607284e-03, 2.22892458e-04, 4.50886980e-03, 2.15917659e-03,\n",
       "       6.54568561e-01, 7.45516621e-04, 8.07082866e-04, 6.05584606e-03,\n",
       "       3.30822983e-03, 6.17281504e-04, 3.74658614e-03, 3.44204714e-02,\n",
       "       1.80560602e-04, 4.91067755e-03, 5.16756831e-03, 5.38142476e-03,\n",
       "       1.92684410e-03, 3.17510885e-03, 2.05669483e-03, 9.99999000e-01,\n",
       "       3.55882995e-03, 8.69522141e-05, 6.24626952e-03, 2.17039032e-03,\n",
       "       8.60816853e-03, 9.99999000e-01, 5.94362061e-03, 1.05898078e-03,\n",
       "       9.82199698e-03, 4.54815802e-03, 8.21130791e-03, 1.40045717e-01,\n",
       "       7.49837452e-03, 3.04309904e-03, 1.84928081e-04, 1.15275052e-02,\n",
       "       2.55479696e-01, 9.70888105e-03, 8.09492028e-03, 1.61751457e-02,\n",
       "       8.71166875e-04, 1.52393433e-02, 3.17376913e-02, 7.08628299e-01,\n",
       "       5.33740301e-01, 1.26861626e-03, 3.72586928e-05, 1.77753383e-02,\n",
       "       3.97017567e-02, 6.17885372e-02])"
      ]
     },
     "execution_count": 41,
     "metadata": {},
     "output_type": "execute_result"
    }
   ],
   "source": [
    "topic_model.p_y_given_x[0]"
   ]
  },
  {
   "cell_type": "code",
   "execution_count": 68,
   "id": "104b60a7",
   "metadata": {},
   "outputs": [],
   "source": [
    "# creating document to topic mapping\n",
    "\n",
    "df_corex = pd.DataFrame(columns=['doc_id','topic_num'])\n",
    "\n",
    "for idx in range(0,len(topic_model.p_y_given_x)):\n",
    "    \n",
    "    for i in np.where(topic_model.p_y_given_x[idx]==topic_model.p_y_given_x[idx].max()):\n",
    "        \n",
    "        for l in range(0,len(np.where(topic_model.p_y_given_x[idx]==topic_model.p_y_given_x[idx].max())[0])):\n",
    "            \n",
    "            new_row = {'doc_id':idx,'topic_num':i[l]}\n",
    "        \n",
    "            df_corex=df_corex.append(new_row, ignore_index=True)"
   ]
  },
  {
   "cell_type": "code",
   "execution_count": 75,
   "id": "42467ebd",
   "metadata": {},
   "outputs": [],
   "source": [
    "df_corex_research = pd.DataFrame(columns=['doc_id','num_topics'])\n",
    "\n",
    "for idx in range(0,len(topic_model.labels)):\n",
    "    new_row={'doc_id':idx,'num_topics':sum(topic_model.labels[idx])}\n",
    "    df_corex_research = df_corex_research.append(new_row, ignore_index=True)    \n",
    "#     for i in np.where(topic_model.p_y_given_x[idx]==topic_model.p_y_given_x[idx].max()):\n",
    "        "
   ]
  },
  {
   "cell_type": "code",
   "execution_count": 77,
   "id": "73914444",
   "metadata": {},
   "outputs": [
    {
     "data": {
      "text/plain": [
       "357"
      ]
     },
     "execution_count": 77,
     "metadata": {},
     "output_type": "execute_result"
    }
   ],
   "source": [
    "len(df[df_corex_research['num_topics']==0])"
   ]
  },
  {
   "cell_type": "code",
   "execution_count": 79,
   "id": "b0489f90",
   "metadata": {},
   "outputs": [
    {
     "data": {
      "text/plain": [
       "37"
      ]
     },
     "execution_count": 79,
     "metadata": {},
     "output_type": "execute_result"
    }
   ],
   "source": [
    "max(df_corex_research['num_topics'])"
   ]
  },
  {
   "cell_type": "code",
   "execution_count": 97,
   "id": "8848cca6",
   "metadata": {},
   "outputs": [
    {
     "data": {
      "image/png": "[encoded data removed]",
      "text/plain": [
       "<Figure size 432x288 with 1 Axes>"
      ]
     },
     "metadata": {
      "needs_background": "light"
     },
     "output_type": "display_data"
    }
   ],
   "source": [
    "#Demonstrating the distribution of number of topics each document assigned to\n",
    "df_corex_research['num_topics'].value_counts().sort_index().plot(kind='bar')\n",
    "plt.xticks(rotation=90)\n",
    "plt.xlabel(\"Number of Topics Recipe Assigned to\")\n",
    "plt.ylabel(\"Number of Recipes\")\n",
    "plt.savefig('topics_per_recipe_corex.png')"
   ]
  },
  {
   "cell_type": "code",
   "execution_count": null,
   "id": "d665474a",
   "metadata": {},
   "outputs": [],
   "source": []
  },
  {
   "cell_type": "code",
   "execution_count": 54,
   "id": "6ed21efb",
   "metadata": {},
   "outputs": [
    {
     "name": "stdout",
     "output_type": "stream",
     "text": [
      "0\n"
     ]
    }
   ],
   "source": [
    "for i in np.where(topic_model.p_y_given_x[22310]==topic_model.p_y_given_x[22310].max()):\n",
    "    for l in range(0,len(np.where(topic_model.p_y_given_x[22310]==topic_model.p_y_given_x[22310].max())))\n",
    "    print(i[0])"
   ]
  },
  {
   "cell_type": "code",
   "execution_count": 63,
   "id": "27dff20d",
   "metadata": {},
   "outputs": [
    {
     "data": {
      "text/plain": [
       "4"
      ]
     },
     "execution_count": 63,
     "metadata": {},
     "output_type": "execute_result"
    }
   ],
   "source": [
    "len(np.where(topic_model.p_y_given_x[22310]==topic_model.p_y_given_x[22310].max())[0])"
   ]
  },
  {
   "cell_type": "code",
   "execution_count": 50,
   "id": "6f48d3f1",
   "metadata": {},
   "outputs": [
    {
     "name": "stdout",
     "output_type": "stream",
     "text": [
      "[ 0  1  7  8 11 13 14 24 25 27 28 29 36 39 41 42 44]\n"
     ]
    }
   ],
   "source": [
    "for i in np.where(topic_model.labels[22310]==True):\n",
    "    \n",
    "    print(i)"
   ]
  },
  {
   "cell_type": "code",
   "execution_count": 51,
   "id": "ea61d82a",
   "metadata": {},
   "outputs": [
    {
     "data": {
      "text/plain": [
       "array([ True,  True, False, False, False, False, False,  True,  True,\n",
       "       False, False,  True, False,  True,  True, False, False, False,\n",
       "       False, False, False, False, False, False,  True,  True, False,\n",
       "        True,  True,  True, False, False, False, False, False, False,\n",
       "        True, False, False,  True, False,  True,  True, False,  True,\n",
       "       False, False, False, False, False])"
      ]
     },
     "execution_count": 51,
     "metadata": {},
     "output_type": "execute_result"
    }
   ],
   "source": [
    "topic_model.labels[22310]"
   ]
  },
  {
   "cell_type": "code",
   "execution_count": 69,
   "id": "8c5edffd",
   "metadata": {},
   "outputs": [
    {
     "data": {
      "text/html": [
       "<div>\n",
       "<style scoped>\n",
       "    .dataframe tbody tr th:only-of-type {\n",
       "        vertical-align: middle;\n",
       "    }\n",
       "\n",
       "    .dataframe tbody tr th {\n",
       "        vertical-align: top;\n",
       "    }\n",
       "\n",
       "    .dataframe thead th {\n",
       "        text-align: right;\n",
       "    }\n",
       "</style>\n",
       "<table border=\"1\" class=\"dataframe\">\n",
       "  <thead>\n",
       "    <tr style=\"text-align: right;\">\n",
       "      <th></th>\n",
       "      <th>doc_id</th>\n",
       "      <th>topic_num</th>\n",
       "    </tr>\n",
       "  </thead>\n",
       "  <tbody>\n",
       "    <tr>\n",
       "      <th>43642</th>\n",
       "      <td>22310</td>\n",
       "      <td>0</td>\n",
       "    </tr>\n",
       "    <tr>\n",
       "      <th>43643</th>\n",
       "      <td>22310</td>\n",
       "      <td>8</td>\n",
       "    </tr>\n",
       "    <tr>\n",
       "      <th>43644</th>\n",
       "      <td>22310</td>\n",
       "      <td>25</td>\n",
       "    </tr>\n",
       "    <tr>\n",
       "      <th>43645</th>\n",
       "      <td>22310</td>\n",
       "      <td>27</td>\n",
       "    </tr>\n",
       "  </tbody>\n",
       "</table>\n",
       "</div>"
      ],
      "text/plain": [
       "      doc_id topic_num\n",
       "43642  22310         0\n",
       "43643  22310         8\n",
       "43644  22310        25\n",
       "43645  22310        27"
      ]
     },
     "execution_count": 69,
     "metadata": {},
     "output_type": "execute_result"
    }
   ],
   "source": [
    "df_corex[df_corex['doc_id']==22310]"
   ]
  },
  {
   "cell_type": "code",
   "execution_count": 70,
   "id": "59cea899",
   "metadata": {},
   "outputs": [
    {
     "data": {
      "text/plain": [
       "43646"
      ]
     },
     "execution_count": 70,
     "metadata": {},
     "output_type": "execute_result"
    }
   ],
   "source": [
    "len(df_corex)"
   ]
  },
  {
   "cell_type": "code",
   "execution_count": 71,
   "id": "4b2a2847",
   "metadata": {},
   "outputs": [],
   "source": [
    "df_corex.to_csv('corex_doc_to_topic.csv')"
   ]
  },
  {
   "cell_type": "code",
   "execution_count": 42,
   "id": "4c3840de",
   "metadata": {},
   "outputs": [
    {
     "data": {
      "text/plain": [
       "22311"
      ]
     },
     "execution_count": 42,
     "metadata": {},
     "output_type": "execute_result"
    }
   ],
   "source": [
    "len(topic_model.labels)"
   ]
  },
  {
   "cell_type": "markdown",
   "id": "79d3dccc",
   "metadata": {},
   "source": [
    "#### Notes:\n",
    "\n",
    "Trying 10 topics"
   ]
  },
  {
   "cell_type": "code",
   "execution_count": 24,
   "id": "b7b6e348",
   "metadata": {},
   "outputs": [],
   "source": [
    "topic_model10 = ct.Corex(n_hidden=10, words=words, max_iter=200, verbose=False, seed=1)\n",
    "topic_model10.fit(doc_word, words=words);"
   ]
  },
  {
   "cell_type": "code",
   "execution_count": 25,
   "id": "12fa20e3",
   "metadata": {},
   "outputs": [
    {
     "name": "stdout",
     "output_type": "stream",
     "text": [
      "0: sugar, onion, vanilla, chicken, baking, flour, soda, green, chocolate, cheese\n",
      "1: cup, tablespoons, teaspoon, tsp, cups, tbsp, tablespoon, teaspoons, ounces, oz\n",
      "2: pepper, garlic, minced, black, ground, cloves, salt, tomatoes, sauce, chopped\n",
      "3: olive, oil, fresh, virgin, freshly, extra, kosher, dried, cilantro, thyme\n",
      "4: cut, leaves, bay, wine, leaf, inch, soy, pieces, sesame, stock\n",
      "5: red, vinegar, butter, milk, beans, eggs, chili, mustard, peppers, melted\n",
      "6: whip, pie, cool, pudding, graham, mix, whipped, cream, crust, cracker\n",
      "7: purpose, room, temperature, packed, unsalted, brown, oats, granulated, firmly, yeast\n",
      "8: juice, lemon, orange, lime, fat, low, zest, sodium, yogurt, reduced\n",
      "9: thinly, sliced, peeled, large, spray, quartered, squash, vegetable, yellow, cored\n"
     ]
    }
   ],
   "source": [
    "# Print all topics from the CorEx topic model\n",
    "topics10 = topic_model10.get_topics()\n",
    "for n,topic in enumerate(topics10):\n",
    "    topic_words,_,_ = zip(*topic)\n",
    "    print('{}: '.format(n) + ', '.join(topic_words))"
   ]
  },
  {
   "cell_type": "code",
   "execution_count": 26,
   "id": "d9ce5eac",
   "metadata": {},
   "outputs": [
    {
     "data": {
      "text/plain": [
       "7.993253174446666"
      ]
     },
     "execution_count": 26,
     "metadata": {},
     "output_type": "execute_result"
    }
   ],
   "source": [
    "topic_model10.tc"
   ]
  },
  {
   "cell_type": "markdown",
   "id": "655117bc",
   "metadata": {},
   "source": [
    "#### Notes:\n",
    "\n",
    "Trying hierarchical"
   ]
  },
  {
   "cell_type": "code",
   "execution_count": 47,
   "id": "15de7363",
   "metadata": {},
   "outputs": [],
   "source": [
    "topic_model3 = ct.Corex(n_hidden=10, words=words)\n",
    "topic_model3.fit(doc_word, words=words, anchors=[['sugar','soda','flour','powder','vanilla'],'tofu',\\\n",
    "                                                 ['chicken','beef','pork','seafood','shrimp','crab','fish']],\\\n",
    "                 anchor_strength=2);"
   ]
  },
  {
   "cell_type": "code",
   "execution_count": 48,
   "id": "07951c6d",
   "metadata": {},
   "outputs": [
    {
     "data": {
      "text/plain": [
       "9.457210363725316"
      ]
     },
     "execution_count": 48,
     "metadata": {},
     "output_type": "execute_result"
    }
   ],
   "source": [
    "topic_model3.tc"
   ]
  },
  {
   "cell_type": "code",
   "execution_count": 49,
   "id": "96c0281f",
   "metadata": {},
   "outputs": [
    {
     "name": "stdout",
     "output_type": "stream",
     "text": [
      "0: sugar, vanilla, flour, soda, baking, pepper, eggs, extract, powder, butter\n",
      "1: olive, oil, fresh, red, black, cloves, virgin, freshly, leaves, extra\n",
      "2: chicken, beef, garlic, sauce, pork, broth, minced, shrimp, ground, lb\n",
      "3: fat, low, free, sodium, spray, reduced, cooking, use, recipe, follows\n",
      "4: onion, green, chopped, tomatoes, sliced, onions, diced, celery, tomato, medium\n",
      "5: whip, salt, cool, pudding, graham, mix, cake, whipped, cream, pineapple\n",
      "6: juice, lemon, orange, lime, zest, rind, peel, juiced, mint, apple\n",
      "7: cheese, cheddar, parmesan, shredded, grated, mozzarella, sharp, dressing, italian, jack\n",
      "8: parsley, thyme, dried, leaf, bay, dijon, mustard, basil, flat, dill\n",
      "9: cup, tablespoons, teaspoon, tsp, cups, tablespoon, tbsp, teaspoons, ounces, oz\n"
     ]
    }
   ],
   "source": [
    "# Print all topics from the CorEx topic model\n",
    "topics3 = topic_model3.get_topics()\n",
    "for n,topic in enumerate(topics3):\n",
    "    topic_words,_,_ = zip(*topic)\n",
    "    print('{}: '.format(n) + ', '.join(topic_words))"
   ]
  },
  {
   "cell_type": "code",
   "execution_count": null,
   "id": "b96f350d",
   "metadata": {},
   "outputs": [],
   "source": []
  },
  {
   "cell_type": "code",
   "execution_count": null,
   "id": "de1cfd89",
   "metadata": {},
   "outputs": [],
   "source": []
  },
  {
   "cell_type": "code",
   "execution_count": null,
   "id": "d34f202a",
   "metadata": {},
   "outputs": [],
   "source": []
  },
  {
   "cell_type": "code",
   "execution_count": null,
   "id": "139fdead",
   "metadata": {},
   "outputs": [],
   "source": []
  }
 ],
 "metadata": {
  "kernelspec": {
   "display_name": "Python 3 (ipykernel)",
   "language": "python",
   "name": "python3"
  },
  "language_info": {
   "codemirror_mode": {
    "name": "ipython",
    "version": 3
   },
   "file_extension": ".py",
   "mimetype": "text/x-python",
   "name": "python",
   "nbconvert_exporter": "python",
   "pygments_lexer": "ipython3",
   "version": "3.9.7"
  }
 },
 "nbformat": 4,
 "nbformat_minor": 5
}
