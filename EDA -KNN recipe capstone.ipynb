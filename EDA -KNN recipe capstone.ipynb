{
 "cells": [
  {
   "cell_type": "markdown",
   "id": "0c3c720b",
   "metadata": {},
   "source": [
    "ML-Clustering "
   ]
  },
  {
   "cell_type": "markdown",
   "id": "1a409ece",
   "metadata": {},
   "source": [
    "https://github.com/lucas-de-sa/national-anthems-clustering/blob/master/Cluster_Anthems.ipynb"
   ]
  },
  {
   "cell_type": "code",
   "execution_count": 1,
   "id": "7c333881",
   "metadata": {},
   "outputs": [],
   "source": [
    "import numpy as np\n",
    "import pandas as pd\n",
    "# For visualizations\n",
    "import matplotlib.pyplot as plt\n",
    "# For regular expressions\n",
    "import re\n",
    "# For handling string\n",
    "import string\n",
    "%matplotlib inline\n",
    "plt.style.use('ggplot')\n"
   ]
  },
  {
   "cell_type": "code",
   "execution_count": 2,
   "id": "aa457820",
   "metadata": {},
   "outputs": [],
   "source": [
    "\n",
    "import plotly.express as px\n",
    "import plotly.graph_objects as go"
   ]
  },
  {
   "cell_type": "code",
   "execution_count": 3,
   "id": "6dd9dc28",
   "metadata": {},
   "outputs": [],
   "source": [
    "from __future__ import print_function\n",
    "from sklearn.cluster import KMeans"
   ]
  },
  {
   "cell_type": "code",
   "execution_count": 4,
   "id": "8455eae5",
   "metadata": {},
   "outputs": [],
   "source": [
    "import seaborn            as sns"
   ]
  },
  {
   "cell_type": "code",
   "execution_count": 5,
   "id": "4c68b033",
   "metadata": {},
   "outputs": [],
   "source": [
    "recipes = pd.read_csv('dataset/full_dataset.csv')"
   ]
  },
  {
   "cell_type": "code",
   "execution_count": 6,
   "id": "7269df02",
   "metadata": {},
   "outputs": [],
   "source": [
    "recipes_c = pd.read_csv('dataset/Recipe_sample_dataset_small_heroclean.csv')"
   ]
  },
  {
   "cell_type": "code",
   "execution_count": 7,
   "id": "b776d734",
   "metadata": {},
   "outputs": [
    {
     "data": {
      "text/html": [
       "<div>\n",
       "<style scoped>\n",
       "    .dataframe tbody tr th:only-of-type {\n",
       "        vertical-align: middle;\n",
       "    }\n",
       "\n",
       "    .dataframe tbody tr th {\n",
       "        vertical-align: top;\n",
       "    }\n",
       "\n",
       "    .dataframe thead th {\n",
       "        text-align: right;\n",
       "    }\n",
       "</style>\n",
       "<table border=\"1\" class=\"dataframe\">\n",
       "  <thead>\n",
       "    <tr style=\"text-align: right;\">\n",
       "      <th></th>\n",
       "      <th>Unnamed: 0</th>\n",
       "      <th>title</th>\n",
       "      <th>ingredients</th>\n",
       "      <th>directions</th>\n",
       "      <th>link</th>\n",
       "      <th>source</th>\n",
       "      <th>NER</th>\n",
       "    </tr>\n",
       "  </thead>\n",
       "  <tbody>\n",
       "    <tr>\n",
       "      <th>0</th>\n",
       "      <td>0</td>\n",
       "      <td>No-Bake Nut Cookies</td>\n",
       "      <td>[\"1 c. firmly packed brown sugar\", \"1/2 c. eva...</td>\n",
       "      <td>[\"In a heavy 2-quart saucepan, mix brown sugar...</td>\n",
       "      <td>www.cookbooks.com/Recipe-Details.aspx?id=44874</td>\n",
       "      <td>Gathered</td>\n",
       "      <td>[\"brown sugar\", \"milk\", \"vanilla\", \"nuts\", \"bu...</td>\n",
       "    </tr>\n",
       "    <tr>\n",
       "      <th>1</th>\n",
       "      <td>1</td>\n",
       "      <td>Jewell Ball'S Chicken</td>\n",
       "      <td>[\"1 small jar chipped beef, cut up\", \"4 boned ...</td>\n",
       "      <td>[\"Place chipped beef on bottom of baking dish....</td>\n",
       "      <td>www.cookbooks.com/Recipe-Details.aspx?id=699419</td>\n",
       "      <td>Gathered</td>\n",
       "      <td>[\"beef\", \"chicken breasts\", \"cream of mushroom...</td>\n",
       "    </tr>\n",
       "    <tr>\n",
       "      <th>2</th>\n",
       "      <td>2</td>\n",
       "      <td>Creamy Corn</td>\n",
       "      <td>[\"2 (16 oz.) pkg. frozen corn\", \"1 (8 oz.) pkg...</td>\n",
       "      <td>[\"In a slow cooker, combine all ingredients. C...</td>\n",
       "      <td>www.cookbooks.com/Recipe-Details.aspx?id=10570</td>\n",
       "      <td>Gathered</td>\n",
       "      <td>[\"frozen corn\", \"cream cheese\", \"butter\", \"gar...</td>\n",
       "    </tr>\n",
       "    <tr>\n",
       "      <th>3</th>\n",
       "      <td>3</td>\n",
       "      <td>Chicken Funny</td>\n",
       "      <td>[\"1 large whole chicken\", \"2 (10 1/2 oz.) cans...</td>\n",
       "      <td>[\"Boil and debone chicken.\", \"Put bite size pi...</td>\n",
       "      <td>www.cookbooks.com/Recipe-Details.aspx?id=897570</td>\n",
       "      <td>Gathered</td>\n",
       "      <td>[\"chicken\", \"chicken gravy\", \"cream of mushroo...</td>\n",
       "    </tr>\n",
       "    <tr>\n",
       "      <th>4</th>\n",
       "      <td>4</td>\n",
       "      <td>Reeses Cups(Candy)</td>\n",
       "      <td>[\"1 c. peanut butter\", \"3/4 c. graham cracker ...</td>\n",
       "      <td>[\"Combine first four ingredients and press in ...</td>\n",
       "      <td>www.cookbooks.com/Recipe-Details.aspx?id=659239</td>\n",
       "      <td>Gathered</td>\n",
       "      <td>[\"peanut butter\", \"graham cracker crumbs\", \"bu...</td>\n",
       "    </tr>\n",
       "  </tbody>\n",
       "</table>\n",
       "</div>"
      ],
      "text/plain": [
       "   Unnamed: 0                  title  \\\n",
       "0           0    No-Bake Nut Cookies   \n",
       "1           1  Jewell Ball'S Chicken   \n",
       "2           2            Creamy Corn   \n",
       "3           3          Chicken Funny   \n",
       "4           4   Reeses Cups(Candy)     \n",
       "\n",
       "                                         ingredients  \\\n",
       "0  [\"1 c. firmly packed brown sugar\", \"1/2 c. eva...   \n",
       "1  [\"1 small jar chipped beef, cut up\", \"4 boned ...   \n",
       "2  [\"2 (16 oz.) pkg. frozen corn\", \"1 (8 oz.) pkg...   \n",
       "3  [\"1 large whole chicken\", \"2 (10 1/2 oz.) cans...   \n",
       "4  [\"1 c. peanut butter\", \"3/4 c. graham cracker ...   \n",
       "\n",
       "                                          directions  \\\n",
       "0  [\"In a heavy 2-quart saucepan, mix brown sugar...   \n",
       "1  [\"Place chipped beef on bottom of baking dish....   \n",
       "2  [\"In a slow cooker, combine all ingredients. C...   \n",
       "3  [\"Boil and debone chicken.\", \"Put bite size pi...   \n",
       "4  [\"Combine first four ingredients and press in ...   \n",
       "\n",
       "                                              link    source  \\\n",
       "0   www.cookbooks.com/Recipe-Details.aspx?id=44874  Gathered   \n",
       "1  www.cookbooks.com/Recipe-Details.aspx?id=699419  Gathered   \n",
       "2   www.cookbooks.com/Recipe-Details.aspx?id=10570  Gathered   \n",
       "3  www.cookbooks.com/Recipe-Details.aspx?id=897570  Gathered   \n",
       "4  www.cookbooks.com/Recipe-Details.aspx?id=659239  Gathered   \n",
       "\n",
       "                                                 NER  \n",
       "0  [\"brown sugar\", \"milk\", \"vanilla\", \"nuts\", \"bu...  \n",
       "1  [\"beef\", \"chicken breasts\", \"cream of mushroom...  \n",
       "2  [\"frozen corn\", \"cream cheese\", \"butter\", \"gar...  \n",
       "3  [\"chicken\", \"chicken gravy\", \"cream of mushroo...  \n",
       "4  [\"peanut butter\", \"graham cracker crumbs\", \"bu...  "
      ]
     },
     "execution_count": 7,
     "metadata": {},
     "output_type": "execute_result"
    }
   ],
   "source": [
    "recipes.head()"
   ]
  },
  {
   "cell_type": "code",
   "execution_count": 8,
   "id": "1e904edc",
   "metadata": {},
   "outputs": [
    {
     "data": {
      "text/plain": [
       "(2231142, 7)"
      ]
     },
     "execution_count": 8,
     "metadata": {},
     "output_type": "execute_result"
    }
   ],
   "source": [
    "recipes.shape"
   ]
  },
  {
   "cell_type": "code",
   "execution_count": 9,
   "id": "91cc8f79",
   "metadata": {},
   "outputs": [
    {
     "data": {
      "text/plain": [
       "(22311, 10)"
      ]
     },
     "execution_count": 9,
     "metadata": {},
     "output_type": "execute_result"
    }
   ],
   "source": [
    "recipes_c.shape"
   ]
  },
  {
   "cell_type": "code",
   "execution_count": 10,
   "id": "30995524",
   "metadata": {},
   "outputs": [
    {
     "data": {
      "text/html": [
       "<div>\n",
       "<style scoped>\n",
       "    .dataframe tbody tr th:only-of-type {\n",
       "        vertical-align: middle;\n",
       "    }\n",
       "\n",
       "    .dataframe tbody tr th {\n",
       "        vertical-align: top;\n",
       "    }\n",
       "\n",
       "    .dataframe thead th {\n",
       "        text-align: right;\n",
       "    }\n",
       "</style>\n",
       "<table border=\"1\" class=\"dataframe\">\n",
       "  <thead>\n",
       "    <tr style=\"text-align: right;\">\n",
       "      <th></th>\n",
       "      <th>Unnamed: 0</th>\n",
       "      <th>Unnamed: 0.1</th>\n",
       "      <th>title</th>\n",
       "      <th>ingredients</th>\n",
       "      <th>directions</th>\n",
       "      <th>link</th>\n",
       "      <th>source</th>\n",
       "      <th>NER</th>\n",
       "      <th>clean_ingredients</th>\n",
       "      <th>clean_directions</th>\n",
       "    </tr>\n",
       "  </thead>\n",
       "  <tbody>\n",
       "    <tr>\n",
       "      <th>0</th>\n",
       "      <td>0</td>\n",
       "      <td>7964</td>\n",
       "      <td>Apple Dip</td>\n",
       "      <td>[\"1 (7 oz.) jar Marshmallow Creme\", \"1 (8 oz.)...</td>\n",
       "      <td>[\"Bring cream cheese to room temperature. Mix ...</td>\n",
       "      <td>www.cookbooks.com/Recipe-Details.aspx?id=980881</td>\n",
       "      <td>Gathered</td>\n",
       "      <td>[\"Marshmallow Creme\", \"cream cheese\"]</td>\n",
       "      <td>jar marshmallow creme pkg cream cheese philade...</td>\n",
       "      <td>bring cream cheese room temperature mix marshm...</td>\n",
       "    </tr>\n",
       "    <tr>\n",
       "      <th>1</th>\n",
       "      <td>1</td>\n",
       "      <td>1765246</td>\n",
       "      <td>Wasabi Whipped Potatoes</td>\n",
       "      <td>[\"1 1/2 lb. russet or Yukon gold potatoes, pee...</td>\n",
       "      <td>[\"Place potatoes in large saucepan, cover with...</td>\n",
       "      <td>www.vegetariantimes.com/recipe/wasabi-whipped-...</td>\n",
       "      <td>Recipes1M</td>\n",
       "      <td>[\"russet\", \"low-fat milk\", \"butter\", \"wasabi p...</td>\n",
       "      <td>russet yukon gold potato inch cube  low fat m...</td>\n",
       "      <td>place potato large saucepan cover cold water s...</td>\n",
       "    </tr>\n",
       "    <tr>\n",
       "      <th>2</th>\n",
       "      <td>2</td>\n",
       "      <td>677031</td>\n",
       "      <td>Caramel Breakfast Rolls</td>\n",
       "      <td>[\"2 (1 lb.) loaves frozen bread dough, thawed\"...</td>\n",
       "      <td>[\"Cut 1 loaf of bread into small pieces; place...</td>\n",
       "      <td>www.cookbooks.com/Recipe-Details.aspx?id=537560</td>\n",
       "      <td>Gathered</td>\n",
       "      <td>[\"bread\", \"brown sugar\", \"regular vanilla pudd...</td>\n",
       "      <td>loaf bread dough  brown sugar pkg regular van...</td>\n",
       "      <td>loaf bread small piece place piece greased x x...</td>\n",
       "    </tr>\n",
       "    <tr>\n",
       "      <th>3</th>\n",
       "      <td>3</td>\n",
       "      <td>1325712</td>\n",
       "      <td>Egg And Sausage Muffins</td>\n",
       "      <td>[\"1/4 cup cream (half &amp; half)\", \"12 large eggs...</td>\n",
       "      <td>[\"Preheat oven to 350 \\u00b0F (175 \\u00b0C). S...</td>\n",
       "      <td>www.epicurious.com/recipes/member/views/egg-an...</td>\n",
       "      <td>Gathered</td>\n",
       "      <td>[\"cream\", \"eggs\", \"pepper\", \"salt\", \"pork saus...</td>\n",
       "      <td>cream half half large egg  pepper  salt  pork...</td>\n",
       "      <td>preheat oven f  spray muffin tin spray like pa...</td>\n",
       "    </tr>\n",
       "    <tr>\n",
       "      <th>4</th>\n",
       "      <td>4</td>\n",
       "      <td>294137</td>\n",
       "      <td>Taco Soup</td>\n",
       "      <td>[\"2 lb. lean ground beef\", \"1 small onion, cho...</td>\n",
       "      <td>[\"Brown ground beef and onions; drain fat.\", \"...</td>\n",
       "      <td>www.cookbooks.com/Recipe-Details.aspx?id=288957</td>\n",
       "      <td>Gathered</td>\n",
       "      <td>[\"lean ground beef\", \"onion\", \"pintos\", \"kidne...</td>\n",
       "      <td>lean ground beef small onion bean l bean    t...</td>\n",
       "      <td>brown ground beef onion fat  boil heat simmer ...</td>\n",
       "    </tr>\n",
       "  </tbody>\n",
       "</table>\n",
       "</div>"
      ],
      "text/plain": [
       "   Unnamed: 0  Unnamed: 0.1                     title  \\\n",
       "0           0          7964                 Apple Dip   \n",
       "1           1       1765246   Wasabi Whipped Potatoes   \n",
       "2           2        677031   Caramel Breakfast Rolls   \n",
       "3           3       1325712  Egg And Sausage Muffins    \n",
       "4           4        294137                 Taco Soup   \n",
       "\n",
       "                                         ingredients  \\\n",
       "0  [\"1 (7 oz.) jar Marshmallow Creme\", \"1 (8 oz.)...   \n",
       "1  [\"1 1/2 lb. russet or Yukon gold potatoes, pee...   \n",
       "2  [\"2 (1 lb.) loaves frozen bread dough, thawed\"...   \n",
       "3  [\"1/4 cup cream (half & half)\", \"12 large eggs...   \n",
       "4  [\"2 lb. lean ground beef\", \"1 small onion, cho...   \n",
       "\n",
       "                                          directions  \\\n",
       "0  [\"Bring cream cheese to room temperature. Mix ...   \n",
       "1  [\"Place potatoes in large saucepan, cover with...   \n",
       "2  [\"Cut 1 loaf of bread into small pieces; place...   \n",
       "3  [\"Preheat oven to 350 \\u00b0F (175 \\u00b0C). S...   \n",
       "4  [\"Brown ground beef and onions; drain fat.\", \"...   \n",
       "\n",
       "                                                link     source  \\\n",
       "0    www.cookbooks.com/Recipe-Details.aspx?id=980881   Gathered   \n",
       "1  www.vegetariantimes.com/recipe/wasabi-whipped-...  Recipes1M   \n",
       "2    www.cookbooks.com/Recipe-Details.aspx?id=537560   Gathered   \n",
       "3  www.epicurious.com/recipes/member/views/egg-an...   Gathered   \n",
       "4    www.cookbooks.com/Recipe-Details.aspx?id=288957   Gathered   \n",
       "\n",
       "                                                 NER  \\\n",
       "0              [\"Marshmallow Creme\", \"cream cheese\"]   \n",
       "1  [\"russet\", \"low-fat milk\", \"butter\", \"wasabi p...   \n",
       "2  [\"bread\", \"brown sugar\", \"regular vanilla pudd...   \n",
       "3  [\"cream\", \"eggs\", \"pepper\", \"salt\", \"pork saus...   \n",
       "4  [\"lean ground beef\", \"onion\", \"pintos\", \"kidne...   \n",
       "\n",
       "                                   clean_ingredients  \\\n",
       "0  jar marshmallow creme pkg cream cheese philade...   \n",
       "1   russet yukon gold potato inch cube  low fat m...   \n",
       "2   loaf bread dough  brown sugar pkg regular van...   \n",
       "3   cream half half large egg  pepper  salt  pork...   \n",
       "4   lean ground beef small onion bean l bean    t...   \n",
       "\n",
       "                                    clean_directions  \n",
       "0  bring cream cheese room temperature mix marshm...  \n",
       "1  place potato large saucepan cover cold water s...  \n",
       "2  loaf bread small piece place piece greased x x...  \n",
       "3  preheat oven f  spray muffin tin spray like pa...  \n",
       "4  brown ground beef onion fat  boil heat simmer ...  "
      ]
     },
     "execution_count": 10,
     "metadata": {},
     "output_type": "execute_result"
    }
   ],
   "source": [
    "recipes_c.head()"
   ]
  },
  {
   "cell_type": "code",
   "execution_count": 11,
   "id": "9a48b604",
   "metadata": {},
   "outputs": [
    {
     "data": {
      "text/html": [
       "<div>\n",
       "<style scoped>\n",
       "    .dataframe tbody tr th:only-of-type {\n",
       "        vertical-align: middle;\n",
       "    }\n",
       "\n",
       "    .dataframe tbody tr th {\n",
       "        vertical-align: top;\n",
       "    }\n",
       "\n",
       "    .dataframe thead th {\n",
       "        text-align: right;\n",
       "    }\n",
       "</style>\n",
       "<table border=\"1\" class=\"dataframe\">\n",
       "  <thead>\n",
       "    <tr style=\"text-align: right;\">\n",
       "      <th></th>\n",
       "      <th>directions</th>\n",
       "    </tr>\n",
       "  </thead>\n",
       "  <tbody>\n",
       "    <tr>\n",
       "      <th>0</th>\n",
       "      <td>[\"In a heavy 2-quart saucepan, mix brown sugar...</td>\n",
       "    </tr>\n",
       "    <tr>\n",
       "      <th>1</th>\n",
       "      <td>[\"Place chipped beef on bottom of baking dish....</td>\n",
       "    </tr>\n",
       "    <tr>\n",
       "      <th>2</th>\n",
       "      <td>[\"In a slow cooker, combine all ingredients. C...</td>\n",
       "    </tr>\n",
       "    <tr>\n",
       "      <th>3</th>\n",
       "      <td>[\"Boil and debone chicken.\", \"Put bite size pi...</td>\n",
       "    </tr>\n",
       "    <tr>\n",
       "      <th>4</th>\n",
       "      <td>[\"Combine first four ingredients and press in ...</td>\n",
       "    </tr>\n",
       "    <tr>\n",
       "      <th>5</th>\n",
       "      <td>[\"Wash potatoes; prick several times with a fo...</td>\n",
       "    </tr>\n",
       "    <tr>\n",
       "      <th>6</th>\n",
       "      <td>[\"Cream sugar and butter.\", \"Add egg and beat ...</td>\n",
       "    </tr>\n",
       "    <tr>\n",
       "      <th>7</th>\n",
       "      <td>[\"Mix together both cans of corn, crackers, eg...</td>\n",
       "    </tr>\n",
       "    <tr>\n",
       "      <th>8</th>\n",
       "      <td>[\"Roll steak strips in flour.\", \"Brown in skil...</td>\n",
       "    </tr>\n",
       "    <tr>\n",
       "      <th>9</th>\n",
       "      <td>[\"Empty Cool Whip into a bowl.\", \"Drain juice ...</td>\n",
       "    </tr>\n",
       "  </tbody>\n",
       "</table>\n",
       "</div>"
      ],
      "text/plain": [
       "                                          directions\n",
       "0  [\"In a heavy 2-quart saucepan, mix brown sugar...\n",
       "1  [\"Place chipped beef on bottom of baking dish....\n",
       "2  [\"In a slow cooker, combine all ingredients. C...\n",
       "3  [\"Boil and debone chicken.\", \"Put bite size pi...\n",
       "4  [\"Combine first four ingredients and press in ...\n",
       "5  [\"Wash potatoes; prick several times with a fo...\n",
       "6  [\"Cream sugar and butter.\", \"Add egg and beat ...\n",
       "7  [\"Mix together both cans of corn, crackers, eg...\n",
       "8  [\"Roll steak strips in flour.\", \"Brown in skil...\n",
       "9  [\"Empty Cool Whip into a bowl.\", \"Drain juice ..."
      ]
     },
     "execution_count": 11,
     "metadata": {},
     "output_type": "execute_result"
    }
   ],
   "source": [
    "recipes[['directions']][0:10]"
   ]
  },
  {
   "cell_type": "code",
   "execution_count": 12,
   "id": "d229ad3f",
   "metadata": {},
   "outputs": [
    {
     "data": {
      "text/plain": [
       "'No-Bake Nut Cookies'"
      ]
     },
     "execution_count": 12,
     "metadata": {},
     "output_type": "execute_result"
    }
   ],
   "source": [
    "recipes['title'][0]"
   ]
  },
  {
   "cell_type": "code",
   "execution_count": 13,
   "id": "0ba612c7",
   "metadata": {},
   "outputs": [
    {
     "data": {
      "text/plain": [
       "'[\"brown sugar\", \"milk\", \"vanilla\", \"nuts\", \"butter\", \"bite size shredded rice biscuits\"]'"
      ]
     },
     "execution_count": 13,
     "metadata": {},
     "output_type": "execute_result"
    }
   ],
   "source": [
    "recipes['NER'][0]"
   ]
  },
  {
   "cell_type": "code",
   "execution_count": 14,
   "id": "2ec7e88b",
   "metadata": {},
   "outputs": [
    {
     "data": {
      "text/plain": [
       "'[\"1 c. firmly packed brown sugar\", \"1/2 c. evaporated milk\", \"1/2 tsp. vanilla\", \"1/2 c. broken nuts (pecans)\", \"2 Tbsp. butter or margarine\", \"3 1/2 c. bite size shredded rice biscuits\"]'"
      ]
     },
     "execution_count": 14,
     "metadata": {},
     "output_type": "execute_result"
    }
   ],
   "source": [
    "recipes['ingredients'][0]"
   ]
  },
  {
   "cell_type": "code",
   "execution_count": 15,
   "id": "db62fca0",
   "metadata": {},
   "outputs": [
    {
     "data": {
      "text/plain": [
       "'[\"In a heavy 2-quart saucepan, mix brown sugar, nuts, evaporated milk and butter or margarine.\", \"Stir over medium heat until mixture bubbles all over top.\", \"Boil and stir 5 minutes more. Take off heat.\", \"Stir in vanilla and cereal; mix well.\", \"Using 2 teaspoons, drop and shape into 30 clusters on wax paper.\", \"Let stand until firm, about 30 minutes.\"]'"
      ]
     },
     "execution_count": 15,
     "metadata": {},
     "output_type": "execute_result"
    }
   ],
   "source": [
    "recipes['directions'][0]"
   ]
  },
  {
   "cell_type": "markdown",
   "id": "1e68c92c",
   "metadata": {},
   "source": [
    "Trying to create a Document Term Matrix from NER column"
   ]
  },
  {
   "cell_type": "code",
   "execution_count": 16,
   "id": "04bbba16",
   "metadata": {},
   "outputs": [],
   "source": [
    "from sklearn.feature_extraction.text import CountVectorizer\n"
   ]
  },
  {
   "cell_type": "code",
   "execution_count": 17,
   "id": "5646ed03",
   "metadata": {},
   "outputs": [
    {
     "data": {
      "text/html": [
       "<div>\n",
       "<style scoped>\n",
       "    .dataframe tbody tr th:only-of-type {\n",
       "        vertical-align: middle;\n",
       "    }\n",
       "\n",
       "    .dataframe tbody tr th {\n",
       "        vertical-align: top;\n",
       "    }\n",
       "\n",
       "    .dataframe thead th {\n",
       "        text-align: right;\n",
       "    }\n",
       "</style>\n",
       "<table border=\"1\" class=\"dataframe\">\n",
       "  <thead>\n",
       "    <tr style=\"text-align: right;\">\n",
       "      <th></th>\n",
       "      <th>\"almond extract\"</th>\n",
       "      <th>\"applesauce\"</th>\n",
       "      <th>\"bacon\"</th>\n",
       "      <th>\"bananas\"</th>\n",
       "      <th>\"barbecue sauce\"]</th>\n",
       "      <th>\"bite size shredded rice biscuits\"]</th>\n",
       "      <th>\"boiling water\"</th>\n",
       "      <th>\"butter\"</th>\n",
       "      <th>\"buttermilk\"</th>\n",
       "      <th>\"cheddar cheese\"</th>\n",
       "      <th>...</th>\n",
       "      <th>[\"frozen corn\"</th>\n",
       "      <th>[\"frozen strawberries\"</th>\n",
       "      <th>[\"peanut butter\"</th>\n",
       "      <th>[\"pie filling\"</th>\n",
       "      <th>[\"pineapple\"</th>\n",
       "      <th>[\"powdered sugar\"</th>\n",
       "      <th>[\"shell\"</th>\n",
       "      <th>[\"sugar\"</th>\n",
       "      <th>[\"taco sauce\"</th>\n",
       "      <th>[\"tomatoes\"</th>\n",
       "    </tr>\n",
       "  </thead>\n",
       "  <tbody>\n",
       "    <tr>\n",
       "      <th>0</th>\n",
       "      <td>0</td>\n",
       "      <td>0</td>\n",
       "      <td>0</td>\n",
       "      <td>0</td>\n",
       "      <td>0</td>\n",
       "      <td>1</td>\n",
       "      <td>0</td>\n",
       "      <td>1</td>\n",
       "      <td>0</td>\n",
       "      <td>0</td>\n",
       "      <td>...</td>\n",
       "      <td>0</td>\n",
       "      <td>0</td>\n",
       "      <td>0</td>\n",
       "      <td>0</td>\n",
       "      <td>0</td>\n",
       "      <td>0</td>\n",
       "      <td>0</td>\n",
       "      <td>0</td>\n",
       "      <td>0</td>\n",
       "      <td>0</td>\n",
       "    </tr>\n",
       "    <tr>\n",
       "      <th>1</th>\n",
       "      <td>0</td>\n",
       "      <td>0</td>\n",
       "      <td>0</td>\n",
       "      <td>0</td>\n",
       "      <td>0</td>\n",
       "      <td>0</td>\n",
       "      <td>0</td>\n",
       "      <td>0</td>\n",
       "      <td>0</td>\n",
       "      <td>0</td>\n",
       "      <td>...</td>\n",
       "      <td>0</td>\n",
       "      <td>0</td>\n",
       "      <td>0</td>\n",
       "      <td>0</td>\n",
       "      <td>0</td>\n",
       "      <td>0</td>\n",
       "      <td>0</td>\n",
       "      <td>0</td>\n",
       "      <td>0</td>\n",
       "      <td>0</td>\n",
       "    </tr>\n",
       "    <tr>\n",
       "      <th>2</th>\n",
       "      <td>0</td>\n",
       "      <td>0</td>\n",
       "      <td>0</td>\n",
       "      <td>0</td>\n",
       "      <td>0</td>\n",
       "      <td>0</td>\n",
       "      <td>0</td>\n",
       "      <td>1</td>\n",
       "      <td>0</td>\n",
       "      <td>0</td>\n",
       "      <td>...</td>\n",
       "      <td>1</td>\n",
       "      <td>0</td>\n",
       "      <td>0</td>\n",
       "      <td>0</td>\n",
       "      <td>0</td>\n",
       "      <td>0</td>\n",
       "      <td>0</td>\n",
       "      <td>0</td>\n",
       "      <td>0</td>\n",
       "      <td>0</td>\n",
       "    </tr>\n",
       "    <tr>\n",
       "      <th>3</th>\n",
       "      <td>0</td>\n",
       "      <td>0</td>\n",
       "      <td>0</td>\n",
       "      <td>0</td>\n",
       "      <td>0</td>\n",
       "      <td>0</td>\n",
       "      <td>0</td>\n",
       "      <td>0</td>\n",
       "      <td>0</td>\n",
       "      <td>0</td>\n",
       "      <td>...</td>\n",
       "      <td>0</td>\n",
       "      <td>0</td>\n",
       "      <td>0</td>\n",
       "      <td>0</td>\n",
       "      <td>0</td>\n",
       "      <td>0</td>\n",
       "      <td>0</td>\n",
       "      <td>0</td>\n",
       "      <td>0</td>\n",
       "      <td>0</td>\n",
       "    </tr>\n",
       "    <tr>\n",
       "      <th>4</th>\n",
       "      <td>0</td>\n",
       "      <td>0</td>\n",
       "      <td>0</td>\n",
       "      <td>0</td>\n",
       "      <td>0</td>\n",
       "      <td>0</td>\n",
       "      <td>0</td>\n",
       "      <td>1</td>\n",
       "      <td>0</td>\n",
       "      <td>0</td>\n",
       "      <td>...</td>\n",
       "      <td>0</td>\n",
       "      <td>0</td>\n",
       "      <td>1</td>\n",
       "      <td>0</td>\n",
       "      <td>0</td>\n",
       "      <td>0</td>\n",
       "      <td>0</td>\n",
       "      <td>0</td>\n",
       "      <td>0</td>\n",
       "      <td>0</td>\n",
       "    </tr>\n",
       "  </tbody>\n",
       "</table>\n",
       "<p>5 rows × 92 columns</p>\n",
       "</div>"
      ],
      "text/plain": [
       "    \"almond extract\"   \"applesauce\"   \"bacon\"   \"bananas\"   \"barbecue sauce\"]  \\\n",
       "0                  0              0         0           0                   0   \n",
       "1                  0              0         0           0                   0   \n",
       "2                  0              0         0           0                   0   \n",
       "3                  0              0         0           0                   0   \n",
       "4                  0              0         0           0                   0   \n",
       "\n",
       "    \"bite size shredded rice biscuits\"]   \"boiling water\"   \"butter\"  \\\n",
       "0                                     1                 0          1   \n",
       "1                                     0                 0          0   \n",
       "2                                     0                 0          1   \n",
       "3                                     0                 0          0   \n",
       "4                                     0                 0          1   \n",
       "\n",
       "    \"buttermilk\"   \"cheddar cheese\"  ...  [\"frozen corn\"  \\\n",
       "0              0                  0  ...               0   \n",
       "1              0                  0  ...               0   \n",
       "2              0                  0  ...               1   \n",
       "3              0                  0  ...               0   \n",
       "4              0                  0  ...               0   \n",
       "\n",
       "   [\"frozen strawberries\"  [\"peanut butter\"  [\"pie filling\"  [\"pineapple\"  \\\n",
       "0                       0                 0               0             0   \n",
       "1                       0                 0               0             0   \n",
       "2                       0                 0               0             0   \n",
       "3                       0                 0               0             0   \n",
       "4                       0                 1               0             0   \n",
       "\n",
       "   [\"powdered sugar\"  [\"shell\"  [\"sugar\"  [\"taco sauce\"  [\"tomatoes\"  \n",
       "0                  0         0         0              0            0  \n",
       "1                  0         0         0              0            0  \n",
       "2                  0         0         0              0            0  \n",
       "3                  0         0         0              0            0  \n",
       "4                  0         0         0              0            0  \n",
       "\n",
       "[5 rows x 92 columns]"
      ]
     },
     "execution_count": 17,
     "metadata": {},
     "output_type": "execute_result"
    }
   ],
   "source": [
    "cv=CountVectorizer(tokenizer=lambda x: x.split(','))\n",
    "data=cv.fit_transform(recipes['NER'][0:20])\n",
    "df_dtm = pd.DataFrame(data.toarray(), columns=cv.get_feature_names())\n",
    "df_dtm.index=recipes[0:20].index\n",
    "df_dtm.head(5)"
   ]
  },
  {
   "cell_type": "code",
   "execution_count": 18,
   "id": "c5150ec2",
   "metadata": {},
   "outputs": [
    {
     "data": {
      "text/html": [
       "<div>\n",
       "<style scoped>\n",
       "    .dataframe tbody tr th:only-of-type {\n",
       "        vertical-align: middle;\n",
       "    }\n",
       "\n",
       "    .dataframe tbody tr th {\n",
       "        vertical-align: top;\n",
       "    }\n",
       "\n",
       "    .dataframe thead th {\n",
       "        text-align: right;\n",
       "    }\n",
       "</style>\n",
       "<table border=\"1\" class=\"dataframe\">\n",
       "  <thead>\n",
       "    <tr style=\"text-align: right;\">\n",
       "      <th></th>\n",
       "      <th>ale</th>\n",
       "      <th>almond</th>\n",
       "      <th>applesauce</th>\n",
       "      <th>bacon</th>\n",
       "      <th>baking</th>\n",
       "      <th>bananas</th>\n",
       "      <th>barbecue</th>\n",
       "      <th>beef</th>\n",
       "      <th>biscuits</th>\n",
       "      <th>bite</th>\n",
       "      <th>...</th>\n",
       "      <th>taco</th>\n",
       "      <th>tomato</th>\n",
       "      <th>tomatoes</th>\n",
       "      <th>vanilla</th>\n",
       "      <th>vinegar</th>\n",
       "      <th>water</th>\n",
       "      <th>wesson</th>\n",
       "      <th>white</th>\n",
       "      <th>whole</th>\n",
       "      <th>worcestershire</th>\n",
       "    </tr>\n",
       "  </thead>\n",
       "  <tbody>\n",
       "    <tr>\n",
       "      <th>0</th>\n",
       "      <td>0</td>\n",
       "      <td>0</td>\n",
       "      <td>0</td>\n",
       "      <td>0</td>\n",
       "      <td>0</td>\n",
       "      <td>0</td>\n",
       "      <td>0</td>\n",
       "      <td>0</td>\n",
       "      <td>1</td>\n",
       "      <td>1</td>\n",
       "      <td>...</td>\n",
       "      <td>0</td>\n",
       "      <td>0</td>\n",
       "      <td>0</td>\n",
       "      <td>1</td>\n",
       "      <td>0</td>\n",
       "      <td>0</td>\n",
       "      <td>0</td>\n",
       "      <td>0</td>\n",
       "      <td>0</td>\n",
       "      <td>0</td>\n",
       "    </tr>\n",
       "    <tr>\n",
       "      <th>1</th>\n",
       "      <td>0</td>\n",
       "      <td>0</td>\n",
       "      <td>0</td>\n",
       "      <td>0</td>\n",
       "      <td>0</td>\n",
       "      <td>0</td>\n",
       "      <td>0</td>\n",
       "      <td>1</td>\n",
       "      <td>0</td>\n",
       "      <td>0</td>\n",
       "      <td>...</td>\n",
       "      <td>0</td>\n",
       "      <td>0</td>\n",
       "      <td>0</td>\n",
       "      <td>0</td>\n",
       "      <td>0</td>\n",
       "      <td>0</td>\n",
       "      <td>0</td>\n",
       "      <td>0</td>\n",
       "      <td>0</td>\n",
       "      <td>0</td>\n",
       "    </tr>\n",
       "    <tr>\n",
       "      <th>2</th>\n",
       "      <td>0</td>\n",
       "      <td>0</td>\n",
       "      <td>0</td>\n",
       "      <td>0</td>\n",
       "      <td>0</td>\n",
       "      <td>0</td>\n",
       "      <td>0</td>\n",
       "      <td>0</td>\n",
       "      <td>0</td>\n",
       "      <td>0</td>\n",
       "      <td>...</td>\n",
       "      <td>0</td>\n",
       "      <td>0</td>\n",
       "      <td>0</td>\n",
       "      <td>0</td>\n",
       "      <td>0</td>\n",
       "      <td>0</td>\n",
       "      <td>0</td>\n",
       "      <td>0</td>\n",
       "      <td>0</td>\n",
       "      <td>0</td>\n",
       "    </tr>\n",
       "    <tr>\n",
       "      <th>3</th>\n",
       "      <td>0</td>\n",
       "      <td>0</td>\n",
       "      <td>0</td>\n",
       "      <td>0</td>\n",
       "      <td>0</td>\n",
       "      <td>0</td>\n",
       "      <td>0</td>\n",
       "      <td>0</td>\n",
       "      <td>0</td>\n",
       "      <td>0</td>\n",
       "      <td>...</td>\n",
       "      <td>0</td>\n",
       "      <td>0</td>\n",
       "      <td>0</td>\n",
       "      <td>0</td>\n",
       "      <td>0</td>\n",
       "      <td>0</td>\n",
       "      <td>0</td>\n",
       "      <td>0</td>\n",
       "      <td>0</td>\n",
       "      <td>0</td>\n",
       "    </tr>\n",
       "    <tr>\n",
       "      <th>4</th>\n",
       "      <td>0</td>\n",
       "      <td>0</td>\n",
       "      <td>0</td>\n",
       "      <td>0</td>\n",
       "      <td>0</td>\n",
       "      <td>0</td>\n",
       "      <td>0</td>\n",
       "      <td>0</td>\n",
       "      <td>0</td>\n",
       "      <td>0</td>\n",
       "      <td>...</td>\n",
       "      <td>0</td>\n",
       "      <td>0</td>\n",
       "      <td>0</td>\n",
       "      <td>0</td>\n",
       "      <td>0</td>\n",
       "      <td>0</td>\n",
       "      <td>0</td>\n",
       "      <td>0</td>\n",
       "      <td>0</td>\n",
       "      <td>0</td>\n",
       "    </tr>\n",
       "  </tbody>\n",
       "</table>\n",
       "<p>5 rows × 104 columns</p>\n",
       "</div>"
      ],
      "text/plain": [
       "   ale  almond  applesauce  bacon  baking  bananas  barbecue  beef  biscuits  \\\n",
       "0    0       0           0      0       0        0         0     0         1   \n",
       "1    0       0           0      0       0        0         0     1         0   \n",
       "2    0       0           0      0       0        0         0     0         0   \n",
       "3    0       0           0      0       0        0         0     0         0   \n",
       "4    0       0           0      0       0        0         0     0         0   \n",
       "\n",
       "   bite  ...  taco  tomato  tomatoes  vanilla  vinegar  water  wesson  white  \\\n",
       "0     1  ...     0       0         0        1        0      0       0      0   \n",
       "1     0  ...     0       0         0        0        0      0       0      0   \n",
       "2     0  ...     0       0         0        0        0      0       0      0   \n",
       "3     0  ...     0       0         0        0        0      0       0      0   \n",
       "4     0  ...     0       0         0        0        0      0       0      0   \n",
       "\n",
       "   whole  worcestershire  \n",
       "0      0               0  \n",
       "1      0               0  \n",
       "2      0               0  \n",
       "3      0               0  \n",
       "4      0               0  \n",
       "\n",
       "[5 rows x 104 columns]"
      ]
     },
     "execution_count": 18,
     "metadata": {},
     "output_type": "execute_result"
    }
   ],
   "source": [
    "cv=CountVectorizer(analyzer = 'word')\n",
    "data2=cv.fit_transform(recipes['NER'][0:20])\n",
    "df_dtm2 = pd.DataFrame(data2.toarray(), columns=cv.get_feature_names())\n",
    "df_dtm2.index=recipes[0:20].index\n",
    "df_dtm2.head(5)"
   ]
  },
  {
   "cell_type": "code",
   "execution_count": 19,
   "id": "3ec311d2",
   "metadata": {},
   "outputs": [],
   "source": [
    "sample = recipes_c.sample(frac=0.01, random_state = 1)\n"
   ]
  },
  {
   "cell_type": "code",
   "execution_count": 20,
   "id": "749d4d01",
   "metadata": {},
   "outputs": [
    {
     "data": {
      "text/html": [
       "<div>\n",
       "<style scoped>\n",
       "    .dataframe tbody tr th:only-of-type {\n",
       "        vertical-align: middle;\n",
       "    }\n",
       "\n",
       "    .dataframe tbody tr th {\n",
       "        vertical-align: top;\n",
       "    }\n",
       "\n",
       "    .dataframe thead th {\n",
       "        text-align: right;\n",
       "    }\n",
       "</style>\n",
       "<table border=\"1\" class=\"dataframe\">\n",
       "  <thead>\n",
       "    <tr style=\"text-align: right;\">\n",
       "      <th></th>\n",
       "      <th>Unnamed: 0</th>\n",
       "      <th>Unnamed: 0.1</th>\n",
       "      <th>title</th>\n",
       "      <th>ingredients</th>\n",
       "      <th>directions</th>\n",
       "      <th>link</th>\n",
       "      <th>source</th>\n",
       "      <th>NER</th>\n",
       "      <th>clean_ingredients</th>\n",
       "      <th>clean_directions</th>\n",
       "    </tr>\n",
       "  </thead>\n",
       "  <tbody>\n",
       "    <tr>\n",
       "      <th>15617</th>\n",
       "      <td>15617</td>\n",
       "      <td>2057942</td>\n",
       "      <td>Apple And Oatmeal Crisp Recipe</td>\n",
       "      <td>[\"1 1/2 c. water\", \"1 1/2 c. light brown sugar...</td>\n",
       "      <td>[\"Preheat the oven to 350 degrees.\", \"In a mix...</td>\n",
       "      <td>cookeatshare.com/recipes/apple-and-oatmeal-cri...</td>\n",
       "      <td>Recipes1M</td>\n",
       "      <td>[\"water\", \"light brown sugar\", \"butter\", \"flou...</td>\n",
       "      <td>water  light brown sugar stk butter tbsp flou...</td>\n",
       "      <td>oven degree mixing bowl water  brown sugar but...</td>\n",
       "    </tr>\n",
       "    <tr>\n",
       "      <th>6896</th>\n",
       "      <td>6896</td>\n",
       "      <td>2124503</td>\n",
       "      <td>Fresh Corn Cakes</td>\n",
       "      <td>[\"1 cup cornmeal\", \"12 cup flour\", \"1 teaspoon...</td>\n",
       "      <td>[\"In a large bowl combine cornmeal, flour, sal...</td>\n",
       "      <td>www.food.com/recipe/fresh-corn-cakes-122316</td>\n",
       "      <td>Recipes1M</td>\n",
       "      <td>[\"cornmeal\", \"flour\", \"salt\", \"baking soda\", \"...</td>\n",
       "      <td>cornmeal  flour  salt  baking soda large egg ...</td>\n",
       "      <td>large bowl combine cornmeal flour salt soda an...</td>\n",
       "    </tr>\n",
       "    <tr>\n",
       "      <th>15611</th>\n",
       "      <td>15611</td>\n",
       "      <td>1703711</td>\n",
       "      <td>Spicy Tofu</td>\n",
       "      <td>[\"1/2 pound tofu firm\", \"1/4 cup red onion sli...</td>\n",
       "      <td>[\"Cut the tofu into cubes.\", \"Set aside on pap...</td>\n",
       "      <td>recipeland.com/recipe/v/spicy-tofu-35941</td>\n",
       "      <td>Recipes1M</td>\n",
       "      <td>[\"firm\", \"red onion\", \"scallions\", \"mint\", \"mi...</td>\n",
       "      <td>tofu firm  red onion scallion spring green on...</td>\n",
       "      <td>tofu cube paper towel heat wok tofu without oi...</td>\n",
       "    </tr>\n",
       "    <tr>\n",
       "      <th>10512</th>\n",
       "      <td>10512</td>\n",
       "      <td>905975</td>\n",
       "      <td>Cranberry-Pear Chutney</td>\n",
       "      <td>[\"1 pound fresh cranberries\", \"2 small pears, ...</td>\n",
       "      <td>[\"Combine cranberries, pears, water, white sug...</td>\n",
       "      <td>www.allrecipes.com/recipe/214937/cranberry-pea...</td>\n",
       "      <td>Gathered</td>\n",
       "      <td>[\"cranberries\", \"pears\", \"water\", \"white sugar...</td>\n",
       "      <td>fresh cranberry small pear  water  white suga...</td>\n",
       "      <td>combine cranberry pear water white sugar raisi...</td>\n",
       "    </tr>\n",
       "    <tr>\n",
       "      <th>14528</th>\n",
       "      <td>14528</td>\n",
       "      <td>1999180</td>\n",
       "      <td>Blueberry Pie Filling Recipe</td>\n",
       "      <td>[\"3 c. blueberries\", \"1 1/4 c. sugar\", \"2 tbsp...</td>\n",
       "      <td>[\"Mix together and cook till thickened.\", \"Col...</td>\n",
       "      <td>cookeatshare.com/recipes/blueberry-pie-filling...</td>\n",
       "      <td>Recipes1M</td>\n",
       "      <td>[\"blueberries\", \"sugar\", \"lemon juice\", \"salt\"...</td>\n",
       "      <td>blueberry  sugar tbsp lemon juice  salt tbsp ...</td>\n",
       "      <td>till cold</td>\n",
       "    </tr>\n",
       "    <tr>\n",
       "      <th>...</th>\n",
       "      <td>...</td>\n",
       "      <td>...</td>\n",
       "      <td>...</td>\n",
       "      <td>...</td>\n",
       "      <td>...</td>\n",
       "      <td>...</td>\n",
       "      <td>...</td>\n",
       "      <td>...</td>\n",
       "      <td>...</td>\n",
       "      <td>...</td>\n",
       "    </tr>\n",
       "    <tr>\n",
       "      <th>6333</th>\n",
       "      <td>6333</td>\n",
       "      <td>1355253</td>\n",
       "      <td>French Breakfast Puffs</td>\n",
       "      <td>[\"*1/3 C. shortening\", \"*1 egg\", \"*1/2 C. suga...</td>\n",
       "      <td>[\"Cream shortening, eggs, and sugar. Mix dry i...</td>\n",
       "      <td>www.epicurious.com/recipes/member/views/french...</td>\n",
       "      <td>Gathered</td>\n",
       "      <td>[\"shortening\", \"egg\", \"sugar\", \"flour\", \"salt\"...</td>\n",
       "      <td>shortening egg  sugar  flour  salt  nutmeg  p...</td>\n",
       "      <td>cream shortening egg sugar mix dry separate bo...</td>\n",
       "    </tr>\n",
       "    <tr>\n",
       "      <th>14764</th>\n",
       "      <td>14764</td>\n",
       "      <td>758513</td>\n",
       "      <td>Scotcheroos</td>\n",
       "      <td>[\"1 c. peanut butter\", \"1 c. light corn syrup\"...</td>\n",
       "      <td>[\"Melt and blend first 3 ingredients.\", \"Add c...</td>\n",
       "      <td>www.cookbooks.com/Recipe-Details.aspx?id=914557</td>\n",
       "      <td>Gathered</td>\n",
       "      <td>[\"peanut butter\", \"light corn syrup\", \"chocola...</td>\n",
       "      <td>peanut butter  light corn syrup large bag cho...</td>\n",
       "      <td>melt  cereal mix press buttered x inch pan</td>\n",
       "    </tr>\n",
       "    <tr>\n",
       "      <th>755</th>\n",
       "      <td>755</td>\n",
       "      <td>1535234</td>\n",
       "      <td>Paprika Cheese Biscuits</td>\n",
       "      <td>[\"2-1/4 cups biscuit/baking mix\", \"1/2 cup shr...</td>\n",
       "      <td>[\"In a large bowl, combine the biscuit mix and...</td>\n",
       "      <td>www.tasteofhome.com/recipes/paprika-cheese-bis...</td>\n",
       "      <td>Gathered</td>\n",
       "      <td>[\"biscuit/baking\", \"cheddar cheese\", \"milk\", \"...</td>\n",
       "      <td>mix  cheddar cheese  milk  butter  paprika</td>\n",
       "      <td>large bowl biscuit mix cheese fork stir milk t...</td>\n",
       "    </tr>\n",
       "    <tr>\n",
       "      <th>19689</th>\n",
       "      <td>19689</td>\n",
       "      <td>1486645</td>\n",
       "      <td>Spicy Chocolate Pumpkin Milkshake Recipe</td>\n",
       "      <td>[\"1/2 cup whole milk\", \"1/4 cup plus 1 tablesp...</td>\n",
       "      <td>[\"Add milk, pumpkin, cayenne, cinnamon, ginger...</td>\n",
       "      <td>www.seriouseats.com/recipes/2012/10/spicy-pump...</td>\n",
       "      <td>Gathered</td>\n",
       "      <td>[\"milk\", \"pumpkin puree\", \"ground cayenne pepp...</td>\n",
       "      <td>whole milk  plus  pumpkin puree  ground peppe...</td>\n",
       "      <td>add milk pumpkin cayenne cinnamon ginger clove...</td>\n",
       "    </tr>\n",
       "    <tr>\n",
       "      <th>2366</th>\n",
       "      <td>2366</td>\n",
       "      <td>684159</td>\n",
       "      <td>Coke Cake</td>\n",
       "      <td>[\"2 1/4 c. flour\", \"1/2 tsp. salt\", \"2 c. less...</td>\n",
       "      <td>[\"Cool slightly, then stir into flour mixture ...</td>\n",
       "      <td>www.cookbooks.com/Recipe-Details.aspx?id=1033442</td>\n",
       "      <td>Gathered</td>\n",
       "      <td>[\"flour\", \"salt\", \"sugar\", \"margarine\", \"marsh...</td>\n",
       "      <td>flour  salt  le tbsp sugar stick margarine  m...</td>\n",
       "      <td>cool flour mixture  buttermilk  vanilla stir w...</td>\n",
       "    </tr>\n",
       "  </tbody>\n",
       "</table>\n",
       "<p>223 rows × 10 columns</p>\n",
       "</div>"
      ],
      "text/plain": [
       "       Unnamed: 0  Unnamed: 0.1                                     title  \\\n",
       "15617       15617       2057942            Apple And Oatmeal Crisp Recipe   \n",
       "6896         6896       2124503                          Fresh Corn Cakes   \n",
       "15611       15611       1703711                                Spicy Tofu   \n",
       "10512       10512        905975                    Cranberry-Pear Chutney   \n",
       "14528       14528       1999180              Blueberry Pie Filling Recipe   \n",
       "...           ...           ...                                       ...   \n",
       "6333         6333       1355253                   French Breakfast Puffs    \n",
       "14764       14764        758513                               Scotcheroos   \n",
       "755           755       1535234                   Paprika Cheese Biscuits   \n",
       "19689       19689       1486645  Spicy Chocolate Pumpkin Milkshake Recipe   \n",
       "2366         2366        684159                                 Coke Cake   \n",
       "\n",
       "                                             ingredients  \\\n",
       "15617  [\"1 1/2 c. water\", \"1 1/2 c. light brown sugar...   \n",
       "6896   [\"1 cup cornmeal\", \"12 cup flour\", \"1 teaspoon...   \n",
       "15611  [\"1/2 pound tofu firm\", \"1/4 cup red onion sli...   \n",
       "10512  [\"1 pound fresh cranberries\", \"2 small pears, ...   \n",
       "14528  [\"3 c. blueberries\", \"1 1/4 c. sugar\", \"2 tbsp...   \n",
       "...                                                  ...   \n",
       "6333   [\"*1/3 C. shortening\", \"*1 egg\", \"*1/2 C. suga...   \n",
       "14764  [\"1 c. peanut butter\", \"1 c. light corn syrup\"...   \n",
       "755    [\"2-1/4 cups biscuit/baking mix\", \"1/2 cup shr...   \n",
       "19689  [\"1/2 cup whole milk\", \"1/4 cup plus 1 tablesp...   \n",
       "2366   [\"2 1/4 c. flour\", \"1/2 tsp. salt\", \"2 c. less...   \n",
       "\n",
       "                                              directions  \\\n",
       "15617  [\"Preheat the oven to 350 degrees.\", \"In a mix...   \n",
       "6896   [\"In a large bowl combine cornmeal, flour, sal...   \n",
       "15611  [\"Cut the tofu into cubes.\", \"Set aside on pap...   \n",
       "10512  [\"Combine cranberries, pears, water, white sug...   \n",
       "14528  [\"Mix together and cook till thickened.\", \"Col...   \n",
       "...                                                  ...   \n",
       "6333   [\"Cream shortening, eggs, and sugar. Mix dry i...   \n",
       "14764  [\"Melt and blend first 3 ingredients.\", \"Add c...   \n",
       "755    [\"In a large bowl, combine the biscuit mix and...   \n",
       "19689  [\"Add milk, pumpkin, cayenne, cinnamon, ginger...   \n",
       "2366   [\"Cool slightly, then stir into flour mixture ...   \n",
       "\n",
       "                                                    link     source  \\\n",
       "15617  cookeatshare.com/recipes/apple-and-oatmeal-cri...  Recipes1M   \n",
       "6896         www.food.com/recipe/fresh-corn-cakes-122316  Recipes1M   \n",
       "15611           recipeland.com/recipe/v/spicy-tofu-35941  Recipes1M   \n",
       "10512  www.allrecipes.com/recipe/214937/cranberry-pea...   Gathered   \n",
       "14528  cookeatshare.com/recipes/blueberry-pie-filling...  Recipes1M   \n",
       "...                                                  ...        ...   \n",
       "6333   www.epicurious.com/recipes/member/views/french...   Gathered   \n",
       "14764    www.cookbooks.com/Recipe-Details.aspx?id=914557   Gathered   \n",
       "755    www.tasteofhome.com/recipes/paprika-cheese-bis...   Gathered   \n",
       "19689  www.seriouseats.com/recipes/2012/10/spicy-pump...   Gathered   \n",
       "2366    www.cookbooks.com/Recipe-Details.aspx?id=1033442   Gathered   \n",
       "\n",
       "                                                     NER  \\\n",
       "15617  [\"water\", \"light brown sugar\", \"butter\", \"flou...   \n",
       "6896   [\"cornmeal\", \"flour\", \"salt\", \"baking soda\", \"...   \n",
       "15611  [\"firm\", \"red onion\", \"scallions\", \"mint\", \"mi...   \n",
       "10512  [\"cranberries\", \"pears\", \"water\", \"white sugar...   \n",
       "14528  [\"blueberries\", \"sugar\", \"lemon juice\", \"salt\"...   \n",
       "...                                                  ...   \n",
       "6333   [\"shortening\", \"egg\", \"sugar\", \"flour\", \"salt\"...   \n",
       "14764  [\"peanut butter\", \"light corn syrup\", \"chocola...   \n",
       "755    [\"biscuit/baking\", \"cheddar cheese\", \"milk\", \"...   \n",
       "19689  [\"milk\", \"pumpkin puree\", \"ground cayenne pepp...   \n",
       "2366   [\"flour\", \"salt\", \"sugar\", \"margarine\", \"marsh...   \n",
       "\n",
       "                                       clean_ingredients  \\\n",
       "15617   water  light brown sugar stk butter tbsp flou...   \n",
       "6896    cornmeal  flour  salt  baking soda large egg ...   \n",
       "15611   tofu firm  red onion scallion spring green on...   \n",
       "10512   fresh cranberry small pear  water  white suga...   \n",
       "14528   blueberry  sugar tbsp lemon juice  salt tbsp ...   \n",
       "...                                                  ...   \n",
       "6333    shortening egg  sugar  flour  salt  nutmeg  p...   \n",
       "14764   peanut butter  light corn syrup large bag cho...   \n",
       "755           mix  cheddar cheese  milk  butter  paprika   \n",
       "19689   whole milk  plus  pumpkin puree  ground peppe...   \n",
       "2366    flour  salt  le tbsp sugar stick margarine  m...   \n",
       "\n",
       "                                        clean_directions  \n",
       "15617  oven degree mixing bowl water  brown sugar but...  \n",
       "6896   large bowl combine cornmeal flour salt soda an...  \n",
       "15611  tofu cube paper towel heat wok tofu without oi...  \n",
       "10512  combine cranberry pear water white sugar raisi...  \n",
       "14528                                          till cold  \n",
       "...                                                  ...  \n",
       "6333   cream shortening egg sugar mix dry separate bo...  \n",
       "14764         melt  cereal mix press buttered x inch pan  \n",
       "755    large bowl biscuit mix cheese fork stir milk t...  \n",
       "19689  add milk pumpkin cayenne cinnamon ginger clove...  \n",
       "2366   cool flour mixture  buttermilk  vanilla stir w...  \n",
       "\n",
       "[223 rows x 10 columns]"
      ]
     },
     "execution_count": 20,
     "metadata": {},
     "output_type": "execute_result"
    }
   ],
   "source": [
    "sample"
   ]
  },
  {
   "cell_type": "code",
   "execution_count": null,
   "id": "297b138c",
   "metadata": {},
   "outputs": [],
   "source": []
  },
  {
   "cell_type": "code",
   "execution_count": null,
   "id": "8ace4082",
   "metadata": {},
   "outputs": [],
   "source": []
  },
  {
   "cell_type": "code",
   "execution_count": null,
   "id": "d3f50aa5",
   "metadata": {},
   "outputs": [],
   "source": []
  },
  {
   "cell_type": "code",
   "execution_count": null,
   "id": "0d4528fd",
   "metadata": {},
   "outputs": [],
   "source": []
  },
  {
   "cell_type": "code",
   "execution_count": null,
   "id": "17d1e4d9",
   "metadata": {},
   "outputs": [],
   "source": []
  },
  {
   "cell_type": "code",
   "execution_count": null,
   "id": "ee5a3d32",
   "metadata": {},
   "outputs": [],
   "source": []
  },
  {
   "cell_type": "code",
   "execution_count": 21,
   "id": "eb549fe5",
   "metadata": {},
   "outputs": [],
   "source": [
    "#kmeans = KMeans()"
   ]
  },
  {
   "cell_type": "code",
   "execution_count": 22,
   "id": "e6bf34af",
   "metadata": {},
   "outputs": [],
   "source": [
    "# kmeans.set_params(n_clusters=3)\n",
    "# kmeans.fit(df_dtm_pca)"
   ]
  },
  {
   "cell_type": "code",
   "execution_count": 23,
   "id": "cb6fd49e",
   "metadata": {},
   "outputs": [],
   "source": [
    "# kmeans.cluster_centers_"
   ]
  },
  {
   "cell_type": "code",
   "execution_count": 24,
   "id": "a8c5ee12",
   "metadata": {},
   "outputs": [],
   "source": [
    "# kmeans.labels_"
   ]
  },
  {
   "cell_type": "code",
   "execution_count": 25,
   "id": "caeae653",
   "metadata": {},
   "outputs": [],
   "source": [
    "# plt.scatter(df_dtm_pca[:, 0], df_dtm_pca[:,1], df_dtm_pca[:,2], c=kmeans.labels_, alpha=0.8, s=50)\n",
    "# plt.scatter(\n",
    "#      kmeans.cluster_centers_[:, 0], kmeans.cluster_centers_[:, 1], kmeans.cluster_centers_[:, 1],\n",
    "#      marker=\"+\", s=1000)"
   ]
  },
  {
   "cell_type": "code",
   "execution_count": 26,
   "id": "10bc8e78",
   "metadata": {},
   "outputs": [],
   "source": [
    "# temp = sample['clean_directions']"
   ]
  },
  {
   "cell_type": "code",
   "execution_count": null,
   "id": "a89300a6",
   "metadata": {},
   "outputs": [],
   "source": []
  },
  {
   "cell_type": "code",
   "execution_count": null,
   "id": "62af33f5",
   "metadata": {},
   "outputs": [],
   "source": []
  },
  {
   "cell_type": "code",
   "execution_count": null,
   "id": "4da3e022",
   "metadata": {},
   "outputs": [],
   "source": []
  },
  {
   "cell_type": "code",
   "execution_count": 27,
   "id": "7e63c341",
   "metadata": {},
   "outputs": [],
   "source": [
    "temp = sample['clean_ingredients']"
   ]
  },
  {
   "cell_type": "code",
   "execution_count": 28,
   "id": "9ef65ec5",
   "metadata": {},
   "outputs": [
    {
     "data": {
      "text/plain": [
       "15617     water  light brown sugar stk butter tbsp flou...\n",
       "6896      cornmeal  flour  salt  baking soda large egg ...\n",
       "15611     tofu firm  red onion scallion spring green on...\n",
       "10512     fresh cranberry small pear  water  white suga...\n",
       "14528     blueberry  sugar tbsp lemon juice  salt tbsp ...\n",
       "17263    box yellow cake mix  sour cream   cool whip  c...\n",
       "19019     unsalted butter boneless skinless breast half...\n",
       "3286      butter  purpose flour  sugar  salt tbsp powde...\n",
       "227       butter  fennel bulb onion sliced clove garlic...\n",
       "22025    egg  leftover potato  purpose flour  powder da...\n",
       "Name: clean_ingredients, dtype: object"
      ]
     },
     "execution_count": 28,
     "metadata": {},
     "output_type": "execute_result"
    }
   ],
   "source": [
    "temp[0:10]"
   ]
  },
  {
   "cell_type": "code",
   "execution_count": 29,
   "id": "86e3a3c8",
   "metadata": {},
   "outputs": [],
   "source": [
    "from sklearn.feature_extraction.text  import TfidfVectorizer\n"
   ]
  },
  {
   "cell_type": "code",
   "execution_count": 30,
   "id": "79196a00",
   "metadata": {},
   "outputs": [
    {
     "name": "stdout",
     "output_type": "stream",
     "text": [
      "223 rows\n"
     ]
    },
    {
     "data": {
      "text/html": [
       "<div>\n",
       "<style scoped>\n",
       "    .dataframe tbody tr th:only-of-type {\n",
       "        vertical-align: middle;\n",
       "    }\n",
       "\n",
       "    .dataframe tbody tr th {\n",
       "        vertical-align: top;\n",
       "    }\n",
       "\n",
       "    .dataframe thead th {\n",
       "        text-align: right;\n",
       "    }\n",
       "</style>\n",
       "<table border=\"1\" class=\"dataframe\">\n",
       "  <thead>\n",
       "    <tr style=\"text-align: right;\">\n",
       "      <th></th>\n",
       "      <th>0</th>\n",
       "      <th>1</th>\n",
       "      <th>2</th>\n",
       "      <th>3</th>\n",
       "      <th>4</th>\n",
       "      <th>5</th>\n",
       "      <th>6</th>\n",
       "      <th>7</th>\n",
       "      <th>8</th>\n",
       "      <th>9</th>\n",
       "      <th>...</th>\n",
       "      <th>213</th>\n",
       "      <th>214</th>\n",
       "      <th>215</th>\n",
       "      <th>216</th>\n",
       "      <th>217</th>\n",
       "      <th>218</th>\n",
       "      <th>219</th>\n",
       "      <th>220</th>\n",
       "      <th>221</th>\n",
       "      <th>222</th>\n",
       "    </tr>\n",
       "  </thead>\n",
       "  <tbody>\n",
       "    <tr>\n",
       "      <th>stk</th>\n",
       "      <td>0.492015</td>\n",
       "      <td>0.0</td>\n",
       "      <td>0.0</td>\n",
       "      <td>0.0</td>\n",
       "      <td>0.0</td>\n",
       "      <td>0.0</td>\n",
       "      <td>0.0</td>\n",
       "      <td>0.0</td>\n",
       "      <td>0.0</td>\n",
       "      <td>0.0</td>\n",
       "      <td>...</td>\n",
       "      <td>0.0</td>\n",
       "      <td>0.0</td>\n",
       "      <td>0.0</td>\n",
       "      <td>0.0</td>\n",
       "      <td>0.0</td>\n",
       "      <td>0.0</td>\n",
       "      <td>0.0</td>\n",
       "      <td>0.0</td>\n",
       "      <td>0.0</td>\n",
       "      <td>0.0</td>\n",
       "    </tr>\n",
       "    <tr>\n",
       "      <th>lid</th>\n",
       "      <td>0.246008</td>\n",
       "      <td>0.0</td>\n",
       "      <td>0.0</td>\n",
       "      <td>0.0</td>\n",
       "      <td>0.0</td>\n",
       "      <td>0.0</td>\n",
       "      <td>0.0</td>\n",
       "      <td>0.0</td>\n",
       "      <td>0.0</td>\n",
       "      <td>0.0</td>\n",
       "      <td>...</td>\n",
       "      <td>0.0</td>\n",
       "      <td>0.0</td>\n",
       "      <td>0.0</td>\n",
       "      <td>0.0</td>\n",
       "      <td>0.0</td>\n",
       "      <td>0.0</td>\n",
       "      <td>0.0</td>\n",
       "      <td>0.0</td>\n",
       "      <td>0.0</td>\n",
       "      <td>0.0</td>\n",
       "    </tr>\n",
       "    <tr>\n",
       "      <th>oatmeal</th>\n",
       "      <td>0.246008</td>\n",
       "      <td>0.0</td>\n",
       "      <td>0.0</td>\n",
       "      <td>0.0</td>\n",
       "      <td>0.0</td>\n",
       "      <td>0.0</td>\n",
       "      <td>0.0</td>\n",
       "      <td>0.0</td>\n",
       "      <td>0.0</td>\n",
       "      <td>0.0</td>\n",
       "      <td>...</td>\n",
       "      <td>0.0</td>\n",
       "      <td>0.0</td>\n",
       "      <td>0.0</td>\n",
       "      <td>0.0</td>\n",
       "      <td>0.0</td>\n",
       "      <td>0.0</td>\n",
       "      <td>0.0</td>\n",
       "      <td>0.0</td>\n",
       "      <td>0.0</td>\n",
       "      <td>0.0</td>\n",
       "    </tr>\n",
       "    <tr>\n",
       "      <th>pc</th>\n",
       "      <td>0.246008</td>\n",
       "      <td>0.0</td>\n",
       "      <td>0.0</td>\n",
       "      <td>0.0</td>\n",
       "      <td>0.0</td>\n",
       "      <td>0.0</td>\n",
       "      <td>0.0</td>\n",
       "      <td>0.0</td>\n",
       "      <td>0.0</td>\n",
       "      <td>0.0</td>\n",
       "      <td>...</td>\n",
       "      <td>0.0</td>\n",
       "      <td>0.0</td>\n",
       "      <td>0.0</td>\n",
       "      <td>0.0</td>\n",
       "      <td>0.0</td>\n",
       "      <td>0.0</td>\n",
       "      <td>0.0</td>\n",
       "      <td>0.0</td>\n",
       "      <td>0.0</td>\n",
       "      <td>0.0</td>\n",
       "    </tr>\n",
       "    <tr>\n",
       "      <th>plastic</th>\n",
       "      <td>0.246008</td>\n",
       "      <td>0.0</td>\n",
       "      <td>0.0</td>\n",
       "      <td>0.0</td>\n",
       "      <td>0.0</td>\n",
       "      <td>0.0</td>\n",
       "      <td>0.0</td>\n",
       "      <td>0.0</td>\n",
       "      <td>0.0</td>\n",
       "      <td>0.0</td>\n",
       "      <td>...</td>\n",
       "      <td>0.0</td>\n",
       "      <td>0.0</td>\n",
       "      <td>0.0</td>\n",
       "      <td>0.0</td>\n",
       "      <td>0.0</td>\n",
       "      <td>0.0</td>\n",
       "      <td>0.0</td>\n",
       "      <td>0.0</td>\n",
       "      <td>0.0</td>\n",
       "      <td>0.0</td>\n",
       "    </tr>\n",
       "  </tbody>\n",
       "</table>\n",
       "<p>5 rows × 223 columns</p>\n",
       "</div>"
      ],
      "text/plain": [
       "              0    1    2    3    4    5    6    7    8    9    ...  213  214  \\\n",
       "stk      0.492015  0.0  0.0  0.0  0.0  0.0  0.0  0.0  0.0  0.0  ...  0.0  0.0   \n",
       "lid      0.246008  0.0  0.0  0.0  0.0  0.0  0.0  0.0  0.0  0.0  ...  0.0  0.0   \n",
       "oatmeal  0.246008  0.0  0.0  0.0  0.0  0.0  0.0  0.0  0.0  0.0  ...  0.0  0.0   \n",
       "pc       0.246008  0.0  0.0  0.0  0.0  0.0  0.0  0.0  0.0  0.0  ...  0.0  0.0   \n",
       "plastic  0.246008  0.0  0.0  0.0  0.0  0.0  0.0  0.0  0.0  0.0  ...  0.0  0.0   \n",
       "\n",
       "         215  216  217  218  219  220  221  222  \n",
       "stk      0.0  0.0  0.0  0.0  0.0  0.0  0.0  0.0  \n",
       "lid      0.0  0.0  0.0  0.0  0.0  0.0  0.0  0.0  \n",
       "oatmeal  0.0  0.0  0.0  0.0  0.0  0.0  0.0  0.0  \n",
       "pc       0.0  0.0  0.0  0.0  0.0  0.0  0.0  0.0  \n",
       "plastic  0.0  0.0  0.0  0.0  0.0  0.0  0.0  0.0  \n",
       "\n",
       "[5 rows x 223 columns]"
      ]
     },
     "execution_count": 30,
     "metadata": {},
     "output_type": "execute_result"
    }
   ],
   "source": [
    "vectorizer = TfidfVectorizer()\n",
    "\n",
    "X = vectorizer.fit_transform(temp)\n",
    "\n",
    "tf_idf = pd.DataFrame(data = X.toarray(), columns=vectorizer.get_feature_names())\n",
    "\n",
    "final_df = tf_idf\n",
    "\n",
    "print(\"{} rows\".format(final_df.shape[0]))\n",
    "final_df.T.nlargest(5, 0)\n",
    "\n"
   ]
  },
  {
   "cell_type": "code",
   "execution_count": 31,
   "id": "61c27c77",
   "metadata": {},
   "outputs": [
    {
     "data": {
      "text/html": [
       "<div>\n",
       "<style scoped>\n",
       "    .dataframe tbody tr th:only-of-type {\n",
       "        vertical-align: middle;\n",
       "    }\n",
       "\n",
       "    .dataframe tbody tr th {\n",
       "        vertical-align: top;\n",
       "    }\n",
       "\n",
       "    .dataframe thead th {\n",
       "        text-align: right;\n",
       "    }\n",
       "</style>\n",
       "<table border=\"1\" class=\"dataframe\">\n",
       "  <thead>\n",
       "    <tr style=\"text-align: right;\">\n",
       "      <th></th>\n",
       "      <th>100g</th>\n",
       "      <th>16oz</th>\n",
       "      <th>1lb</th>\n",
       "      <th>200g</th>\n",
       "      <th>250g</th>\n",
       "      <th>410g</th>\n",
       "      <th>acorn</th>\n",
       "      <th>acting</th>\n",
       "      <th>activ</th>\n",
       "      <th>ad</th>\n",
       "      <th>...</th>\n",
       "      <th>xxxx</th>\n",
       "      <th>yeast</th>\n",
       "      <th>yellow</th>\n",
       "      <th>yogurt</th>\n",
       "      <th>yolk</th>\n",
       "      <th>young</th>\n",
       "      <th>yukon</th>\n",
       "      <th>zest</th>\n",
       "      <th>zester</th>\n",
       "      <th>zucchini</th>\n",
       "    </tr>\n",
       "  </thead>\n",
       "  <tbody>\n",
       "    <tr>\n",
       "      <th>0</th>\n",
       "      <td>0.0</td>\n",
       "      <td>0.0</td>\n",
       "      <td>0.0</td>\n",
       "      <td>0.0</td>\n",
       "      <td>0.0</td>\n",
       "      <td>0.0</td>\n",
       "      <td>0.0</td>\n",
       "      <td>0.0</td>\n",
       "      <td>0.0</td>\n",
       "      <td>0.0</td>\n",
       "      <td>...</td>\n",
       "      <td>0.0</td>\n",
       "      <td>0.0</td>\n",
       "      <td>0.0</td>\n",
       "      <td>0.0</td>\n",
       "      <td>0.0</td>\n",
       "      <td>0.0</td>\n",
       "      <td>0.0</td>\n",
       "      <td>0.0</td>\n",
       "      <td>0.0</td>\n",
       "      <td>0.0</td>\n",
       "    </tr>\n",
       "    <tr>\n",
       "      <th>1</th>\n",
       "      <td>0.0</td>\n",
       "      <td>0.0</td>\n",
       "      <td>0.0</td>\n",
       "      <td>0.0</td>\n",
       "      <td>0.0</td>\n",
       "      <td>0.0</td>\n",
       "      <td>0.0</td>\n",
       "      <td>0.0</td>\n",
       "      <td>0.0</td>\n",
       "      <td>0.0</td>\n",
       "      <td>...</td>\n",
       "      <td>0.0</td>\n",
       "      <td>0.0</td>\n",
       "      <td>0.0</td>\n",
       "      <td>0.0</td>\n",
       "      <td>0.0</td>\n",
       "      <td>0.0</td>\n",
       "      <td>0.0</td>\n",
       "      <td>0.0</td>\n",
       "      <td>0.0</td>\n",
       "      <td>0.0</td>\n",
       "    </tr>\n",
       "    <tr>\n",
       "      <th>2</th>\n",
       "      <td>0.0</td>\n",
       "      <td>0.0</td>\n",
       "      <td>0.0</td>\n",
       "      <td>0.0</td>\n",
       "      <td>0.0</td>\n",
       "      <td>0.0</td>\n",
       "      <td>0.0</td>\n",
       "      <td>0.0</td>\n",
       "      <td>0.0</td>\n",
       "      <td>0.0</td>\n",
       "      <td>...</td>\n",
       "      <td>0.0</td>\n",
       "      <td>0.0</td>\n",
       "      <td>0.0</td>\n",
       "      <td>0.0</td>\n",
       "      <td>0.0</td>\n",
       "      <td>0.0</td>\n",
       "      <td>0.0</td>\n",
       "      <td>0.0</td>\n",
       "      <td>0.0</td>\n",
       "      <td>0.0</td>\n",
       "    </tr>\n",
       "    <tr>\n",
       "      <th>3</th>\n",
       "      <td>0.0</td>\n",
       "      <td>0.0</td>\n",
       "      <td>0.0</td>\n",
       "      <td>0.0</td>\n",
       "      <td>0.0</td>\n",
       "      <td>0.0</td>\n",
       "      <td>0.0</td>\n",
       "      <td>0.0</td>\n",
       "      <td>0.0</td>\n",
       "      <td>0.0</td>\n",
       "      <td>...</td>\n",
       "      <td>0.0</td>\n",
       "      <td>0.0</td>\n",
       "      <td>0.0</td>\n",
       "      <td>0.0</td>\n",
       "      <td>0.0</td>\n",
       "      <td>0.0</td>\n",
       "      <td>0.0</td>\n",
       "      <td>0.0</td>\n",
       "      <td>0.0</td>\n",
       "      <td>0.0</td>\n",
       "    </tr>\n",
       "    <tr>\n",
       "      <th>4</th>\n",
       "      <td>0.0</td>\n",
       "      <td>0.0</td>\n",
       "      <td>0.0</td>\n",
       "      <td>0.0</td>\n",
       "      <td>0.0</td>\n",
       "      <td>0.0</td>\n",
       "      <td>0.0</td>\n",
       "      <td>0.0</td>\n",
       "      <td>0.0</td>\n",
       "      <td>0.0</td>\n",
       "      <td>...</td>\n",
       "      <td>0.0</td>\n",
       "      <td>0.0</td>\n",
       "      <td>0.0</td>\n",
       "      <td>0.0</td>\n",
       "      <td>0.0</td>\n",
       "      <td>0.0</td>\n",
       "      <td>0.0</td>\n",
       "      <td>0.0</td>\n",
       "      <td>0.0</td>\n",
       "      <td>0.0</td>\n",
       "    </tr>\n",
       "    <tr>\n",
       "      <th>...</th>\n",
       "      <td>...</td>\n",
       "      <td>...</td>\n",
       "      <td>...</td>\n",
       "      <td>...</td>\n",
       "      <td>...</td>\n",
       "      <td>...</td>\n",
       "      <td>...</td>\n",
       "      <td>...</td>\n",
       "      <td>...</td>\n",
       "      <td>...</td>\n",
       "      <td>...</td>\n",
       "      <td>...</td>\n",
       "      <td>...</td>\n",
       "      <td>...</td>\n",
       "      <td>...</td>\n",
       "      <td>...</td>\n",
       "      <td>...</td>\n",
       "      <td>...</td>\n",
       "      <td>...</td>\n",
       "      <td>...</td>\n",
       "      <td>...</td>\n",
       "    </tr>\n",
       "    <tr>\n",
       "      <th>218</th>\n",
       "      <td>0.0</td>\n",
       "      <td>0.0</td>\n",
       "      <td>0.0</td>\n",
       "      <td>0.0</td>\n",
       "      <td>0.0</td>\n",
       "      <td>0.0</td>\n",
       "      <td>0.0</td>\n",
       "      <td>0.0</td>\n",
       "      <td>0.0</td>\n",
       "      <td>0.0</td>\n",
       "      <td>...</td>\n",
       "      <td>0.0</td>\n",
       "      <td>0.0</td>\n",
       "      <td>0.0</td>\n",
       "      <td>0.0</td>\n",
       "      <td>0.0</td>\n",
       "      <td>0.0</td>\n",
       "      <td>0.0</td>\n",
       "      <td>0.0</td>\n",
       "      <td>0.0</td>\n",
       "      <td>0.0</td>\n",
       "    </tr>\n",
       "    <tr>\n",
       "      <th>219</th>\n",
       "      <td>0.0</td>\n",
       "      <td>0.0</td>\n",
       "      <td>0.0</td>\n",
       "      <td>0.0</td>\n",
       "      <td>0.0</td>\n",
       "      <td>0.0</td>\n",
       "      <td>0.0</td>\n",
       "      <td>0.0</td>\n",
       "      <td>0.0</td>\n",
       "      <td>0.0</td>\n",
       "      <td>...</td>\n",
       "      <td>0.0</td>\n",
       "      <td>0.0</td>\n",
       "      <td>0.0</td>\n",
       "      <td>0.0</td>\n",
       "      <td>0.0</td>\n",
       "      <td>0.0</td>\n",
       "      <td>0.0</td>\n",
       "      <td>0.0</td>\n",
       "      <td>0.0</td>\n",
       "      <td>0.0</td>\n",
       "    </tr>\n",
       "    <tr>\n",
       "      <th>220</th>\n",
       "      <td>0.0</td>\n",
       "      <td>0.0</td>\n",
       "      <td>0.0</td>\n",
       "      <td>0.0</td>\n",
       "      <td>0.0</td>\n",
       "      <td>0.0</td>\n",
       "      <td>0.0</td>\n",
       "      <td>0.0</td>\n",
       "      <td>0.0</td>\n",
       "      <td>0.0</td>\n",
       "      <td>...</td>\n",
       "      <td>0.0</td>\n",
       "      <td>0.0</td>\n",
       "      <td>0.0</td>\n",
       "      <td>0.0</td>\n",
       "      <td>0.0</td>\n",
       "      <td>0.0</td>\n",
       "      <td>0.0</td>\n",
       "      <td>0.0</td>\n",
       "      <td>0.0</td>\n",
       "      <td>0.0</td>\n",
       "    </tr>\n",
       "    <tr>\n",
       "      <th>221</th>\n",
       "      <td>0.0</td>\n",
       "      <td>0.0</td>\n",
       "      <td>0.0</td>\n",
       "      <td>0.0</td>\n",
       "      <td>0.0</td>\n",
       "      <td>0.0</td>\n",
       "      <td>0.0</td>\n",
       "      <td>0.0</td>\n",
       "      <td>0.0</td>\n",
       "      <td>0.0</td>\n",
       "      <td>...</td>\n",
       "      <td>0.0</td>\n",
       "      <td>0.0</td>\n",
       "      <td>0.0</td>\n",
       "      <td>0.0</td>\n",
       "      <td>0.0</td>\n",
       "      <td>0.0</td>\n",
       "      <td>0.0</td>\n",
       "      <td>0.0</td>\n",
       "      <td>0.0</td>\n",
       "      <td>0.0</td>\n",
       "    </tr>\n",
       "    <tr>\n",
       "      <th>222</th>\n",
       "      <td>0.0</td>\n",
       "      <td>0.0</td>\n",
       "      <td>0.0</td>\n",
       "      <td>0.0</td>\n",
       "      <td>0.0</td>\n",
       "      <td>0.0</td>\n",
       "      <td>0.0</td>\n",
       "      <td>0.0</td>\n",
       "      <td>0.0</td>\n",
       "      <td>0.0</td>\n",
       "      <td>...</td>\n",
       "      <td>0.0</td>\n",
       "      <td>0.0</td>\n",
       "      <td>0.0</td>\n",
       "      <td>0.0</td>\n",
       "      <td>0.0</td>\n",
       "      <td>0.0</td>\n",
       "      <td>0.0</td>\n",
       "      <td>0.0</td>\n",
       "      <td>0.0</td>\n",
       "      <td>0.0</td>\n",
       "    </tr>\n",
       "  </tbody>\n",
       "</table>\n",
       "<p>223 rows × 820 columns</p>\n",
       "</div>"
      ],
      "text/plain": [
       "     100g  16oz  1lb  200g  250g  410g  acorn  acting  activ   ad  ...  xxxx  \\\n",
       "0     0.0   0.0  0.0   0.0   0.0   0.0    0.0     0.0    0.0  0.0  ...   0.0   \n",
       "1     0.0   0.0  0.0   0.0   0.0   0.0    0.0     0.0    0.0  0.0  ...   0.0   \n",
       "2     0.0   0.0  0.0   0.0   0.0   0.0    0.0     0.0    0.0  0.0  ...   0.0   \n",
       "3     0.0   0.0  0.0   0.0   0.0   0.0    0.0     0.0    0.0  0.0  ...   0.0   \n",
       "4     0.0   0.0  0.0   0.0   0.0   0.0    0.0     0.0    0.0  0.0  ...   0.0   \n",
       "..    ...   ...  ...   ...   ...   ...    ...     ...    ...  ...  ...   ...   \n",
       "218   0.0   0.0  0.0   0.0   0.0   0.0    0.0     0.0    0.0  0.0  ...   0.0   \n",
       "219   0.0   0.0  0.0   0.0   0.0   0.0    0.0     0.0    0.0  0.0  ...   0.0   \n",
       "220   0.0   0.0  0.0   0.0   0.0   0.0    0.0     0.0    0.0  0.0  ...   0.0   \n",
       "221   0.0   0.0  0.0   0.0   0.0   0.0    0.0     0.0    0.0  0.0  ...   0.0   \n",
       "222   0.0   0.0  0.0   0.0   0.0   0.0    0.0     0.0    0.0  0.0  ...   0.0   \n",
       "\n",
       "     yeast  yellow  yogurt  yolk  young  yukon  zest  zester  zucchini  \n",
       "0      0.0     0.0     0.0   0.0    0.0    0.0   0.0     0.0       0.0  \n",
       "1      0.0     0.0     0.0   0.0    0.0    0.0   0.0     0.0       0.0  \n",
       "2      0.0     0.0     0.0   0.0    0.0    0.0   0.0     0.0       0.0  \n",
       "3      0.0     0.0     0.0   0.0    0.0    0.0   0.0     0.0       0.0  \n",
       "4      0.0     0.0     0.0   0.0    0.0    0.0   0.0     0.0       0.0  \n",
       "..     ...     ...     ...   ...    ...    ...   ...     ...       ...  \n",
       "218    0.0     0.0     0.0   0.0    0.0    0.0   0.0     0.0       0.0  \n",
       "219    0.0     0.0     0.0   0.0    0.0    0.0   0.0     0.0       0.0  \n",
       "220    0.0     0.0     0.0   0.0    0.0    0.0   0.0     0.0       0.0  \n",
       "221    0.0     0.0     0.0   0.0    0.0    0.0   0.0     0.0       0.0  \n",
       "222    0.0     0.0     0.0   0.0    0.0    0.0   0.0     0.0       0.0  \n",
       "\n",
       "[223 rows x 820 columns]"
      ]
     },
     "execution_count": 31,
     "metadata": {},
     "output_type": "execute_result"
    }
   ],
   "source": [
    "final_df"
   ]
  },
  {
   "cell_type": "code",
   "execution_count": 32,
   "id": "f5f6863a",
   "metadata": {},
   "outputs": [],
   "source": [
    "kmeans = KMeans()"
   ]
  },
  {
   "cell_type": "code",
   "execution_count": 33,
   "id": "39f564ab",
   "metadata": {},
   "outputs": [
    {
     "data": {
      "text/plain": [
       "KMeans(n_clusters=10)"
      ]
     },
     "execution_count": 33,
     "metadata": {},
     "output_type": "execute_result"
    }
   ],
   "source": [
    "kmeans.set_params(n_clusters=10)\n",
    "kmeans.fit(final_df)"
   ]
  },
  {
   "cell_type": "code",
   "execution_count": 34,
   "id": "706acbb7",
   "metadata": {},
   "outputs": [
    {
     "data": {
      "text/plain": [
       "array([[-2.16840434e-19,  2.16840434e-19,  4.33680869e-19, ...,\n",
       "         1.17785975e-02, -2.16840434e-19,  1.61423608e-02],\n",
       "       [-2.16840434e-19,  1.37233228e-02,  2.16840434e-19, ...,\n",
       "         5.20417043e-18,  1.05996187e-02,  2.02710580e-02],\n",
       "       [ 2.16840434e-19,  0.00000000e+00, -4.33680869e-19, ...,\n",
       "         6.20184600e-02, -4.33680869e-19,  1.79314617e-02],\n",
       "       ...,\n",
       "       [-4.33680869e-19,  0.00000000e+00,  9.34412491e-03, ...,\n",
       "         5.20417043e-18, -2.16840434e-19, -3.46944695e-18],\n",
       "       [ 2.16840434e-19, -2.16840434e-19, -4.33680869e-19, ...,\n",
       "         1.99698052e-02, -4.33680869e-19, -1.73472348e-18],\n",
       "       [-4.33680869e-19,  0.00000000e+00,  2.16840434e-19, ...,\n",
       "         3.46944695e-18, -2.16840434e-19,  1.13107809e-02]])"
      ]
     },
     "execution_count": 34,
     "metadata": {},
     "output_type": "execute_result"
    }
   ],
   "source": [
    "kmeans.cluster_centers_"
   ]
  },
  {
   "cell_type": "code",
   "execution_count": 35,
   "id": "2fe2dd72",
   "metadata": {},
   "outputs": [
    {
     "data": {
      "text/plain": [
       "array([8, 4, 9, 9, 3, 7, 5, 8, 1, 4, 6, 9, 1, 1, 3, 6, 3, 7, 4, 2, 7, 1,\n",
       "       9, 5, 8, 3, 4, 3, 5, 7, 7, 1, 9, 6, 0, 8, 8, 8, 7, 9, 1, 5, 1, 5,\n",
       "       4, 6, 6, 6, 7, 8, 1, 1, 3, 3, 5, 2, 7, 6, 2, 2, 1, 1, 1, 9, 8, 3,\n",
       "       5, 4, 4, 6, 1, 7, 1, 7, 1, 4, 3, 8, 3, 3, 6, 3, 1, 0, 6, 7, 8, 4,\n",
       "       5, 2, 3, 8, 1, 8, 6, 6, 6, 4, 7, 7, 3, 2, 5, 4, 9, 9, 1, 3, 1, 4,\n",
       "       4, 1, 1, 0, 6, 8, 4, 7, 9, 9, 8, 1, 5, 4, 5, 4, 4, 7, 6, 2, 2, 0,\n",
       "       9, 1, 3, 2, 7, 1, 9, 6, 3, 3, 2, 3, 6, 6, 9, 1, 9, 7, 4, 1, 1, 1,\n",
       "       6, 1, 3, 2, 4, 8, 3, 0, 1, 8, 8, 3, 6, 2, 5, 5, 5, 1, 7, 1, 9, 4,\n",
       "       4, 1, 3, 8, 4, 8, 7, 3, 1, 9, 1, 1, 1, 6, 1, 3, 1, 9, 5, 3, 1, 6,\n",
       "       4, 5, 2, 6, 1, 4, 9, 6, 1, 2, 1, 6, 1, 5, 2, 1, 5, 7, 1, 5, 4, 9,\n",
       "       5, 9, 8])"
      ]
     },
     "execution_count": 35,
     "metadata": {},
     "output_type": "execute_result"
    }
   ],
   "source": [
    "label = kmeans.fit_predict(final_df)\n",
    "label"
   ]
  },
  {
   "cell_type": "code",
   "execution_count": 36,
   "id": "f5a0f786",
   "metadata": {},
   "outputs": [],
   "source": [
    "test_df = final_df.copy()\n",
    "test_df[\"cluster\"] = label"
   ]
  },
  {
   "cell_type": "code",
   "execution_count": 37,
   "id": "2fd26c75",
   "metadata": {},
   "outputs": [
    {
     "data": {
      "text/plain": [
       "package    0.241603\n",
       "cheese     0.123443\n",
       "choice     0.115335\n",
       "goat       0.115335\n",
       "boca       0.089405\n",
       "hour       0.085962\n",
       "spoon      0.085962\n",
       "pepper     0.082591\n",
       "cooking    0.070918\n",
       "pint       0.068193\n",
       "Name: 0, dtype: float64"
      ]
     },
     "execution_count": 37,
     "metadata": {},
     "output_type": "execute_result"
    }
   ],
   "source": [
    "test_df.groupby(\"cluster\").agg(np.mean).T.iloc[:,0].sort_values(ascending = False).head(10)"
   ]
  },
  {
   "cell_type": "code",
   "execution_count": 38,
   "id": "8a875e60",
   "metadata": {},
   "outputs": [
    {
     "data": {
      "text/plain": [
       "pepper    0.105868\n",
       "oil       0.089265\n",
       "onion     0.085860\n",
       "green     0.079245\n",
       "olive     0.074989\n",
       "salt      0.067873\n",
       "garlic    0.061621\n",
       "small     0.055924\n",
       "clove     0.053563\n",
       "tomato    0.052021\n",
       "Name: 1, dtype: float64"
      ]
     },
     "execution_count": 38,
     "metadata": {},
     "output_type": "execute_result"
    }
   ],
   "source": [
    "test_df.groupby(\"cluster\").agg(np.mean).T.iloc[:,1].sort_values(ascending = False).head(10)"
   ]
  },
  {
   "cell_type": "code",
   "execution_count": 39,
   "id": "8f5014b9",
   "metadata": {},
   "outputs": [
    {
     "data": {
      "text/plain": [
       "milk       0.153978\n",
       "cracker    0.136834\n",
       "stick      0.123346\n",
       "nut        0.121818\n",
       "sugar      0.110968\n",
       "crumb      0.101235\n",
       "brand      0.076924\n",
       "butter     0.074706\n",
       "graham     0.069811\n",
       "vanilla    0.066847\n",
       "Name: 2, dtype: float64"
      ]
     },
     "execution_count": 39,
     "metadata": {},
     "output_type": "execute_result"
    }
   ],
   "source": [
    "test_df.groupby(\"cluster\").agg(np.mean).T.iloc[:,2].sort_values(ascending = False).head(10)"
   ]
  },
  {
   "cell_type": "code",
   "execution_count": 40,
   "id": "b28f39b6",
   "metadata": {},
   "outputs": [
    {
     "data": {
      "text/plain": [
       "lemon     0.170695\n",
       "juice     0.120191\n",
       "gram      0.085309\n",
       "tbsp      0.072059\n",
       "sugar     0.071254\n",
       "butter    0.061564\n",
       "egg       0.049113\n",
       "water     0.047377\n",
       "salt      0.046994\n",
       "cream     0.046339\n",
       "Name: 3, dtype: float64"
      ]
     },
     "execution_count": 40,
     "metadata": {},
     "output_type": "execute_result"
    }
   ],
   "source": [
    "test_df.groupby(\"cluster\").agg(np.mean).T.iloc[:,3].sort_values(ascending = False).head(10)"
   ]
  },
  {
   "cell_type": "code",
   "execution_count": 42,
   "id": "e6aa527e",
   "metadata": {},
   "outputs": [],
   "source": [
    "plt.style.use('seaborn-notebook')"
   ]
  },
  {
   "cell_type": "code",
   "execution_count": 43,
   "id": "7a41c8ff",
   "metadata": {},
   "outputs": [],
   "source": [
    "from PlottingFunctions import plot_inertia, plot_silhouette"
   ]
  },
  {
   "cell_type": "code",
   "execution_count": 44,
   "id": "0acbaef3",
   "metadata": {},
   "outputs": [
    {
     "name": "stderr",
     "output_type": "stream",
     "text": [
      "C:\\Users\\Owner\\anaconda3\\lib\\site-packages\\sklearn\\cluster\\_kmeans.py:881: UserWarning: KMeans is known to have a memory leak on Windows with MKL, when there are less chunks than available threads. You can avoid it by setting the environment variable OMP_NUM_THREADS=1.\n",
      "  warnings.warn(\n"
     ]
    },
    {
     "data": {
      "image/png": "[encoded data removed]",
      "text/plain": [
       "<Figure size 576x396 with 1 Axes>"
      ]
     },
     "metadata": {},
     "output_type": "display_data"
    }
   ],
   "source": [
    "plot_inertia(kmeans, final_df, range(1, 10))"
   ]
  },
  {
   "cell_type": "code",
   "execution_count": 45,
   "id": "9f275a0f",
   "metadata": {},
   "outputs": [
    {
     "data": {
      "image/png": "[encoded data removed]",
      "text/plain": [
       "<Figure size 576x396 with 1 Axes>"
      ]
     },
     "metadata": {},
     "output_type": "display_data"
    }
   ],
   "source": [
    "kmeans.set_params(n_clusters=10)\n",
    "plot_silhouette(kmeans, final_df)"
   ]
  },
  {
   "cell_type": "code",
   "execution_count": null,
   "id": "6222bf85",
   "metadata": {},
   "outputs": [],
   "source": []
  },
  {
   "cell_type": "code",
   "execution_count": null,
   "id": "051497a9",
   "metadata": {},
   "outputs": [],
   "source": []
  },
  {
   "cell_type": "code",
   "execution_count": null,
   "id": "9ba7c59e",
   "metadata": {},
   "outputs": [],
   "source": []
  },
  {
   "cell_type": "code",
   "execution_count": null,
   "id": "5f44977d",
   "metadata": {},
   "outputs": [],
   "source": []
  },
  {
   "cell_type": "code",
   "execution_count": null,
   "id": "9b389802",
   "metadata": {},
   "outputs": [],
   "source": []
  },
  {
   "cell_type": "code",
   "execution_count": null,
   "id": "fb3c0aca",
   "metadata": {},
   "outputs": [],
   "source": []
  },
  {
   "cell_type": "code",
   "execution_count": null,
   "id": "73b15b85",
   "metadata": {},
   "outputs": [],
   "source": []
  },
  {
   "cell_type": "code",
   "execution_count": null,
   "id": "58f07225",
   "metadata": {},
   "outputs": [],
   "source": []
  },
  {
   "cell_type": "code",
   "execution_count": null,
   "id": "fcab96ea",
   "metadata": {},
   "outputs": [],
   "source": []
  },
  {
   "cell_type": "code",
   "execution_count": null,
   "id": "9a051d6f",
   "metadata": {},
   "outputs": [],
   "source": []
  },
  {
   "cell_type": "code",
   "execution_count": null,
   "id": "c8e1d723",
   "metadata": {},
   "outputs": [],
   "source": []
  },
  {
   "cell_type": "code",
   "execution_count": null,
   "id": "d396d826",
   "metadata": {},
   "outputs": [],
   "source": []
  },
  {
   "cell_type": "code",
   "execution_count": 46,
   "id": "8807dc90",
   "metadata": {},
   "outputs": [],
   "source": [
    "def run_KMeans(max_k, data):\n",
    "    max_k += 1\n",
    "    kmeans_results = dict()\n",
    "    for k in range(2 , max_k):\n",
    "        kmeans = cluster.KMeans(n_clusters = k\n",
    "                               , init = 'k-means++'\n",
    "                               , n_init = 10\n",
    "                               , tol = 0.0001\n",
    "                               , n_jobs = -1\n",
    "                               , random_state = 1\n",
    "                               , algorithm = 'full')\n",
    "\n",
    "        kmeans_results.update( {k : kmeans.fit(data)} )\n",
    "        \n",
    "    return kmeans_results"
   ]
  },
  {
   "cell_type": "code",
   "execution_count": 47,
   "id": "a2cd9b17",
   "metadata": {},
   "outputs": [],
   "source": [
    "from sklearn import cluster\n"
   ]
  },
  {
   "cell_type": "code",
   "execution_count": 48,
   "id": "c145def9",
   "metadata": {},
   "outputs": [],
   "source": [
    "def printAvg(avg_dict):\n",
    "    for avg in sorted(avg_dict.keys(), reverse=True):\n",
    "        print(\"Avg: {}\\tK:{}\".format(avg.round(4), avg_dict[avg]))\n",
    "        \n",
    "def plotSilhouette(df, n_clusters, kmeans_labels, silhouette_avg):\n",
    "    fig, ax1 = plt.subplots(1)\n",
    "    fig.set_size_inches(8, 6)\n",
    "    ax1.set_xlim([-0.2, 1])\n",
    "    ax1.set_ylim([0, len(df) + (n_clusters + 1) * 10])\n",
    "    \n",
    "    ax1.axvline(x=silhouette_avg, color=\"red\", linestyle=\"--\") # The vertical line for average silhouette score of all the values\n",
    "    ax1.set_yticks([])  # Clear the yaxis labels / ticks\n",
    "    ax1.set_xticks([-0.2, 0, 0.2, 0.4, 0.6, 0.8, 1])\n",
    "    plt.title((\"Silhouette analysis for K = %d\" % n_clusters), fontsize=10, fontweight='bold')\n",
    "    \n",
    "    y_lower = 10\n",
    "    sample_silhouette_values = silhouette_samples(df, kmeans_labels) # Compute the silhouette scores for each sample\n",
    "    for i in range(n_clusters):\n",
    "        ith_cluster_silhouette_values = sample_silhouette_values[kmeans_labels == i]\n",
    "        ith_cluster_silhouette_values.sort()\n",
    "\n",
    "        size_cluster_i = ith_cluster_silhouette_values.shape[0]\n",
    "        y_upper = y_lower + size_cluster_i\n",
    "\n",
    "        color = cm.nipy_spectral(float(i) / n_clusters)\n",
    "        ax1.fill_betweenx(np.arange(y_lower, y_upper), 0, ith_cluster_silhouette_values, facecolor=color, edgecolor=color, alpha=0.7)\n",
    "\n",
    "        ax1.text(-0.05, y_lower + 0.5 * size_cluster_i, str(i)) # Label the silhouette plots with their cluster numbers at the middle\n",
    "        y_lower = y_upper + 10  # Compute the new y_lower for next plot. 10 for the 0 samples\n",
    "    plt.show()\n",
    "    \n",
    "        \n",
    "def silhouette(kmeans_dict, df, plot=False):\n",
    "    df = df.to_numpy()\n",
    "    avg_dict = dict()\n",
    "    for n_clusters, kmeans in kmeans_dict.items():      \n",
    "        kmeans_labels = kmeans.predict(df)\n",
    "        silhouette_avg = silhouette_score(df, kmeans_labels) # Average Score for all Samples\n",
    "        avg_dict.update( {silhouette_avg : n_clusters} )\n",
    "    \n",
    "        if(plot): plotSilhouette(df, n_clusters, kmeans_labels, silhouette_avg)"
   ]
  },
  {
   "cell_type": "code",
   "execution_count": null,
   "id": "2fa5b26a",
   "metadata": {},
   "outputs": [],
   "source": []
  },
  {
   "cell_type": "code",
   "execution_count": null,
   "id": "a9eeb63c",
   "metadata": {},
   "outputs": [],
   "source": []
  },
  {
   "cell_type": "code",
   "execution_count": 49,
   "id": "a892dbf8",
   "metadata": {},
   "outputs": [
    {
     "name": "stderr",
     "output_type": "stream",
     "text": [
      "C:\\Users\\Owner\\anaconda3\\lib\\site-packages\\sklearn\\cluster\\_kmeans.py:792: FutureWarning: 'n_jobs' was deprecated in version 0.23 and will be removed in 1.0 (renaming of 0.25).\n",
      "  warnings.warn(\"'n_jobs' was deprecated in version 0.23 and will be\"\n",
      "C:\\Users\\Owner\\anaconda3\\lib\\site-packages\\sklearn\\cluster\\_kmeans.py:881: UserWarning: KMeans is known to have a memory leak on Windows with MKL, when there are less chunks than available threads. You can avoid it by setting the environment variable OMP_NUM_THREADS=1.\n",
      "  warnings.warn(\n",
      "C:\\Users\\Owner\\anaconda3\\lib\\site-packages\\sklearn\\cluster\\_kmeans.py:792: FutureWarning: 'n_jobs' was deprecated in version 0.23 and will be removed in 1.0 (renaming of 0.25).\n",
      "  warnings.warn(\"'n_jobs' was deprecated in version 0.23 and will be\"\n",
      "C:\\Users\\Owner\\anaconda3\\lib\\site-packages\\sklearn\\cluster\\_kmeans.py:881: UserWarning: KMeans is known to have a memory leak on Windows with MKL, when there are less chunks than available threads. You can avoid it by setting the environment variable OMP_NUM_THREADS=1.\n",
      "  warnings.warn(\n",
      "C:\\Users\\Owner\\anaconda3\\lib\\site-packages\\sklearn\\cluster\\_kmeans.py:792: FutureWarning: 'n_jobs' was deprecated in version 0.23 and will be removed in 1.0 (renaming of 0.25).\n",
      "  warnings.warn(\"'n_jobs' was deprecated in version 0.23 and will be\"\n",
      "C:\\Users\\Owner\\anaconda3\\lib\\site-packages\\sklearn\\cluster\\_kmeans.py:881: UserWarning: KMeans is known to have a memory leak on Windows with MKL, when there are less chunks than available threads. You can avoid it by setting the environment variable OMP_NUM_THREADS=1.\n",
      "  warnings.warn(\n",
      "C:\\Users\\Owner\\anaconda3\\lib\\site-packages\\sklearn\\cluster\\_kmeans.py:792: FutureWarning: 'n_jobs' was deprecated in version 0.23 and will be removed in 1.0 (renaming of 0.25).\n",
      "  warnings.warn(\"'n_jobs' was deprecated in version 0.23 and will be\"\n",
      "C:\\Users\\Owner\\anaconda3\\lib\\site-packages\\sklearn\\cluster\\_kmeans.py:881: UserWarning: KMeans is known to have a memory leak on Windows with MKL, when there are less chunks than available threads. You can avoid it by setting the environment variable OMP_NUM_THREADS=1.\n",
      "  warnings.warn(\n",
      "C:\\Users\\Owner\\anaconda3\\lib\\site-packages\\sklearn\\cluster\\_kmeans.py:792: FutureWarning: 'n_jobs' was deprecated in version 0.23 and will be removed in 1.0 (renaming of 0.25).\n",
      "  warnings.warn(\"'n_jobs' was deprecated in version 0.23 and will be\"\n",
      "C:\\Users\\Owner\\anaconda3\\lib\\site-packages\\sklearn\\cluster\\_kmeans.py:881: UserWarning: KMeans is known to have a memory leak on Windows with MKL, when there are less chunks than available threads. You can avoid it by setting the environment variable OMP_NUM_THREADS=1.\n",
      "  warnings.warn(\n",
      "C:\\Users\\Owner\\anaconda3\\lib\\site-packages\\sklearn\\cluster\\_kmeans.py:792: FutureWarning: 'n_jobs' was deprecated in version 0.23 and will be removed in 1.0 (renaming of 0.25).\n",
      "  warnings.warn(\"'n_jobs' was deprecated in version 0.23 and will be\"\n",
      "C:\\Users\\Owner\\anaconda3\\lib\\site-packages\\sklearn\\cluster\\_kmeans.py:881: UserWarning: KMeans is known to have a memory leak on Windows with MKL, when there are less chunks than available threads. You can avoid it by setting the environment variable OMP_NUM_THREADS=1.\n",
      "  warnings.warn(\n",
      "C:\\Users\\Owner\\anaconda3\\lib\\site-packages\\sklearn\\cluster\\_kmeans.py:792: FutureWarning: 'n_jobs' was deprecated in version 0.23 and will be removed in 1.0 (renaming of 0.25).\n",
      "  warnings.warn(\"'n_jobs' was deprecated in version 0.23 and will be\"\n",
      "C:\\Users\\Owner\\anaconda3\\lib\\site-packages\\sklearn\\cluster\\_kmeans.py:881: UserWarning: KMeans is known to have a memory leak on Windows with MKL, when there are less chunks than available threads. You can avoid it by setting the environment variable OMP_NUM_THREADS=1.\n",
      "  warnings.warn(\n"
     ]
    },
    {
     "data": {
      "text/plain": [
       "{2: KMeans(algorithm='full', n_clusters=2, n_jobs=-1, random_state=1),\n",
       " 3: KMeans(algorithm='full', n_clusters=3, n_jobs=-1, random_state=1),\n",
       " 4: KMeans(algorithm='full', n_clusters=4, n_jobs=-1, random_state=1),\n",
       " 5: KMeans(algorithm='full', n_clusters=5, n_jobs=-1, random_state=1),\n",
       " 6: KMeans(algorithm='full', n_clusters=6, n_jobs=-1, random_state=1),\n",
       " 7: KMeans(algorithm='full', n_clusters=7, n_jobs=-1, random_state=1),\n",
       " 8: KMeans(algorithm='full', n_jobs=-1, random_state=1)}"
      ]
     },
     "execution_count": 49,
     "metadata": {},
     "output_type": "execute_result"
    }
   ],
   "source": [
    "k = 8\n",
    "kmeans_results = run_KMeans(k, final_df)\n",
    "kmeans_results"
   ]
  },
  {
   "cell_type": "code",
   "execution_count": 50,
   "id": "6185f2b6",
   "metadata": {},
   "outputs": [],
   "source": [
    "def get_top_features_cluster(tf_idf_array, prediction, n_feats):\n",
    "    labels = np.unique(prediction)\n",
    "    dfs = []\n",
    "    for label in labels:\n",
    "        id_temp = np.where(prediction==label) # indices for each cluster\n",
    "        x_means = np.mean(tf_idf_array[id_temp], axis = 0) # returns average score across cluster\n",
    "        sorted_means = np.argsort(x_means)[::-1][:n_feats] # indices with top 20 scores\n",
    "        features = vectorizer.get_feature_names()\n",
    "        best_features = [(features[i], x_means[i]) for i in sorted_means]\n",
    "        df = pd.DataFrame(best_features, columns = ['features', 'score'])\n",
    "        dfs.append(df)\n",
    "    return dfs\n",
    "\n",
    "def plotWords(dfs, n_feats):\n",
    "    plt.figure(figsize=(8, 4))\n",
    "    for i in range(0, len(dfs)):\n",
    "        plt.title((\"Most Common Words in Cluster {}\".format(i)), fontsize=10, fontweight='bold')\n",
    "        sns.barplot(x = 'score' , y = 'features', orient = 'h' , data = dfs[i][:n_feats])\n",
    "        plt.show()"
   ]
  },
  {
   "cell_type": "code",
   "execution_count": null,
   "id": "43e114d2",
   "metadata": {},
   "outputs": [],
   "source": []
  },
  {
   "cell_type": "code",
   "execution_count": 62,
   "id": "fa2396e3",
   "metadata": {},
   "outputs": [
    {
     "data": {
      "text/plain": [
       "['tbsp',\n",
       " 'sugar',\n",
       " 'margarine',\n",
       " 'flour',\n",
       " 'vanilla',\n",
       " 'cocoa',\n",
       " 'cream',\n",
       " 'self',\n",
       " 'water',\n",
       " 'pkg',\n",
       " 'chicken',\n",
       " 'butter',\n",
       " 'milk',\n",
       " 'mayonnaise',\n",
       " 'pepper',\n",
       " 'egg',\n",
       " 'pecan',\n",
       " 'large',\n",
       " 'salt',\n",
       " 'lemon']"
      ]
     },
     "execution_count": 62,
     "metadata": {},
     "output_type": "execute_result"
    }
   ],
   "source": [
    "dfs = get_top_features_cluster(final_df_array, prediction, n_feats)\n",
    "dfs[1]['features'].tolist()\n"
   ]
  },
  {
   "cell_type": "code",
   "execution_count": 67,
   "id": "c814a3da",
   "metadata": {},
   "outputs": [
    {
     "data": {
      "text/plain": [
       "['cream',\n",
       " 'pkg',\n",
       " 'sour',\n",
       " 'chocolate',\n",
       " 'chip',\n",
       " 'gram',\n",
       " 'whip',\n",
       " 'mix',\n",
       " 'marshmallow',\n",
       " 'sugar',\n",
       " 'box',\n",
       " 'cool',\n",
       " 'butter',\n",
       " 'peanut',\n",
       " 'crust',\n",
       " 'cake',\n",
       " 'coconut',\n",
       " 'vanilla',\n",
       " 'graham',\n",
       " 'cheese']"
      ]
     },
     "execution_count": 67,
     "metadata": {},
     "output_type": "execute_result"
    }
   ],
   "source": [
    "dfs[0]['features'].tolist()"
   ]
  },
  {
   "cell_type": "code",
   "execution_count": 65,
   "id": "d478db1c",
   "metadata": {},
   "outputs": [
    {
     "data": {
      "text/plain": [
       "['lemon',\n",
       " 'butter',\n",
       " 'sugar',\n",
       " 'juice',\n",
       " 'qt',\n",
       " 'apple',\n",
       " 'salt',\n",
       " 'light',\n",
       " 'flour',\n",
       " 'unsalted',\n",
       " 'grapefruit',\n",
       " 'brown',\n",
       " 'whole',\n",
       " 'cinnamon',\n",
       " 'potato',\n",
       " 'milk',\n",
       " 'soda',\n",
       " 'baking',\n",
       " 'medium',\n",
       " 'syrup']"
      ]
     },
     "execution_count": 65,
     "metadata": {},
     "output_type": "execute_result"
    }
   ],
   "source": [
    "dfs[3]['features'].tolist()"
   ]
  },
  {
   "cell_type": "code",
   "execution_count": 66,
   "id": "52ddc8ff",
   "metadata": {},
   "outputs": [
    {
     "data": {
      "text/plain": [
       "['slice',\n",
       " 'cheese',\n",
       " 'bread',\n",
       " 'parmesan',\n",
       " 'chicken',\n",
       " 'butter',\n",
       " 'pepper',\n",
       " 'cooking',\n",
       " 'garlic',\n",
       " 'black',\n",
       " 'italian',\n",
       " 'spray',\n",
       " 'olive',\n",
       " 'spaghetti',\n",
       " 'package',\n",
       " 'ground',\n",
       " 'cream',\n",
       " 'salt',\n",
       " 'tomato',\n",
       " 'half']"
      ]
     },
     "execution_count": 66,
     "metadata": {},
     "output_type": "execute_result"
    }
   ],
   "source": [
    "dfs[4]['features'].tolist()"
   ]
  },
  {
   "cell_type": "code",
   "execution_count": 51,
   "id": "e73c980f",
   "metadata": {},
   "outputs": [
    {
     "data": {
      "image/png": "[encoded data removed]",
      "text/plain": [
       "<Figure size 576x288 with 1 Axes>"
      ]
     },
     "metadata": {},
     "output_type": "display_data"
    },
    {
     "data": {
      "image/png": "[encoded data removed]",
      "text/plain": [
       "<Figure size 576x396 with 1 Axes>"
      ]
     },
     "metadata": {},
     "output_type": "display_data"
    }
   ],
   "source": [
    "best_result = 2\n",
    "kmeans = kmeans_results.get(best_result)\n",
    "\n",
    "final_df_array = final_df.to_numpy()\n",
    "prediction = kmeans.predict(final_df)\n",
    "n_feats = 20\n",
    "dfs = get_top_features_cluster(final_df_array, prediction, n_feats)\n",
    "plotWords(dfs, 15)"
   ]
  },
  {
   "cell_type": "code",
   "execution_count": 52,
   "id": "525c5ada",
   "metadata": {},
   "outputs": [
    {
     "data": {
      "image/png": "[encoded data removed]",
      "text/plain": [
       "<Figure size 576x288 with 1 Axes>"
      ]
     },
     "metadata": {},
     "output_type": "display_data"
    },
    {
     "data": {
      "image/png": "[encoded data removed]",
      "text/plain": [
       "<Figure size 576x396 with 1 Axes>"
      ]
     },
     "metadata": {},
     "output_type": "display_data"
    },
    {
     "data": {
      "image/png": "[encoded data removed]",
      "text/plain": [
       "<Figure size 576x396 with 1 Axes>"
      ]
     },
     "metadata": {},
     "output_type": "display_data"
    },
    {
     "data": {
      "image/png": "[encoded data removed]",
      "text/plain": [
       "<Figure size 576x396 with 1 Axes>"
      ]
     },
     "metadata": {},
     "output_type": "display_data"
    }
   ],
   "source": [
    "best_result = 4\n",
    "kmeans = kmeans_results.get(best_result)\n",
    "\n",
    "final_df_array = final_df.to_numpy()\n",
    "prediction = kmeans.predict(final_df)\n",
    "n_feats = 20\n",
    "dfs = get_top_features_cluster(final_df_array, prediction, n_feats)\n",
    "plotWords(dfs, 15)"
   ]
  },
  {
   "cell_type": "code",
   "execution_count": 53,
   "id": "724967ef",
   "metadata": {},
   "outputs": [
    {
     "data": {
      "image/png": "[encoded data removed]",
      "text/plain": [
       "<Figure size 576x288 with 1 Axes>"
      ]
     },
     "metadata": {},
     "output_type": "display_data"
    },
    {
     "data": {
      "image/png": "[encoded data removed]",
      "text/plain": [
       "<Figure size 576x396 with 1 Axes>"
      ]
     },
     "metadata": {},
     "output_type": "display_data"
    },
    {
     "data": {
      "image/png": "[encoded data removed]",
      "text/plain": [
       "<Figure size 576x396 with 1 Axes>"
      ]
     },
     "metadata": {},
     "output_type": "display_data"
    },
    {
     "data": {
      "image/png": "[encoded data removed]",
      "text/plain": [
       "<Figure size 576x396 with 1 Axes>"
      ]
     },
     "metadata": {},
     "output_type": "display_data"
    },
    {
     "data": {
      "image/png": "[encoded data removed]",
      "text/plain": [
       "<Figure size 576x396 with 1 Axes>"
      ]
     },
     "metadata": {},
     "output_type": "display_data"
    },
    {
     "data": {
      "image/png": "[encoded data removed]",
      "text/plain": [
       "<Figure size 576x396 with 1 Axes>"
      ]
     },
     "metadata": {},
     "output_type": "display_data"
    },
    {
     "data": {
      "image/png": "[encoded data removed]",
      "text/plain": [
       "<Figure size 576x396 with 1 Axes>"
      ]
     },
     "metadata": {},
     "output_type": "display_data"
    },
    {
     "data": {
      "image/png": "[encoded data removed]",
      "text/plain": [
       "<Figure size 576x396 with 1 Axes>"
      ]
     },
     "metadata": {},
     "output_type": "display_data"
    }
   ],
   "source": [
    "best_result = 8\n",
    "kmeans = kmeans_results.get(best_result)\n",
    "\n",
    "final_df_array = final_df.to_numpy()\n",
    "prediction = kmeans.predict(final_df)\n",
    "n_feats = 20\n",
    "dfs = get_top_features_cluster(final_df_array, prediction, n_feats)\n",
    "plotWords(dfs, 15)"
   ]
  },
  {
   "cell_type": "code",
   "execution_count": null,
   "id": "7ba86345",
   "metadata": {},
   "outputs": [],
   "source": [
    "pip install wordcloud\n"
   ]
  },
  {
   "cell_type": "code",
   "execution_count": null,
   "id": "48803134",
   "metadata": {},
   "outputs": [],
   "source": []
  },
  {
   "cell_type": "code",
   "execution_count": null,
   "id": "cc3516f2",
   "metadata": {},
   "outputs": [],
   "source": []
  },
  {
   "cell_type": "code",
   "execution_count": null,
   "id": "1bfe9e2d",
   "metadata": {},
   "outputs": [],
   "source": []
  },
  {
   "cell_type": "code",
   "execution_count": null,
   "id": "f82d13ff",
   "metadata": {},
   "outputs": [],
   "source": []
  },
  {
   "cell_type": "code",
   "execution_count": null,
   "id": "1c64d2bc",
   "metadata": {},
   "outputs": [],
   "source": [
    "from wordcloud                        import WordCloud"
   ]
  },
  {
   "cell_type": "code",
   "execution_count": null,
   "id": "c4399ebb",
   "metadata": {},
   "outputs": [],
   "source": [
    "def centroidsDict(centroids, index):\n",
    "    a = centroids.T[index].sort_values(ascending = False).reset_index().values\n",
    "    centroid_dict = dict()\n",
    "\n",
    "    for i in range(0, len(a)):\n",
    "        centroid_dict.update( {a[i,0] : a[i,1]} )\n",
    "\n",
    "    return centroid_dict\n",
    "\n",
    "def generateWordClouds(centroids):\n",
    "    wordcloud = WordCloud(max_font_size=100, background_color = 'white')\n",
    "    for i in range(0, len(centroids)):\n",
    "        centroid_dict = centroidsDict(centroids, i)        \n",
    "        wordcloud.generate_from_frequencies(centroid_dict)\n",
    "\n",
    "        plt.figure()\n",
    "        plt.title('Cluster {}'.format(i))\n",
    "        plt.imshow(wordcloud)\n",
    "        plt.axis(\"off\")\n",
    "        plt.show()"
   ]
  },
  {
   "cell_type": "code",
   "execution_count": null,
   "id": "b34c9d26",
   "metadata": {},
   "outputs": [],
   "source": [
    "centroids = pd.DataFrame(kmeans.cluster_centers_)\n",
    "centroids.columns = final_df.columns\n",
    "generateWordClouds(centroids)"
   ]
  },
  {
   "cell_type": "code",
   "execution_count": null,
   "id": "e264d032",
   "metadata": {},
   "outputs": [],
   "source": []
  },
  {
   "cell_type": "code",
   "execution_count": null,
   "id": "257dc37f",
   "metadata": {},
   "outputs": [],
   "source": []
  },
  {
   "cell_type": "code",
   "execution_count": null,
   "id": "0ecbcfbf",
   "metadata": {},
   "outputs": [],
   "source": []
  },
  {
   "cell_type": "code",
   "execution_count": null,
   "id": "9112627b",
   "metadata": {},
   "outputs": [],
   "source": []
  },
  {
   "cell_type": "code",
   "execution_count": null,
   "id": "7baf88ec",
   "metadata": {},
   "outputs": [],
   "source": []
  },
  {
   "cell_type": "markdown",
   "id": "0403fcea",
   "metadata": {},
   "source": [
    "KNN on the directions column"
   ]
  },
  {
   "cell_type": "code",
   "execution_count": null,
   "id": "0d9a14d8",
   "metadata": {},
   "outputs": [],
   "source": []
  },
  {
   "cell_type": "code",
   "execution_count": null,
   "id": "62a29710",
   "metadata": {},
   "outputs": [],
   "source": []
  },
  {
   "cell_type": "code",
   "execution_count": null,
   "id": "21db4782",
   "metadata": {},
   "outputs": [],
   "source": []
  }
 ],
 "metadata": {
  "kernelspec": {
   "display_name": "Python 3 (ipykernel)",
   "language": "python",
   "name": "python3"
  },
  "language_info": {
   "codemirror_mode": {
    "name": "ipython",
    "version": 3
   },
   "file_extension": ".py",
   "mimetype": "text/x-python",
   "name": "python",
   "nbconvert_exporter": "python",
   "pygments_lexer": "ipython3",
   "version": "3.9.7"
  }
 },
 "nbformat": 4,
 "nbformat_minor": 5
}
